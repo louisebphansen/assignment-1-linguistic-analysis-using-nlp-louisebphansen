{
 "cells": [
  {
   "cell_type": "code",
   "execution_count": 1,
   "metadata": {},
   "outputs": [
    {
     "name": "stdout",
     "output_type": "stream",
     "text": [
      "Defaulting to user installation because normal site-packages is not writeable\n",
      "Collecting spacy\n",
      "  Downloading spacy-3.7.4-cp310-cp310-manylinux_2_17_x86_64.manylinux2014_x86_64.whl.metadata (27 kB)\n",
      "Collecting pandas\n",
      "  Downloading pandas-2.2.0-cp310-cp310-manylinux_2_17_x86_64.manylinux2014_x86_64.whl.metadata (19 kB)\n",
      "Collecting spacy-legacy<3.1.0,>=3.0.11 (from spacy)\n",
      "  Downloading spacy_legacy-3.0.12-py2.py3-none-any.whl.metadata (2.8 kB)\n",
      "Collecting spacy-loggers<2.0.0,>=1.0.0 (from spacy)\n",
      "  Downloading spacy_loggers-1.0.5-py3-none-any.whl.metadata (23 kB)\n",
      "Collecting murmurhash<1.1.0,>=0.28.0 (from spacy)\n",
      "  Downloading murmurhash-1.0.10-cp310-cp310-manylinux_2_5_x86_64.manylinux1_x86_64.manylinux_2_17_x86_64.manylinux2014_x86_64.whl.metadata (2.0 kB)\n",
      "Collecting cymem<2.1.0,>=2.0.2 (from spacy)\n",
      "  Downloading cymem-2.0.8-cp310-cp310-manylinux_2_17_x86_64.manylinux2014_x86_64.whl.metadata (8.4 kB)\n",
      "Collecting preshed<3.1.0,>=3.0.2 (from spacy)\n",
      "  Downloading preshed-3.0.9-cp310-cp310-manylinux_2_5_x86_64.manylinux1_x86_64.manylinux_2_17_x86_64.manylinux2014_x86_64.whl.metadata (2.2 kB)\n",
      "Collecting thinc<8.3.0,>=8.2.2 (from spacy)\n",
      "  Downloading thinc-8.2.3-cp310-cp310-manylinux_2_17_x86_64.manylinux2014_x86_64.whl.metadata (15 kB)\n",
      "Collecting wasabi<1.2.0,>=0.9.1 (from spacy)\n",
      "  Downloading wasabi-1.1.2-py3-none-any.whl.metadata (28 kB)\n",
      "Collecting srsly<3.0.0,>=2.4.3 (from spacy)\n",
      "  Downloading srsly-2.4.8-cp310-cp310-manylinux_2_17_x86_64.manylinux2014_x86_64.whl.metadata (20 kB)\n",
      "Collecting catalogue<2.1.0,>=2.0.6 (from spacy)\n",
      "  Downloading catalogue-2.0.10-py3-none-any.whl.metadata (14 kB)\n",
      "Collecting weasel<0.4.0,>=0.1.0 (from spacy)\n",
      "  Downloading weasel-0.3.4-py3-none-any.whl.metadata (4.7 kB)\n",
      "Collecting typer<0.10.0,>=0.3.0 (from spacy)\n",
      "  Downloading typer-0.9.0-py3-none-any.whl.metadata (14 kB)\n",
      "Collecting smart-open<7.0.0,>=5.2.1 (from spacy)\n",
      "  Downloading smart_open-6.4.0-py3-none-any.whl.metadata (21 kB)\n",
      "Collecting tqdm<5.0.0,>=4.38.0 (from spacy)\n",
      "  Downloading tqdm-4.66.2-py3-none-any.whl.metadata (57 kB)\n",
      "\u001b[2K     \u001b[90m━━━━━━━━━━━━━━━━━━━━━━━━━━━━━━━━━━━━━━━━\u001b[0m \u001b[32m57.6/57.6 kB\u001b[0m \u001b[31m1.7 MB/s\u001b[0m eta \u001b[36m0:00:00\u001b[0m\n",
      "\u001b[?25hRequirement already satisfied: requests<3.0.0,>=2.13.0 in /home/ucloud/.local/lib/python3.10/site-packages (from spacy) (2.31.0)\n",
      "Collecting pydantic!=1.8,!=1.8.1,<3.0.0,>=1.7.4 (from spacy)\n",
      "  Downloading pydantic-2.6.1-py3-none-any.whl.metadata (83 kB)\n",
      "\u001b[2K     \u001b[90m━━━━━━━━━━━━━━━━━━━━━━━━━━━━━━━━━━━━━━━━\u001b[0m \u001b[32m83.5/83.5 kB\u001b[0m \u001b[31m1.3 MB/s\u001b[0m eta \u001b[36m0:00:00\u001b[0m:00:01\u001b[0m\n",
      "\u001b[?25hRequirement already satisfied: jinja2 in /home/ucloud/.local/lib/python3.10/site-packages (from spacy) (3.1.3)\n",
      "Requirement already satisfied: setuptools in /usr/lib/python3/dist-packages (from spacy) (59.6.0)\n",
      "Requirement already satisfied: packaging>=20.0 in /home/ucloud/.local/lib/python3.10/site-packages (from spacy) (23.2)\n",
      "Collecting langcodes<4.0.0,>=3.2.0 (from spacy)\n",
      "  Downloading langcodes-3.3.0-py3-none-any.whl (181 kB)\n",
      "\u001b[2K     \u001b[90m━━━━━━━━━━━━━━━━━━━━━━━━━━━━━━━━━━━━━━━\u001b[0m \u001b[32m181.6/181.6 kB\u001b[0m \u001b[31m4.5 MB/s\u001b[0m eta \u001b[36m0:00:00\u001b[0ma \u001b[36m0:00:01\u001b[0m\n",
      "\u001b[?25hCollecting numpy>=1.19.0 (from spacy)\n",
      "  Downloading numpy-1.26.4-cp310-cp310-manylinux_2_17_x86_64.manylinux2014_x86_64.whl.metadata (61 kB)\n",
      "\u001b[2K     \u001b[90m━━━━━━━━━━━━━━━━━━━━━━━━━━━━━━━━━━━━━━━━\u001b[0m \u001b[32m61.0/61.0 kB\u001b[0m \u001b[31m1.9 MB/s\u001b[0m eta \u001b[36m0:00:00\u001b[0m\n",
      "\u001b[?25hRequirement already satisfied: python-dateutil>=2.8.2 in /home/ucloud/.local/lib/python3.10/site-packages (from pandas) (2.8.2)\n",
      "Collecting pytz>=2020.1 (from pandas)\n",
      "  Downloading pytz-2024.1-py2.py3-none-any.whl.metadata (22 kB)\n",
      "Collecting tzdata>=2022.7 (from pandas)\n",
      "  Downloading tzdata-2024.1-py2.py3-none-any.whl.metadata (1.4 kB)\n",
      "Collecting annotated-types>=0.4.0 (from pydantic!=1.8,!=1.8.1,<3.0.0,>=1.7.4->spacy)\n",
      "  Downloading annotated_types-0.6.0-py3-none-any.whl.metadata (12 kB)\n",
      "Collecting pydantic-core==2.16.2 (from pydantic!=1.8,!=1.8.1,<3.0.0,>=1.7.4->spacy)\n",
      "  Downloading pydantic_core-2.16.2-cp310-cp310-manylinux_2_17_x86_64.manylinux2014_x86_64.whl.metadata (6.5 kB)\n",
      "Requirement already satisfied: typing-extensions>=4.6.1 in /home/ucloud/.local/lib/python3.10/site-packages (from pydantic!=1.8,!=1.8.1,<3.0.0,>=1.7.4->spacy) (4.9.0)\n",
      "Requirement already satisfied: six>=1.5 in /usr/lib/python3/dist-packages (from python-dateutil>=2.8.2->pandas) (1.16.0)\n",
      "Requirement already satisfied: charset-normalizer<4,>=2 in /home/ucloud/.local/lib/python3.10/site-packages (from requests<3.0.0,>=2.13.0->spacy) (3.3.2)\n",
      "Requirement already satisfied: idna<4,>=2.5 in /home/ucloud/.local/lib/python3.10/site-packages (from requests<3.0.0,>=2.13.0->spacy) (3.6)\n",
      "Requirement already satisfied: urllib3<3,>=1.21.1 in /home/ucloud/.local/lib/python3.10/site-packages (from requests<3.0.0,>=2.13.0->spacy) (2.2.0)\n",
      "Requirement already satisfied: certifi>=2017.4.17 in /home/ucloud/.local/lib/python3.10/site-packages (from requests<3.0.0,>=2.13.0->spacy) (2024.2.2)\n",
      "Collecting blis<0.8.0,>=0.7.8 (from thinc<8.3.0,>=8.2.2->spacy)\n",
      "  Downloading blis-0.7.11-cp310-cp310-manylinux_2_17_x86_64.manylinux2014_x86_64.whl.metadata (7.4 kB)\n",
      "Collecting confection<1.0.0,>=0.0.1 (from thinc<8.3.0,>=8.2.2->spacy)\n",
      "  Downloading confection-0.1.4-py3-none-any.whl.metadata (19 kB)\n",
      "Requirement already satisfied: click<9.0.0,>=7.1.1 in /usr/lib/python3/dist-packages (from typer<0.10.0,>=0.3.0->spacy) (8.0.3)\n",
      "Collecting cloudpathlib<0.17.0,>=0.7.0 (from weasel<0.4.0,>=0.1.0->spacy)\n",
      "  Downloading cloudpathlib-0.16.0-py3-none-any.whl.metadata (14 kB)\n",
      "Requirement already satisfied: MarkupSafe>=2.0 in /home/ucloud/.local/lib/python3.10/site-packages (from jinja2->spacy) (2.1.5)\n",
      "Downloading spacy-3.7.4-cp310-cp310-manylinux_2_17_x86_64.manylinux2014_x86_64.whl (6.6 MB)\n",
      "\u001b[2K   \u001b[90m━━━━━━━━━━━━━━━━━━━━━━━━━━━━━━━━━━━━━━━━\u001b[0m \u001b[32m6.6/6.6 MB\u001b[0m \u001b[31m24.3 MB/s\u001b[0m eta \u001b[36m0:00:00\u001b[0m00:01\u001b[0m00:01\u001b[0m\n",
      "\u001b[?25hDownloading pandas-2.2.0-cp310-cp310-manylinux_2_17_x86_64.manylinux2014_x86_64.whl (13.0 MB)\n",
      "\u001b[2K   \u001b[90m━━━━━━━━━━━━━━━━━━━━━━━━━━━━━━━━━━━━━━━━\u001b[0m \u001b[32m13.0/13.0 MB\u001b[0m \u001b[31m60.0 MB/s\u001b[0m eta \u001b[36m0:00:00\u001b[0m:00:01\u001b[0m00:01\u001b[0m\n",
      "\u001b[?25hDownloading catalogue-2.0.10-py3-none-any.whl (17 kB)\n",
      "Downloading cymem-2.0.8-cp310-cp310-manylinux_2_17_x86_64.manylinux2014_x86_64.whl (46 kB)\n",
      "\u001b[2K   \u001b[90m━━━━━━━━━━━━━━━━━━━━━━━━━━━━━━━━━━━━━━━━\u001b[0m \u001b[32m46.1/46.1 kB\u001b[0m \u001b[31m1.9 MB/s\u001b[0m eta \u001b[36m0:00:00\u001b[0m\n",
      "\u001b[?25hDownloading murmurhash-1.0.10-cp310-cp310-manylinux_2_5_x86_64.manylinux1_x86_64.manylinux_2_17_x86_64.manylinux2014_x86_64.whl (29 kB)\n",
      "Downloading numpy-1.26.4-cp310-cp310-manylinux_2_17_x86_64.manylinux2014_x86_64.whl (18.2 MB)\n",
      "\u001b[2K   \u001b[90m━━━━━━━━━━━━━━━━━━━━━━━━━━━━━━━━━━━━━━━━\u001b[0m \u001b[32m18.2/18.2 MB\u001b[0m \u001b[31m34.9 MB/s\u001b[0m eta \u001b[36m0:00:00\u001b[0m:00:01\u001b[0m00:01\u001b[0m\n",
      "\u001b[?25hDownloading preshed-3.0.9-cp310-cp310-manylinux_2_5_x86_64.manylinux1_x86_64.manylinux_2_17_x86_64.manylinux2014_x86_64.whl (156 kB)\n",
      "\u001b[2K   \u001b[90m━━━━━━━━━━━━━━━━━━━━━━━━━━━━━━━━━━━━━━━━\u001b[0m \u001b[32m156.9/156.9 kB\u001b[0m \u001b[31m3.8 MB/s\u001b[0m eta \u001b[36m0:00:00\u001b[0m:00:01\u001b[0m\n",
      "\u001b[?25hDownloading pydantic-2.6.1-py3-none-any.whl (394 kB)\n",
      "\u001b[2K   \u001b[90m━━━━━━━━━━━━━━━━━━━━━━━━━━━━━━━━━━━━━━━━\u001b[0m \u001b[32m394.8/394.8 kB\u001b[0m \u001b[31m10.2 MB/s\u001b[0m eta \u001b[36m0:00:00\u001b[0m00:01\u001b[0m\n",
      "\u001b[?25hDownloading pydantic_core-2.16.2-cp310-cp310-manylinux_2_17_x86_64.manylinux2014_x86_64.whl (2.2 MB)\n",
      "\u001b[2K   \u001b[90m━━━━━━━━━━━━━━━━━━━━━━━━━━━━━━━━━━━━━━━━\u001b[0m \u001b[32m2.2/2.2 MB\u001b[0m \u001b[31m20.7 MB/s\u001b[0m eta \u001b[36m0:00:00\u001b[0m:00:01\u001b[0m\n",
      "\u001b[?25hDownloading pytz-2024.1-py2.py3-none-any.whl (505 kB)\n",
      "\u001b[2K   \u001b[90m━━━━━━━━━━━━━━━━━━━━━━━━━━━━━━━━━━━━━━━━\u001b[0m \u001b[32m505.5/505.5 kB\u001b[0m \u001b[31m9.8 MB/s\u001b[0m eta \u001b[36m0:00:00\u001b[0m:00:01\u001b[0m\n",
      "\u001b[?25hDownloading smart_open-6.4.0-py3-none-any.whl (57 kB)\n",
      "\u001b[2K   \u001b[90m━━━━━━━━━━━━━━━━━━━━━━━━━━━━━━━━━━━━━━━━\u001b[0m \u001b[32m57.0/57.0 kB\u001b[0m \u001b[31m1.3 MB/s\u001b[0m eta \u001b[36m0:00:00\u001b[0meta \u001b[36m0:00:01\u001b[0m\n",
      "\u001b[?25hDownloading spacy_legacy-3.0.12-py2.py3-none-any.whl (29 kB)\n",
      "Downloading spacy_loggers-1.0.5-py3-none-any.whl (22 kB)\n",
      "Downloading srsly-2.4.8-cp310-cp310-manylinux_2_17_x86_64.manylinux2014_x86_64.whl (493 kB)\n",
      "\u001b[2K   \u001b[90m━━━━━━━━━━━━━━━━━━━━━━━━━━━━━━━━━━━━━━━━\u001b[0m \u001b[32m493.0/493.0 kB\u001b[0m \u001b[31m12.8 MB/s\u001b[0m eta \u001b[36m0:00:00\u001b[0m00:01\u001b[0m\n",
      "\u001b[?25hDownloading thinc-8.2.3-cp310-cp310-manylinux_2_17_x86_64.manylinux2014_x86_64.whl (922 kB)\n",
      "\u001b[2K   \u001b[90m━━━━━━━━━━━━━━━━━━━━━━━━━━━━━━━━━━━━━━━━\u001b[0m \u001b[32m922.3/922.3 kB\u001b[0m \u001b[31m14.1 MB/s\u001b[0m eta \u001b[36m0:00:00\u001b[0m00:01\u001b[0m\n",
      "\u001b[?25hDownloading tqdm-4.66.2-py3-none-any.whl (78 kB)\n",
      "\u001b[2K   \u001b[90m━━━━━━━━━━━━━━━━━━━━━━━━━━━━━━━━━━━━━━━━\u001b[0m \u001b[32m78.3/78.3 kB\u001b[0m \u001b[31m1.4 MB/s\u001b[0m eta \u001b[36m0:00:00\u001b[0meta \u001b[36m0:00:01\u001b[0m\n",
      "\u001b[?25hDownloading typer-0.9.0-py3-none-any.whl (45 kB)\n",
      "\u001b[2K   \u001b[90m━━━━━━━━━━━━━━━━━━━━━━━━━━━━━━━━━━━━━━━━\u001b[0m \u001b[32m45.9/45.9 kB\u001b[0m \u001b[31m2.0 MB/s\u001b[0m eta \u001b[36m0:00:00\u001b[0m\n",
      "\u001b[?25hDownloading tzdata-2024.1-py2.py3-none-any.whl (345 kB)\n",
      "\u001b[2K   \u001b[90m━━━━━━━━━━━━━━━━━━━━━━━━━━━━━━━━━━━━━━━━\u001b[0m \u001b[32m345.4/345.4 kB\u001b[0m \u001b[31m12.1 MB/s\u001b[0m eta \u001b[36m0:00:00\u001b[0m\n",
      "\u001b[?25hDownloading wasabi-1.1.2-py3-none-any.whl (27 kB)\n",
      "Downloading weasel-0.3.4-py3-none-any.whl (50 kB)\n",
      "\u001b[2K   \u001b[90m━━━━━━━━━━━━━━━━━━━━━━━━━━━━━━━━━━━━━━━━\u001b[0m \u001b[32m50.1/50.1 kB\u001b[0m \u001b[31m1.3 MB/s\u001b[0m eta \u001b[36m0:00:00\u001b[0m\n",
      "\u001b[?25hDownloading annotated_types-0.6.0-py3-none-any.whl (12 kB)\n",
      "Downloading blis-0.7.11-cp310-cp310-manylinux_2_17_x86_64.manylinux2014_x86_64.whl (10.2 MB)\n",
      "\u001b[2K   \u001b[90m━━━━━━━━━━━━━━━━━━━━━━━━━━━━━━━━━━━━━━━━\u001b[0m \u001b[32m10.2/10.2 MB\u001b[0m \u001b[31m54.7 MB/s\u001b[0m eta \u001b[36m0:00:00\u001b[0m:00:01\u001b[0m0:01\u001b[0m\n",
      "\u001b[?25hDownloading cloudpathlib-0.16.0-py3-none-any.whl (45 kB)\n",
      "\u001b[2K   \u001b[90m━━━━━━━━━━━━━━━━━━━━━━━━━━━━━━━━━━━━━━━━\u001b[0m \u001b[32m45.0/45.0 kB\u001b[0m \u001b[31m2.6 MB/s\u001b[0m eta \u001b[36m0:00:00\u001b[0m\n",
      "\u001b[?25hDownloading confection-0.1.4-py3-none-any.whl (35 kB)\n",
      "Installing collected packages: pytz, cymem, wasabi, tzdata, typer, tqdm, spacy-loggers, spacy-legacy, smart-open, pydantic-core, numpy, murmurhash, langcodes, cloudpathlib, catalogue, annotated-types, srsly, pydantic, preshed, pandas, blis, confection, weasel, thinc, spacy\n",
      "Successfully installed annotated-types-0.6.0 blis-0.7.11 catalogue-2.0.10 cloudpathlib-0.16.0 confection-0.1.4 cymem-2.0.8 langcodes-3.3.0 murmurhash-1.0.10 numpy-1.26.4 pandas-2.2.0 preshed-3.0.9 pydantic-2.6.1 pydantic-core-2.16.2 pytz-2024.1 smart-open-6.4.0 spacy-3.7.4 spacy-legacy-3.0.12 spacy-loggers-1.0.5 srsly-2.4.8 thinc-8.2.3 tqdm-4.66.2 typer-0.9.0 tzdata-2024.1 wasabi-1.1.2 weasel-0.3.4\n",
      "Note: you may need to restart the kernel to use updated packages.\n"
     ]
    }
   ],
   "source": [
    "pip install spacy pandas"
   ]
  },
  {
   "cell_type": "code",
   "execution_count": 2,
   "metadata": {},
   "outputs": [
    {
     "name": "stdout",
     "output_type": "stream",
     "text": [
      "Defaulting to user installation because normal site-packages is not writeable\n",
      "Collecting en-core-web-md==3.7.1\n",
      "  Downloading https://github.com/explosion/spacy-models/releases/download/en_core_web_md-3.7.1/en_core_web_md-3.7.1-py3-none-any.whl (42.8 MB)\n",
      "\u001b[2K     \u001b[90m━━━━━━━━━━━━━━━━━━━━━━━━━━━━━━━━━━━━━━━━\u001b[0m \u001b[32m42.8/42.8 MB\u001b[0m \u001b[31m20.3 MB/s\u001b[0m eta \u001b[36m0:00:00\u001b[0m00:01\u001b[0m00:01\u001b[0m\n",
      "\u001b[?25hRequirement already satisfied: spacy<3.8.0,>=3.7.2 in /home/ucloud/.local/lib/python3.10/site-packages (from en-core-web-md==3.7.1) (3.7.4)\n",
      "Requirement already satisfied: spacy-legacy<3.1.0,>=3.0.11 in /home/ucloud/.local/lib/python3.10/site-packages (from spacy<3.8.0,>=3.7.2->en-core-web-md==3.7.1) (3.0.12)\n",
      "Requirement already satisfied: spacy-loggers<2.0.0,>=1.0.0 in /home/ucloud/.local/lib/python3.10/site-packages (from spacy<3.8.0,>=3.7.2->en-core-web-md==3.7.1) (1.0.5)\n",
      "Requirement already satisfied: murmurhash<1.1.0,>=0.28.0 in /home/ucloud/.local/lib/python3.10/site-packages (from spacy<3.8.0,>=3.7.2->en-core-web-md==3.7.1) (1.0.10)\n",
      "Requirement already satisfied: cymem<2.1.0,>=2.0.2 in /home/ucloud/.local/lib/python3.10/site-packages (from spacy<3.8.0,>=3.7.2->en-core-web-md==3.7.1) (2.0.8)\n",
      "Requirement already satisfied: preshed<3.1.0,>=3.0.2 in /home/ucloud/.local/lib/python3.10/site-packages (from spacy<3.8.0,>=3.7.2->en-core-web-md==3.7.1) (3.0.9)\n",
      "Requirement already satisfied: thinc<8.3.0,>=8.2.2 in /home/ucloud/.local/lib/python3.10/site-packages (from spacy<3.8.0,>=3.7.2->en-core-web-md==3.7.1) (8.2.3)\n",
      "Requirement already satisfied: wasabi<1.2.0,>=0.9.1 in /home/ucloud/.local/lib/python3.10/site-packages (from spacy<3.8.0,>=3.7.2->en-core-web-md==3.7.1) (1.1.2)\n",
      "Requirement already satisfied: srsly<3.0.0,>=2.4.3 in /home/ucloud/.local/lib/python3.10/site-packages (from spacy<3.8.0,>=3.7.2->en-core-web-md==3.7.1) (2.4.8)\n",
      "Requirement already satisfied: catalogue<2.1.0,>=2.0.6 in /home/ucloud/.local/lib/python3.10/site-packages (from spacy<3.8.0,>=3.7.2->en-core-web-md==3.7.1) (2.0.10)\n",
      "Requirement already satisfied: weasel<0.4.0,>=0.1.0 in /home/ucloud/.local/lib/python3.10/site-packages (from spacy<3.8.0,>=3.7.2->en-core-web-md==3.7.1) (0.3.4)\n",
      "Requirement already satisfied: typer<0.10.0,>=0.3.0 in /home/ucloud/.local/lib/python3.10/site-packages (from spacy<3.8.0,>=3.7.2->en-core-web-md==3.7.1) (0.9.0)\n",
      "Requirement already satisfied: smart-open<7.0.0,>=5.2.1 in /home/ucloud/.local/lib/python3.10/site-packages (from spacy<3.8.0,>=3.7.2->en-core-web-md==3.7.1) (6.4.0)\n",
      "Requirement already satisfied: tqdm<5.0.0,>=4.38.0 in /home/ucloud/.local/lib/python3.10/site-packages (from spacy<3.8.0,>=3.7.2->en-core-web-md==3.7.1) (4.66.2)\n",
      "Requirement already satisfied: requests<3.0.0,>=2.13.0 in /home/ucloud/.local/lib/python3.10/site-packages (from spacy<3.8.0,>=3.7.2->en-core-web-md==3.7.1) (2.31.0)\n",
      "Requirement already satisfied: pydantic!=1.8,!=1.8.1,<3.0.0,>=1.7.4 in /home/ucloud/.local/lib/python3.10/site-packages (from spacy<3.8.0,>=3.7.2->en-core-web-md==3.7.1) (2.6.1)\n",
      "Requirement already satisfied: jinja2 in /home/ucloud/.local/lib/python3.10/site-packages (from spacy<3.8.0,>=3.7.2->en-core-web-md==3.7.1) (3.1.3)\n",
      "Requirement already satisfied: setuptools in /usr/lib/python3/dist-packages (from spacy<3.8.0,>=3.7.2->en-core-web-md==3.7.1) (59.6.0)\n",
      "Requirement already satisfied: packaging>=20.0 in /home/ucloud/.local/lib/python3.10/site-packages (from spacy<3.8.0,>=3.7.2->en-core-web-md==3.7.1) (23.2)\n",
      "Requirement already satisfied: langcodes<4.0.0,>=3.2.0 in /home/ucloud/.local/lib/python3.10/site-packages (from spacy<3.8.0,>=3.7.2->en-core-web-md==3.7.1) (3.3.0)\n",
      "Requirement already satisfied: numpy>=1.19.0 in /home/ucloud/.local/lib/python3.10/site-packages (from spacy<3.8.0,>=3.7.2->en-core-web-md==3.7.1) (1.26.4)\n",
      "Requirement already satisfied: annotated-types>=0.4.0 in /home/ucloud/.local/lib/python3.10/site-packages (from pydantic!=1.8,!=1.8.1,<3.0.0,>=1.7.4->spacy<3.8.0,>=3.7.2->en-core-web-md==3.7.1) (0.6.0)\n",
      "Requirement already satisfied: pydantic-core==2.16.2 in /home/ucloud/.local/lib/python3.10/site-packages (from pydantic!=1.8,!=1.8.1,<3.0.0,>=1.7.4->spacy<3.8.0,>=3.7.2->en-core-web-md==3.7.1) (2.16.2)\n",
      "Requirement already satisfied: typing-extensions>=4.6.1 in /home/ucloud/.local/lib/python3.10/site-packages (from pydantic!=1.8,!=1.8.1,<3.0.0,>=1.7.4->spacy<3.8.0,>=3.7.2->en-core-web-md==3.7.1) (4.9.0)\n",
      "Requirement already satisfied: charset-normalizer<4,>=2 in /home/ucloud/.local/lib/python3.10/site-packages (from requests<3.0.0,>=2.13.0->spacy<3.8.0,>=3.7.2->en-core-web-md==3.7.1) (3.3.2)\n",
      "Requirement already satisfied: idna<4,>=2.5 in /home/ucloud/.local/lib/python3.10/site-packages (from requests<3.0.0,>=2.13.0->spacy<3.8.0,>=3.7.2->en-core-web-md==3.7.1) (3.6)\n",
      "Requirement already satisfied: urllib3<3,>=1.21.1 in /home/ucloud/.local/lib/python3.10/site-packages (from requests<3.0.0,>=2.13.0->spacy<3.8.0,>=3.7.2->en-core-web-md==3.7.1) (2.2.0)\n",
      "Requirement already satisfied: certifi>=2017.4.17 in /home/ucloud/.local/lib/python3.10/site-packages (from requests<3.0.0,>=2.13.0->spacy<3.8.0,>=3.7.2->en-core-web-md==3.7.1) (2024.2.2)\n",
      "Requirement already satisfied: blis<0.8.0,>=0.7.8 in /home/ucloud/.local/lib/python3.10/site-packages (from thinc<8.3.0,>=8.2.2->spacy<3.8.0,>=3.7.2->en-core-web-md==3.7.1) (0.7.11)\n",
      "Requirement already satisfied: confection<1.0.0,>=0.0.1 in /home/ucloud/.local/lib/python3.10/site-packages (from thinc<8.3.0,>=8.2.2->spacy<3.8.0,>=3.7.2->en-core-web-md==3.7.1) (0.1.4)\n",
      "Requirement already satisfied: click<9.0.0,>=7.1.1 in /usr/lib/python3/dist-packages (from typer<0.10.0,>=0.3.0->spacy<3.8.0,>=3.7.2->en-core-web-md==3.7.1) (8.0.3)\n",
      "Requirement already satisfied: cloudpathlib<0.17.0,>=0.7.0 in /home/ucloud/.local/lib/python3.10/site-packages (from weasel<0.4.0,>=0.1.0->spacy<3.8.0,>=3.7.2->en-core-web-md==3.7.1) (0.16.0)\n",
      "Requirement already satisfied: MarkupSafe>=2.0 in /home/ucloud/.local/lib/python3.10/site-packages (from jinja2->spacy<3.8.0,>=3.7.2->en-core-web-md==3.7.1) (2.1.5)\n",
      "Installing collected packages: en-core-web-md\n",
      "Successfully installed en-core-web-md-3.7.1\n",
      "\u001b[38;5;2m✔ Download and installation successful\u001b[0m\n",
      "You can now load the package via spacy.load('en_core_web_md')\n"
     ]
    }
   ],
   "source": [
    "!python -m spacy download en_core_web_md"
   ]
  },
  {
   "cell_type": "markdown",
   "metadata": {},
   "source": [
    "For this exercise, you should write some code which does the following:\n",
    "\n",
    "Loop over each text file in the folder called in\n",
    "\n",
    "Extract the following information:\n",
    "\n",
    "Relative frequency of Nouns, Verbs, Adjective, and Adverbs per 10,000 words\n",
    "\n",
    "Total number of unique PER, LOC, ORGS\n",
    "\n",
    "For each sub-folder (a1, a2, a3, ...) save a table which shows the following information:"
   ]
  },
  {
   "cell_type": "code",
   "execution_count": 3,
   "metadata": {},
   "outputs": [
    {
     "name": "stderr",
     "output_type": "stream",
     "text": [
      "/tmp/ipykernel_210/1801306469.py:3: DeprecationWarning: \n",
      "Pyarrow will become a required dependency of pandas in the next major release of pandas (pandas 3.0),\n",
      "(to allow more performant data types, such as the Arrow string type, and better interoperability with other libraries)\n",
      "but was not found to be installed on your system.\n",
      "If this would cause problems for you,\n",
      "please provide us feedback at https://github.com/pandas-dev/pandas/issues/54466\n",
      "        \n",
      "  import pandas as pd\n"
     ]
    }
   ],
   "source": [
    "import os \n",
    "import spacy\n",
    "import pandas as pd\n",
    "import re"
   ]
  },
  {
   "cell_type": "code",
   "execution_count": 11,
   "metadata": {},
   "outputs": [
    {
     "name": "stdout",
     "output_type": "stream",
     "text": [
      "['0223.b7.txt', '0238.b7.txt', '0219.b7.txt', '0151.b7.txt', '0186.b7.txt', '0224.b7.txt', '0157.b7.txt', '0137.b7.txt', '0158.b7.txt', '0318.b7.txt', '0185.b7.txt', '0198.b7.txt', '0106.b7.txt', '0178.b7.txt', '0107.b7.txt']\n",
      "['0318.b6.txt', '0223.b6.txt', '0151.b6.txt', '0178.b6.txt', '0137.b6.txt', '0219.b6.txt', '0238.b6.txt', '0107.b6.txt', '0157.b6.txt', '0185.b6.txt', '0198.b6.txt', '0158.b6.txt']\n",
      "['0106.a1.txt', '0155.a1.txt', '1027.a1.txt', '2045.a1.txt', '1037.a1.txt', '0108.a1.txt', '1031.a1.txt', '3041.a1.txt', '1058.a1.txt', '3064.a1.txt', '0107.a1.txt', '3065.a1.txt', '1073.a1.txt', '1098.a1.txt', '2030.a1.txt', '1049.a1.txt', '1074.a1.txt', '0125.a1.txt', '1077.a1.txt', '2019.a1.txt', '0116.a1.txt', '0158.a1.txt', '0205.a1.txt', '2008.a1.txt', '2004.a1.txt', '0221.a1.txt', '1043.a1.txt', '4043.a1.txt', '2000.a1.txt', '0203.a1.txt', '0227.a1.txt', '0142.a1.txt', '0138.a1.txt', '2056.a1.txt', '3002.a1.txt', '1092.a1.txt', '1088.a1.txt', '0143.a1.txt', '5022.a1.txt', '0105.a1.txt', '2005.a1.txt', '1095.a1.txt', '3013.a1.txt', '0216.a1.txt', '2040.a1.txt', '1097.a1.txt', '1057.a1.txt', '2042.a1.txt', '0157.a1.txt', '0102.a1.txt', '0178.a1.txt', '1019.a1.txt', '0100.a1.txt', '2022.a1.txt', '0111.a1.txt', '1001.a1.txt', '0173.a1.txt', '0134.a1.txt', '5015.a1.txt', '3005.a1.txt', '5005.a1.txt', '1105.a1.txt', '0113.a1.txt', '0135.a1.txt', '1106.a1.txt', '2063.a1.txt', '2036.a1.txt', '2027.a1.txt', '1010.a1.txt', '0177.a1.txt', '1067.a1.txt', '0127.a1.txt', '1094.a1.txt', '0208.a1.txt', '0124.a1.txt', '0224.a1.txt', '0109.a1.txt', '2067.a1.txt', '0176.a1.txt', '3072.a1.txt', '0197.a1.txt', '2034.a1.txt', '1042.a1.txt', '2017.a1.txt', '1014.a1.txt', '0194.a1.txt', '0189.a1.txt', '1064.a1.txt', '1022.a1.txt', '0165.a1.txt', '1054.a1.txt', '0209.a1.txt', '1038.a1.txt', '1072.a1.txt', '0180.a1.txt', '2075.a1.txt', '0186.a1.txt', '3018.a1.txt', '1065.a1.txt', '0151.a1.txt', '0218.a1.txt', '0164.a1.txt', '0169.a1.txt', '0190.a1.txt', '5031.a1.txt', '0156.a1.txt', '3011.a1.txt', '2041.a1.txt', '3038.a1.txt', '2074.a1.txt', '2059.a1.txt', '0136.a1.txt', '1069.a1.txt', '1060.a1.txt', '1017.a1.txt', '0182.a1.txt', '1016.a1.txt', '2070.a1.txt', '0214.a1.txt', '0112.a1.txt', '3045.a1.txt', '2069.a1.txt', '2066.a1.txt', '2049.a1.txt', '1003.a1.txt', '4011.a1.txt', '0128.a1.txt', '2021.a1.txt', '0152.a1.txt', '1039.a1.txt', '1070.a1.txt', '1026.a1.txt', '1009.a1.txt', '3023.a1.txt', '2011.a1.txt', '2015.a1.txt', '0188.a1.txt', '0198.a1.txt', '0196.a1.txt', '1109.a1.txt', '3012.a1.txt', '0121.a1.txt', '2057.a1.txt', '0122.a1.txt', '3066.a1.txt', '0114.a1.txt', '0222.a1.txt', '0140.a1.txt', '1056.a1.txt', '0217.a1.txt', '1100.a1.txt', '2024.a1.txt', '2023.a1.txt', '2064.a1.txt', '1068.a1.txt', '2046.a1.txt', '3042.a1.txt', '1103.a1.txt', '2044.a1.txt', '0161.a1.txt', '2026.a1.txt', '2054.a1.txt', '0215.a1.txt', '0162.a1.txt', '2073.a1.txt', '0175.a1.txt', '0110.a1.txt', '3044.a1.txt', '0171.a1.txt', '1078.a1.txt', '0139.a1.txt', '0223.a1.txt', '0167.a1.txt', '1089.a1.txt', '0213.a1.txt', '0104.a1.txt', '0236.a1.txt', '1018.a1.txt', '0137.a1.txt', '1096.a1.txt', '0191.a1.txt', '1121.a1.txt', '0119.a1.txt', '3039.a1.txt', '1050.a1.txt', '0179.a1.txt', '3068.a1.txt', '0120.a1.txt', '3062.a1.txt', '1007.a1.txt', '1008.a1.txt', '4042.a1.txt', '1063.a1.txt', '2039.a1.txt', '2013.a1.txt', '2051.a1.txt', '1004.a1.txt', '0195.a1.txt', '3015.a1.txt', '1013.a1.txt', '3020.a1.txt', '2037.a1.txt', '1104.a1.txt', '2065.a1.txt', '1005.a1.txt', '0226.a1.txt', '0118.a1.txt', '2028.a1.txt', '2048.a1.txt', '2018.a1.txt', '0204.a1.txt', '2071.a1.txt', '2009.a1.txt', '1076.a1.txt', '0185.a1.txt', '0212.a1.txt', '1086.a1.txt', '0103.a1.txt', '1029.a1.txt', '3063.a1.txt', '0133.a1.txt', '1021.a1.txt', '0172.a1.txt', '1041.a1.txt', '0206.a1.txt', '1012.a1.txt', '1090.a1.txt', '0123.a1.txt', '2035.a1.txt', '1071.a1.txt', '0202.a1.txt', '0149.a1.txt', '1055.a1.txt', '2068.a1.txt', '1034.a1.txt', '1082.a1.txt', '0174.a1.txt', '1047.a1.txt', '0193.a1.txt', '0101.a1.txt', '4014.a1.txt', '1044.a1.txt', '2061.a1.txt', '3026.a1.txt', '0148.a1.txt', '3035.a1.txt', '0115.a1.txt', '0130.a1.txt', '1081.a1.txt', '2058.a1.txt', '2014.a1.txt', '3067.a1.txt', '2055.a1.txt', '2032.a1.txt', '0219.a1.txt', '1102.a1.txt', '1032.a1.txt', '0144.a1.txt', '0235.a1.txt', '0192.a1.txt', '0199.a1.txt', '3003.a1.txt', '2012.a1.txt', '2050.a1.txt', '1036.a1.txt', '0159.a1.txt', '1066.a1.txt', '3040.a1.txt', '1006.a1.txt', '1061.a1.txt', '2038.a1.txt', '0145.a1.txt', '1052.a1.txt', '0233.a1.txt', '2020.a1.txt', '2007.a1.txt', '3001.a1.txt', '3028.a1.txt', '0146.a1.txt', '1062.a1.txt', '2031.a1.txt', '1024.a1.txt', '0232.a1.txt', '0200.a1.txt', '3036.a1.txt', '0234.a1.txt', '0131.a1.txt', '0207.a1.txt', '2047.a1.txt', '4013.a1.txt', '1020.a1.txt', '2062.a1.txt', '0238.a1.txt', '0187.a1.txt', '3027.a1.txt', '1112.a1.txt', '1023.a1.txt', '0201.a1.txt', '4045.a1.txt', '2060.a1.txt', '1099.a1.txt', '0163.a1.txt', '0168.a1.txt']\n",
      "['2026.a5.txt', '0122.a5.txt', '1013.a5.txt', '0112.a5.txt', '1061.a5.txt', '0206.a5.txt', '1074.a5.txt', '1012.a5.txt', '2045.a5.txt', '0102.a5.txt', '1112.a5.txt', '0197.a5.txt', '1014.a5.txt', '2032.a5.txt', '2071.a5.txt', '1095.a5.txt', '2048.a5.txt', '2058.a5.txt', '0111.a5.txt', '1121.a5.txt', '0163.a5.txt', '0137.a5.txt', '0115.a5.txt', '0198.a5.txt', '2005.a5.txt', '1008.a5.txt', '0157.a5.txt', '2034.a5.txt', '0134.a5.txt', '1005.a5.txt', '2021.a5.txt', '2012.a5.txt', '1099.a5.txt', '1072.a5.txt', '0149.a5.txt', '0101.a5.txt', '0125.a5.txt', '2019.a5.txt', '0158.a5.txt', '1050.a5.txt', '0121.a5.txt', '2035.a5.txt', '0192.a5.txt', '2015.a5.txt', '2020.a5.txt', '1018.a5.txt', '1023.a5.txt', '0106.a5.txt', '0199.a5.txt', '1070.a5.txt', '1043.a5.txt', '0223.a5.txt', '0161.a5.txt', '1003.a5.txt', '0139.a5.txt', '1065.a5.txt', '1048.a5.txt', '0215.a5.txt', '1094.a5.txt', '0234.a5.txt', '0222.a5.txt', '0119.a5.txt', '2066.a5.txt', '1036.a5.txt', '0188.a5.txt', '0219.a5.txt', '0185.a5.txt', '1100.a5.txt', '1006.a5.txt', '2049.a5.txt', '0214.a5.txt', '1104.a5.txt', '1102.a5.txt', '2040.a5.txt', '0178.a5.txt', '1088.a5.txt', '0171.a5.txt', '0140.a5.txt', '2014.a5.txt', '2050.a5.txt', '0103.a5.txt', '0193.a5.txt', '0238.a5.txt', '1081.a5.txt', '2039.a5.txt', '1010.a5.txt', '1021.a5.txt', '0108.a5.txt', '1057.a5.txt', '1068.a5.txt', '0128.a5.txt', '1032.a5.txt', '0165.a5.txt', '0105.a5.txt', '0186.a5.txt', '2028.a5.txt', '2036.a5.txt', '0187.a5.txt', '0130.a5.txt', '0227.a5.txt', '1055.a5.txt', '1022.a5.txt', '0182.a5.txt', '2075.a5.txt', '1034.a5.txt', '0159.a5.txt', '0107.a5.txt', '0104.a5.txt', '1062.a5.txt', '2007.a5.txt', '0200.a5.txt', '1067.a5.txt', '1041.a5.txt', '1064.a5.txt']\n",
      "['0303.b3.txt', '1100.b3.txt', '1532.b3.txt', '0103.b3.txt', '1520.b3.txt', '1533.b3.txt', '0310.b3.txt', '0300.b3.txt', '1102.b3.txt', '0105.b3.txt', '1112.b3.txt', '1023.b3.txt', '1069.b3.txt', '1057.b3.txt', '0307.b3.txt', '0200.b3.txt', '0313.b3.txt', '2034.b3.txt', '1534.b3.txt', '0139.b3.txt', '0171.b3.txt', '1536.b3.txt', '0130.b3.txt', '0308.b3.txt', '0140.b3.txt', '1508.b3.txt', '0165.b3.txt', '0122.b3.txt', '0304.b3.txt', '2018.b3.txt', '0134.b3.txt', '0133.b3.txt', '1066.b3.txt', '1097.b3.txt', '1082.b3.txt']\n",
      "['0158.b8.txt', '0318.b8.txt', '0219.b8.txt']\n",
      "['5041.a2.txt', '2063.a2.txt', '2059.a2.txt', '5006.a2.txt', '1078.a2.txt', '0128.a2.txt', '1041.a2.txt', '2070.a2.txt', '2046.a2.txt', '1065.a2.txt', '0221.a2.txt', '2050.a2.txt', '3026.a2.txt', '1022.a2.txt', '1006.a2.txt', '0119.a2.txt', '3002.a2.txt', '2058.a2.txt', '5013.a2.txt', '5031.a2.txt', '0234.a2.txt', '4044.a2.txt', '5046.a2.txt', '0127.a2.txt', '1058.a2.txt', '0109.a2.txt', '3065.a2.txt', '0238.a2.txt', '3028.a2.txt', '0139.a2.txt', '1112.a2.txt', '5011.a2.txt', '5018.a2.txt', '0134.a2.txt', '0218.a2.txt', '0125.a2.txt', '5024.a2.txt', '0148.a2.txt', '0136.a2.txt', '0121.a2.txt', '0169.a2.txt', '5038.a2.txt', '3003.a2.txt', '2042.a2.txt', '0174.a2.txt', '4011.a2.txt', '3023.a2.txt', '2060.a2.txt', '2038.a2.txt', '3067.a2.txt', '3035.a2.txt', '1044.a2.txt', '2040.a2.txt', '2032.a2.txt', '0231.a2.txt', '0107.a2.txt', '3037.a2.txt', '4033.a2.txt', '0163.a2.txt', '0171.a2.txt', '4045.a2.txt', '0226.a2.txt', '1021.a2.txt', '4042.a2.txt', '0214.a2.txt', '1064.a2.txt', '3040.a2.txt', '1031.a2.txt', '2021.a2.txt', '2055.a2.txt', '0149.a2.txt', '0180.a2.txt', '1077.a2.txt', '4037.a2.txt', '1104.a2.txt', '1020.a2.txt', '0142.a2.txt', '0133.a2.txt', '0167.a2.txt', '2020.a2.txt', '1014.a2.txt', '1081.a2.txt', '5020.a2.txt', '3064.a2.txt', '4026.a2.txt', '2007.a2.txt', '0192.a2.txt', '0118.a2.txt', '0106.a2.txt', '1008.a2.txt', '1092.a2.txt', '2056.a2.txt', '0208.a2.txt', '0155.a2.txt', '2074.a2.txt', '1068.a2.txt', '4018.a2.txt', '0179.a2.txt', '4010.a2.txt', '0203.a2.txt', '5033.a2.txt', '1043.a2.txt', '5036.a2.txt', '5043.a2.txt', '0120.a2.txt', '5001.a2.txt', '0215.a2.txt', '1036.a2.txt', '5032.a2.txt', '1017.a2.txt', '4012.a2.txt', '1002.a2.txt', '5016.a2.txt', '1098.a2.txt', '5030.a2.txt', '2014.a2.txt', '5047.a2.txt', '0205.a2.txt', '2009.a2.txt', '2049.a2.txt', '1010.a2.txt', '5029.a2.txt', '0236.a2.txt', '1007.a2.txt', '4048.a2.txt', '0204.a2.txt', '4003.a2.txt', '2005.a2.txt', '1102.a2.txt', '4013.a2.txt', '0140.a2.txt', '0178.a2.txt', '1029.a2.txt', '2015.a2.txt', '2067.a2.txt', '5045.a2.txt', '1026.a2.txt', '5023.a2.txt', '2011.a2.txt', '2034.a2.txt', '4035.a2.txt', '4023.a2.txt', '0207.a2.txt', '0201.a2.txt', '0224.a2.txt', '3013.a2.txt', '1095.a2.txt', '0196.a2.txt', '3045.a2.txt', '2016.a2.txt', '5028.a2.txt', '3044.a2.txt', '2000.a2.txt', '4020.a2.txt', '0197.a2.txt', '1005.a2.txt', '5017.a2.txt', '0146.a2.txt', '3020.a2.txt', '4040.a2.txt', '5010.a2.txt', '0191.a2.txt', '1056.a2.txt', '5044.a2.txt', '1097.a2.txt', '0105.a2.txt', '4028.a2.txt', '1121.a2.txt', '0110.a2.txt', '0190.a2.txt', '0113.a2.txt', '0111.a2.txt', '5005.a2.txt', '2017.a2.txt', '1072.a2.txt', '1016.a2.txt', '2069.a2.txt', '0232.a2.txt', '1088.a2.txt', '4019.a2.txt', '4002.a2.txt', '1003.a2.txt', '0237.a2.txt', '0131.a2.txt', '0137.a2.txt', '2030.a2.txt', '0115.a2.txt', '2023.a2.txt', '0165.a2.txt', '3018.a2.txt', '3001.a2.txt', '1049.a2.txt', '2019.a2.txt', '1019.a2.txt', '2068.a2.txt', '0209.a2.txt', '2041.a2.txt', '1032.a2.txt', '2012.a2.txt', '5022.a2.txt', '5004.a2.txt', '0185.a2.txt', '1109.a2.txt', '1057.a2.txt', '0213.a2.txt', '4024.a2.txt', '5034.a2.txt', '2026.a2.txt', '5048.a2.txt', '0219.a2.txt', '2024.a2.txt', '3063.a2.txt', '0200.a2.txt', '1100.a2.txt', '1069.a2.txt', '0159.a2.txt', '4016.a2.txt', '1090.a2.txt', '1094.a2.txt', '2047.a2.txt', '0223.a2.txt', '4001.a2.txt', '1048.a2.txt', '5042.a2.txt', '0194.a2.txt', '0150.a2.txt', '2061.a2.txt', '5040.a2.txt', '4027.a2.txt', '2045.a2.txt', '5037.a2.txt', '0130.a2.txt', '0186.a2.txt', '0158.a2.txt', '0100.a2.txt', '2075.a2.txt', '0189.a2.txt', '0195.a2.txt', '1055.a2.txt', '5027.a2.txt', '2044.a2.txt', '4006.a2.txt', '4029.a2.txt', '2035.a2.txt', '0122.a2.txt', '3033.a2.txt', '0235.a2.txt', '4032.a2.txt', '3072.a2.txt', '1103.a2.txt', '1070.a2.txt', '0187.a2.txt', '1105.a2.txt', '4021.a2.txt', '5049.a2.txt', '2065.a2.txt', '0135.a2.txt', '5003.a2.txt', '0227.a2.txt', '2022.a2.txt', '2027.a2.txt', '0182.a2.txt', '4025.a2.txt', '1009.a2.txt', '0157.a2.txt', '0101.a2.txt', '0156.a2.txt', '2031.a2.txt', '4008.a2.txt', '2071.a2.txt', '2036.a2.txt', '2062.a2.txt', '0143.a2.txt', '0199.a2.txt', '0102.a2.txt', '2066.a2.txt', '5014.a2.txt', '4039.a2.txt', '1050.a2.txt', '5035.a2.txt', '0104.a2.txt', '4036.a2.txt', '1106.a2.txt', '0173.a2.txt', '1034.a2.txt', '1099.a2.txt', '0175.a2.txt', '4014.a2.txt', '3062.a2.txt', '3042.a2.txt', '0188.a2.txt', '1023.a2.txt', '0193.a2.txt', '4030.a2.txt', '3041.a2.txt', '4022.a2.txt', '1062.a2.txt', '0206.a2.txt', '1013.a2.txt', '5012.a2.txt', '0168.a2.txt', '0103.a2.txt', '0112.a2.txt', '3012.a2.txt', '0138.a2.txt', '4004.a2.txt', '3068.a2.txt', '5026.a2.txt', '5002.a2.txt', '0162.a2.txt', '2018.a2.txt', '2072.a2.txt', '4041.a2.txt', '0161.a2.txt', '2064.a2.txt', '2048.a2.txt', '5007.a2.txt', '5025.a2.txt', '4005.a2.txt', '0202.a2.txt', '0216.a2.txt', '2039.a2.txt', '4043.a2.txt', '4017.a2.txt', '1061.a2.txt', '4015.a2.txt', '0198.a2.txt', '2013.a2.txt', '0222.a2.txt', '5039.a2.txt', '5021.a2.txt', '1067.a2.txt', '0172.a2.txt', '0176.a2.txt', '1018.a2.txt', '1039.a2.txt', '2057.a2.txt', '5008.a2.txt', '1060.a2.txt', '3036.a2.txt', '4009.a2.txt', '1012.a2.txt', '0177.a2.txt', '1074.a2.txt']\n",
      "['2032.b2.txt', '2066.b2.txt', '3504.b2.txt', '1057.b2.txt', '0200.b2.txt', '2028.b2.txt', '1003.b2.txt', '1541.b2.txt', '1100.b2.txt', '3511.b2.txt', '1533.b2.txt', '0313.b2.txt', '2028.b2i.txt', '0300.b2.txt', '0310.b2.txt', '1006.b2i.txt', '0139.b2.txt', '1097.b2.txt', '1104.b2.txt', '3519.b2.txt', '2030.b2.txt', '2070.b2i.txt', '3501.b2.txt', '2070.b2.txt', '1520.b2.txt', '3520.b2.txt', '3505.b2.txt', '3518.b2.txt', '2019.b2.txt', '1006.b2.txt', '1021.b2.txt', '3503.b2.txt', '3508.b2.txt', '4038.b2.txt', '2012.b2.txt', '1532.b2.txt', '3507.b2.txt', '3020.b2.txt', '2034.b2.txt', '0103.b2.txt', '1528.b2.txt', '3013.b2.txt', '3522.b2.txt', '1508.b2.txt', '0140.b2.txt', '1112.b2.txt', '1023.b2.txt', '3509.b2.txt', '4012.b2.txt', '3523.b2.txt', '0134.b2.txt', '0165.b2.txt', '4036.b2.txt', '0308.b2.txt', '3506.b2.txt', '1104.b2i.txt', '3525.b2.txt']\n",
      "['1523.b1.txt', '0304.b1.txt', '3511.b1.txt', '1057.b1.txt', '2034.b1.txt', '4012.b1.txt', '2030.b1.txt', '3504.b1.txt', '2018.b1.txt', '4507.b1.txt', '3518.b1.txt', '0313.b1.txt', '3523.b1.txt', '0103.b1.txt', '1081.b1.txt', '1102.b1.txt', '3501.b1.txt', '2032.b1.txt', '1006.b1.txt', '3513.b1.txt', '1528.b1.txt', '2036.b1.txt', '3020.b1.txt', '2042.b1.txt', '0140.b1.txt', '2070.b1.txt', '4035.b1.txt', '3525.b1.txt', '1100.b1.txt', '3506.b1.txt', '3520.b1.txt', '3018.b1.txt', '3509.b1.txt', '1541.b1.txt', '0200.b1.txt', '3519.b1.txt', '0171.b1.txt', '1069.b1.txt', '3062.b1.txt', '1006.b1i.txt', '0165.b1.txt', '3515.b1.txt', '4038.b1.txt', '3510.b1.txt', '1104.b1.txt', '2049.b1.txt', '0310.b1.txt', '3514.b1.txt', '3522.b1.txt', '2028.b1.txt', '0308.b1.txt', '0300.b1.txt', '3508.b1.txt', '0134.b1.txt', '0122.b1.txt', '0139.b1.txt', '1003.b1.txt', '0307.b1.txt', '2066.b1.txt', '2019.b1.txt', '4503.b1.txt', '1508.b1.txt', '1500.b1.txt', '1532.b1.txt', '1520.b1.txt', '0105.b1.txt', '1104.b1i.txt', '1021.b1.txt', '1097.b1.txt', '2012.b1i.txt', '1066.b1.txt', '1023.b1.txt', '1112.b1.txt', '3503.b1.txt', '2070.b1i.txt', '1012.b1.txt', '4036.b1.txt', '3505.b1.txt', '3013.b1.txt', '2012.b1.txt']\n",
      "['4012.a3.txt', '5005.a3.txt', '5048.a3.txt', '0205.a3.txt', '2000.a3.txt', '2048.a3.txt', '1068.a3.txt', '2026.a3.txt', '2066.a3.txt', '2016.a3.txt', '4024.a3.txt', '2064.a3.txt', '1074.a3.txt', '2039.a3.txt', '1055.a3.txt', '4039.a3.txt', '0189.a3.txt', '0236.a3.txt', '1100.a3.txt', '0130.a3.txt', '0158.a3.txt', '3062.a3.txt', '0175.a3.txt', '0103.a3.txt', '3023.a3.txt', '0209.a3.txt', '0101.a3.txt', '0208.a3.txt', '5018.a3.txt', '5011.a3.txt', '0176.a3.txt', '1060.a3.txt', '1090.a3.txt', '2024.a3.txt', '5047.a3.txt', '0174.a3.txt', '2062.a3.txt', '0173.a3.txt', '4014.a3.txt', '2044.a3.txt', '2015.a3.txt', '1012.a3.txt', '2032.a3.txt', '0112.a3.txt', '0232.a3.txt', '0213.a3.txt', '2013.a3.txt', '2071.a3.txt', '1021.a3.txt', '3026.a3.txt', '1094.a3.txt', '4045.a3.txt', '2067.a3.txt', '3001.a3.txt', '2060.a3.txt', '1106.a3.txt', '0156.a3.txt', '0214.a3.txt', '4026.a3.txt', '3003.a3.txt', '1098.a3.txt', '1065.a3.txt', '2065.a3.txt', '0104.a3.txt', '1105.a3.txt', '0121.a3.txt', '1050.a3.txt', '0218.a3.txt', '4007.a3.txt', '5026.a3.txt', '3020.a3.txt', '2012.a3.txt', '5038.a3.txt', '2075.a3.txt', '1097.a3.txt', '0222.a3.txt', '0195.a3.txt', '1072.a3.txt', '1017.a3.txt', '1005.a3.txt', '5013.a3.txt', '4042.a3.txt', '4038.a3.txt', '1006.a3.txt', '0223.a3.txt', '0235.a3.txt', '0127.a3.txt', '1081.a3.txt', '2034.a3.txt', '4037.a3.txt', '5033.a3.txt', '3037.a3.txt', '1048.a3.txt', '0149.a3.txt', '1095.a3.txt', '0207.a3.txt', '0188.a3.txt', '4015.a3.txt', '0204.a3.txt', '0203.a3.txt', '2056.a3.txt', '5049.a3.txt', '2021.a3.txt', '4001.a3.txt', '4030.a3.txt', '4047.a3.txt', '1008.a3.txt', '0135.a3.txt', '2041.a3.txt', '0185.a3.txt', '0163.a3.txt', '5031.a3.txt', '0159.a3.txt', '0192.a3.txt', '0134.a3.txt', '5029.a3.txt', '2047.a3.txt', '3040.a3.txt', '4005.a3.txt', '0133.a3.txt', '0179.a3.txt', '3063.a3.txt', '0169.a3.txt', '1036.a3.txt', '5036.a3.txt', '2005.a3.txt', '1099.a3.txt', '4010.a3.txt', '3072.a3.txt', '2042.a3.txt', '4029.a3.txt', '4028.a3.txt', '0106.a3.txt', '0109.a3.txt', '2028.a3.txt', '1043.a3.txt', '4004.a3.txt', '2008.a3.txt', '2061.a3.txt', '2030.a3.txt', '0107.a3.txt', '1023.a3.txt', '0136.a3.txt', '0226.a3.txt', '2046.a3.txt', '2059.a3.txt', '1061.a3.txt', '2057.a3.txt', '2045.a3.txt', '1034.a3.txt', '1018.a3.txt', '4003.a3.txt', '5041.a3.txt', '4009.a3.txt', '0216.a3.txt', '1049.a3.txt', '5039.a3.txt', '1003.a3.txt', '0187.a3.txt', '4006.a3.txt', '1070.a3.txt', '2074.a3.txt', '1067.a3.txt', '1069.a3.txt', '0202.a3.txt', '4017.a3.txt', '2011.a3.txt', '4041.a3.txt', '0137.a3.txt', '1057.a3.txt', '0143.a3.txt', '3044.a3.txt', '1007.a3.txt', '0224.a3.txt', '0186.a3.txt', '0200.a3.txt', '4011.a3.txt', '4044.a3.txt', '0122.a3.txt', '0182.a3.txt', '4043.a3.txt', '0178.a3.txt', '4027.a3.txt', '0111.a3.txt', '1088.a3.txt', '0118.a3.txt', '3018.a3.txt', '1102.a3.txt', '0199.a3.txt', '0110.a3.txt', '0238.a3.txt', '0234.a3.txt', '2035.a3.txt', '1020.a3.txt', '4048.a3.txt', '1041.a3.txt', '1112.a3.txt', '3015.a3.txt', '5024.a3.txt', '1121.a3.txt', '0231.a3.txt', '2058.a3.txt', '5002.a3.txt', '0119.a3.txt', '4002.a3.txt', '0165.a3.txt', '0168.a3.txt', '0138.a3.txt', '2020.a3.txt', '5007.a3.txt', '0227.a3.txt', '0215.a3.txt', '1009.a3.txt', '5028.a3.txt', '0198.a3.txt', '5020.a3.txt', '5027.a3.txt', '4046.a3.txt', '2031.a3.txt', '5012.a3.txt', '0157.a3.txt', '5003.a3.txt', '1104.a3.txt', '4013.a3.txt', '2022.a3.txt', '4023.a3.txt', '0115.a3.txt', '0125.a3.txt', '2050.a3.txt', '0196.a3.txt', '1103.a3.txt', '0193.a3.txt', '5015.a3.txt', '3041.a3.txt', '5046.a3.txt', '2049.a3.txt', '1014.a3.txt', '0219.a3.txt', '4020.a3.txt', '1077.a3.txt', '2036.a3.txt', '1058.a3.txt', '5016.a3.txt', '2019.a3.txt', '2014.a3.txt', '0237.a3.txt', '0162.a3.txt', '4032.a3.txt', '2055.a3.txt', '2017.a3.txt', '5032.a3.txt', '2018.a3.txt', '5009.a3.txt', '1064.a3.txt', '0172.a3.txt', '0105.a3.txt', '0190.a3.txt', '5001.a3.txt', '1066.a3.txt', '3065.a3.txt', '5023.a3.txt', '1032.a3.txt', '0161.a3.txt', '1022.a3.txt', '1109.a3.txt', '0128.a3.txt', '0221.a3.txt', '5043.a3.txt', '0102.a3.txt', '0142.a3.txt', '2069.a3.txt', '2038.a3.txt', '3042.a3.txt', '5035.a3.txt', '0139.a3.txt', '2007.a3.txt', '2040.a3.txt', '0177.a3.txt', '3067.a3.txt', '3013.a3.txt', '2063.a3.txt', '0146.a3.txt', '1013.a3.txt', '0171.a3.txt', '5042.a3.txt', '0120.a3.txt', '0131.a3.txt', '0155.a3.txt', '5008.a3.txt', '1052.a3.txt', '4036.a3.txt', '0206.a3.txt']\n",
      "['0187.a4.txt', '1014.a4.txt', '2005.a4.txt', '1121.a4.txt', '2042.a4.txt', '0213.a4.txt', '0157.a4.txt', '1099.a4.txt', '0216.a4.txt', '0178.a4.txt', '1009.a4.txt', '2061.a4.txt', '1036.a4.txt', '0195.a4.txt', '0165.a4.txt', '0214.a4.txt', '2076.a4.txt', '2049.a4.txt', '0168.a4.txt', '2012.a4.txt', '0185.a4.txt', '0105.a4.txt', '2000.a4.txt', '1008.a4.txt', '2046.a4.txt', '0238.a4.txt', '1068.a4.txt', '5009.a4.txt', '2072.a4.txt', '0198.a4.txt', '2007.a4.txt', '0200.a4.txt', '0107.a4.txt', '3003.a4.txt', '1066.a4.txt', '2075.a4.txt', '1102.a4.txt', '0188.a4.txt', '1048.a4.txt', '1006.a4.txt', '2017.a4.txt', '2066.a4.txt', '0103.a4.txt', '0227.a4.txt', '1018.a4.txt', '2031.a4.txt', '2018.a4.txt', '1060.a4.txt', '0204.a4.txt', '2062.a4.txt', '1070.a4.txt', '2064.a4.txt', '0128.a4.txt', '0127.a4.txt', '0106.a4.txt', '0206.a4.txt', '0158.a4.txt', '2048.a4.txt', '2014.a4.txt', '0171.a4.txt', '2067.a4.txt', '2024.a4.txt', '1081.a4.txt', '2032.a4.txt', '0122.a4.txt', '0234.a4.txt', '0110.a4.txt', '0176.a4.txt', '1061.a4.txt', '0237.a4.txt', '1098.a4.txt', '1112.a4.txt', '0224.a4.txt', '1094.a4.txt', '1012.a4.txt', '2058.a4.txt', '1013.a4.txt', '4028.a4.txt', '2034.a4.txt', '0199.a4.txt', '1005.a4.txt', '1090.a4.txt', '2030.a4.txt', '1100.a4.txt', '1003.a4.txt', '2050.a4.txt', '0192.a4.txt', '4031.a4.txt', '2011.a4.txt', '0109.a4.txt', '1064.a4.txt', '0159.a4.txt', '4030.a4.txt', '1032.a4.txt', '1095.a4.txt', '0196.a4.txt', '0223.a4.txt', '0202.a4.txt', '0190.a4.txt', '3026.a4.txt', '2065.a4.txt', '3020.a4.txt', '2057.a4.txt', '0208.a4.txt', '0218.a4.txt', '1067.a4.txt', '3042.a4.txt', '2044.a4.txt', '0156.a4.txt', '4045.a4.txt', '0121.a4.txt', '1074.a4.txt', '1010.a4.txt', '2069.a4.txt', '0179.a4.txt', '1034.a4.txt', '0169.a4.txt', '3037.a4.txt', '1057.a4.txt', '1052.a4.txt', '0115.a4.txt', '0112.a4.txt', '0139.a4.txt', '0140.a4.txt', '0108.a4.txt', '3001.a4.txt', '0120.a4.txt', '1076.a4.txt', '2019.a4.txt', '0119.a4.txt', '1077.a4.txt', '1103.a4.txt', '1050.a4.txt', '0137.a4.txt', '2035.a4.txt', '2021.a4.txt', '0197.a4.txt', '0135.a4.txt', '1072.a4.txt', '2039.a4.txt', '1065.a4.txt', '2074.a4.txt', '0222.a4.txt', '0194.a4.txt', '2036.a4.txt', '2015.a4.txt', '3065.a4.txt', '1104.a4.txt', '2038.a4.txt', '0102.a4.txt', '0186.a4.txt', '1055.a4.txt', '0193.a4.txt', '2028.a4.txt', '0177.a4.txt', '2055.a4.txt', '0235.a4.txt', '4023.a4.txt', '2040.a4.txt', '3062.a4.txt', '2071.a4.txt', '0161.a4.txt', '2022.a4.txt', '1022.a4.txt', '2020.a4.txt', '0136.a4.txt', '1049.a4.txt', '0175.a4.txt', '2059.a4.txt', '1023.a4.txt', '1021.a4.txt', '0130.a4.txt', '0134.a4.txt', '2056.a4.txt', '0215.a4.txt', '0104.a4.txt', '1043.a4.txt', '4034.a4.txt', '2008.a4.txt', '0205.a4.txt', '0149.a4.txt', '0111.a4.txt', '1088.a4.txt', '1017.a4.txt', '0219.a4.txt']\n",
      "['0140.c1.txt', '0200.c1.txt', '0502.c1.txt', '0238.c1.txt', '0219.c1.txt', '0165.c1.txt', '0501.c1.txt']\n",
      "['1100.b4.txt', '0200.b4.txt', '1057.b4.txt', '0139.b4.txt', '2034.b4.txt', '1097.b4.txt', '1112.b4.txt', '0178.b4.txt', '1023.b4.txt', '1532.b4.txt', '1003.b4.txt', '1021.b4.txt', '1069.b4.txt', '0308.b4.txt', '0318.b4.txt', '0105.b4.txt', '1528.b4.txt', '2030.b4.txt', '0300.b4.txt', '0158.b4.txt', '2018.b4.txt', '0140.b4.txt', '0219.b4.txt', '0165.b4.txt', '1508.b4.txt', '0107.b4.txt', '0103.b4.txt', '0310.b4.txt', '1520.b4.txt']\n",
      "['0200.b5.txt', '0300.b5.txt', '2019.b5.txt', '0310.b5.txt', '2034.b5.txt', '0165.b5.txt', '2066.b5.txt', '0140.b5.txt', '1023.b5.txt', '1021.b5.txt', '1100.b5.txt', '1508.b5.txt', '3018.b5.txt', '1532.b5.txt', '3020.b5.txt', '1533.b5.txt', '2032.b5.txt', '2028.b5.txt', '0103.b5.txt', '1003.b5.txt', '1057.b5.txt']\n"
     ]
    }
   ],
   "source": [
    "path = os.path.join('in', 'USEcorpus')\n",
    "\n",
    "for dir in os.listdir(path):\n",
    "    sub_dir = os.path.join(path, dir)\n",
    "    print(os.listdir(sub_dir))"
   ]
  },
  {
   "cell_type": "code",
   "execution_count": 118,
   "metadata": {},
   "outputs": [],
   "source": [
    "subdir_path = os.path.join('in', 'USEcorpus', 'b5')\n",
    "txt_files = os.listdir(subdir_path)"
   ]
  },
  {
   "cell_type": "code",
   "execution_count": null,
   "metadata": {},
   "outputs": [],
   "source": [
    "# make function that reads file and preprocesses it \n",
    "# make function that checks of POS\n",
    "# make function that checks for NER "
   ]
  },
  {
   "cell_type": "code",
   "execution_count": 24,
   "metadata": {},
   "outputs": [],
   "source": [
    "def read_and_preprocess(path_to_txt_file):\n",
    "    \n",
    "    # open txt file and fix encoding\n",
    "    with open(path_to_txt_file, \"r\", encoding=\"unicode-escape\") as f:\n",
    "        text = f.read()\n",
    "    \n",
    "    # preprocess (remove pointed brackets and everything between)\n",
    "    cleaned_text = re.sub(\"<.*?>\", '', text)\n",
    "    #test = cleaned_text.replace(\"\\n\", \" \")\n",
    "    return cleaned_text\n",
    "    "
   ]
  },
  {
   "cell_type": "code",
   "execution_count": 22,
   "metadata": {},
   "outputs": [],
   "source": [
    "subdir_path = os.path.join('in', 'USEcorpus', 'b1', '0103.b1.txt')"
   ]
  },
  {
   "cell_type": "code",
   "execution_count": 25,
   "metadata": {},
   "outputs": [],
   "source": [
    "cleaned_text = read_and_preprocess(subdir_path)"
   ]
  },
  {
   "cell_type": "code",
   "execution_count": 26,
   "metadata": {},
   "outputs": [
    {
     "data": {
      "text/plain": [
       "str"
      ]
     },
     "execution_count": 26,
     "metadata": {},
     "output_type": "execute_result"
    }
   ],
   "source": [
    "type(cleaned_text)"
   ]
  },
  {
   "cell_type": "code",
   "execution_count": 7,
   "metadata": {},
   "outputs": [
    {
     "data": {
      "text/plain": [
       "\"\\nIntroduction\\nIn this essay I am going to evaluate my ability to use the English language. I am going to assess my strengths and weaknesses in the four skills of listening, reading, speaking and writing. Eight years ago I moved to the US and I stayed there for two years. The evaluation of my English is based on how competent I feel today, at this point. I must honestly say that I have lost a lot of my confidence in the English language since my days in the US and that includes all four skills more or less. \\n\\nThe four skills\\nListening, is the one of the four skills that I feel most confident in, as we are being exposed to it almost everyday, especially through television. I feel that I understand most of what's being said unless the vocabulary include to much technical terms, is too academic, or if it's spoken with a lot of dialect. For me it's easier to understand American English compere to Brittish English for obvious reasons. Some times it can be a little bit confusing when, the above, use different words for the same thing.\\nReading in English take a long time for me since I lack some sort of reading speed, it takes a long time and for that reason I find it pretty frustrating. I studied for the teachers exam before this and some of our litterature was in English, I wasn't too happy about it then but now I'm glad because it gave me some practice in reading English non fiction litterature. Even though I may not understand every single word I usually understand the big picture.\\nMy biggest weakness at this point is the speaking skill. I don't speak fluently and I have lost a lot of my former vocabulary.That makes it hard to speak spontaniously since I have to stop to think all the time,in order to find the right words and not make so many gramatical mistakes. I also experiance some sort of confidence barrier that is hard to cross, it may also have something to do with the meeting of new people, new teachers and a new course, that sort of thing. I have the weakness of being a little bit shy when it comes to speak in front of a whole new croud of adults. I am aware though, that the only way to improve is to practice talking, so that is what I'm going to do. I think that it's going to be a lot easier when we get to know each other, at least in our groups. I still have some of my pronunciation skill left so it doesn't sound too terrible but I'm sure it could sound much better.\\nMy writing skill is about the same as my speaking skill, I have lost a lot of my former vocabulary. I also recantly descovered that my spelling was rather poor so that is someting I have to work on. Another thing is the grammar wich I sometimes don't feel too secure about. Fortunate I still write with my family and friends from the US and that has given me some practice throughout the years.\\n\\nSummary\\nIn this essay I have compered my strengths and weaknesses in the English language. I have devided my competence in four different skills, the skills of listening, reading, speaking and writing.I came to the conclution that I need to expose my self to the language on all four skills in order to get a larger vocabulary, fasten up my reading, get more secure and fluent in my speaking. I also need to study the grammar rather thoroughly. I think I will have the opportunity to practice all of this in the upcomming course and I'm locking very much forward to it.\\n\""
      ]
     },
     "execution_count": 7,
     "metadata": {},
     "output_type": "execute_result"
    }
   ],
   "source": [
    "cleaned_text"
   ]
  },
  {
   "cell_type": "code",
   "execution_count": 28,
   "metadata": {},
   "outputs": [],
   "source": [
    "nlp = spacy.load(\"en_core_web_md\")\n",
    "    \n",
    "doc = nlp(cleaned_text)"
   ]
  },
  {
   "cell_type": "code",
   "execution_count": 29,
   "metadata": {},
   "outputs": [
    {
     "data": {
      "text/plain": [
       "spacy.tokens.doc.Doc"
      ]
     },
     "execution_count": 29,
     "metadata": {},
     "output_type": "execute_result"
    }
   ],
   "source": [
    "type(doc)"
   ]
  },
  {
   "cell_type": "code",
   "execution_count": 30,
   "metadata": {},
   "outputs": [],
   "source": [
    "def count_relfreq_pos(doc, tag):\n",
    "\n",
    "    pos_doc = [token.pos_ for token in doc]\n",
    "    \n",
    "    count = pos_doc.count(tag)\n",
    "\n",
    "    rel_count = round((count/len(doc))*10000, 2) # why is it length of doc and not text ? \n",
    "\n",
    "    return rel_count"
   ]
  },
  {
   "cell_type": "code",
   "execution_count": 31,
   "metadata": {},
   "outputs": [],
   "source": [
    "count = count_relfreq_pos(doc, 'NOUN')"
   ]
  },
  {
   "cell_type": "code",
   "execution_count": 26,
   "metadata": {},
   "outputs": [
    {
     "data": {
      "text/plain": [
       "1476.79"
      ]
     },
     "execution_count": 26,
     "metadata": {},
     "output_type": "execute_result"
    }
   ],
   "source": [
    "count "
   ]
  },
  {
   "cell_type": "code",
   "execution_count": 174,
   "metadata": {},
   "outputs": [],
   "source": [
    "pos_doc = [token.pos_ for token in doc]\n",
    "\n",
    "noun_counts = 0 \n",
    "for i in pos_doc:\n",
    "    if i == 'NOUN':\n",
    "        counts += 1\n",
    "    else:\n",
    "        continue"
   ]
  },
  {
   "cell_type": "code",
   "execution_count": 32,
   "metadata": {},
   "outputs": [],
   "source": [
    "pos_name = ['NOUN', 'VERB', 'ADJ', 'ADV']"
   ]
  },
  {
   "cell_type": "code",
   "execution_count": 34,
   "metadata": {},
   "outputs": [],
   "source": [
    "test = [count_relfreq_pos(doc, pos) for pos in pos_name]\n",
    "dicty = dict(zip(pos_name, test))"
   ]
  },
  {
   "cell_type": "code",
   "execution_count": 36,
   "metadata": {},
   "outputs": [],
   "source": [
    "from src.my_spacy_utils import extract_ling_info"
   ]
  },
  {
   "cell_type": "code",
   "execution_count": 37,
   "metadata": {},
   "outputs": [],
   "source": [
    "subdir_path = os.path.join('in', 'USEcorpus', 'b1')\n",
    "pos, ner = extract_ling_info(subdir_path, '0103.b1.txt')"
   ]
  },
  {
   "cell_type": "code",
   "execution_count": 43,
   "metadata": {},
   "outputs": [
    {
     "data": {
      "text/plain": [
       "2048.19"
      ]
     },
     "execution_count": 43,
     "metadata": {},
     "output_type": "execute_result"
    }
   ],
   "source": [
    "pos['NOUN']"
   ]
  },
  {
   "cell_type": "code",
   "execution_count": 35,
   "metadata": {},
   "outputs": [
    {
     "data": {
      "text/plain": [
       "{'NOUN': 2045.95, 'VERB': 1017.51, 'ADJ': 962.8, 'ADV': 240.7}"
      ]
     },
     "execution_count": 35,
     "metadata": {},
     "output_type": "execute_result"
    }
   ],
   "source": [
    "dicty"
   ]
  },
  {
   "cell_type": "code",
   "execution_count": 6,
   "metadata": {},
   "outputs": [],
   "source": [
    "def count_ner(doc, entity_label):\n",
    "\n",
    "    labels = []\n",
    "\n",
    "    for ent in doc.ents:\n",
    "        if ent.label_ == entity_label:\n",
    "            labels.append(ent.text)\n",
    "        else:\n",
    "            continue\n",
    "    \n",
    "    unique_labels = len(set(labels))\n",
    "    \n",
    "    return unique_labels"
   ]
  },
  {
   "cell_type": "code",
   "execution_count": 249,
   "metadata": {},
   "outputs": [],
   "source": [
    "ner_labels = ['PERSON', 'LOC', 'ORG']\n",
    "ners = [count_ner(doc, label) for label in ner_labels]"
   ]
  },
  {
   "cell_type": "code",
   "execution_count": 250,
   "metadata": {},
   "outputs": [
    {
     "data": {
      "text/plain": [
       "[1, 0, 0]"
      ]
     },
     "execution_count": 250,
     "metadata": {},
     "output_type": "execute_result"
    }
   ],
   "source": [
    "ners"
   ]
  },
  {
   "cell_type": "code",
   "execution_count": 27,
   "metadata": {},
   "outputs": [],
   "source": [
    "def extract_ling_info(folder_path, filename):\n",
    "    \n",
    "    path_to_txt_file = os.path.join(folder_path, filename)\n",
    "\n",
    "    cleaned_text = read_and_preprocess(path_to_txt_file)\n",
    "\n",
    "    nlp = spacy.load(\"en_core_web_lg\")\n",
    "    \n",
    "    doc = nlp(cleaned_text)\n",
    "    \n",
    "    pos_name = ['NOUN', 'VERB', 'ADJ', 'ADV']\n",
    "    rel_freqs = [count_relfreq_pos(doc, tag) for tag in pos_name]\n",
    "\n",
    "    ner_labels = ['PERSON', 'LOC', 'ORG']\n",
    "    \n",
    "    ners = [count_ner(doc, label) for label in ner_labels]\n",
    "\n",
    "    return rel_freqs, ners\n",
    "    "
   ]
  },
  {
   "cell_type": "code",
   "execution_count": 36,
   "metadata": {},
   "outputs": [
    {
     "name": "stdout",
     "output_type": "stream",
     "text": [
      "Defaulting to user installation because normal site-packages is not writeable\n",
      "Requirement already satisfied: tqdm in /home/ucloud/.local/lib/python3.10/site-packages (4.66.2)\n",
      "Note: you may need to restart the kernel to use updated packages.\n"
     ]
    }
   ],
   "source": [
    "pip install tqdm"
   ]
  },
  {
   "cell_type": "code",
   "execution_count": 37,
   "metadata": {},
   "outputs": [],
   "source": [
    "from tqdm import tqdm"
   ]
  },
  {
   "cell_type": "code",
   "execution_count": 46,
   "metadata": {},
   "outputs": [],
   "source": [
    "def extract_from_folder(folder_name):\n",
    "\n",
    "    filenames = []\n",
    "    RelFreq_NOUN = []\n",
    "    RelFreq_VERB = []\n",
    "    RelFreq_ADJ = []\n",
    "    RelFreq_ADV = []\n",
    "\n",
    "    Unique_PER = []\n",
    "    Unique_LOC = []\n",
    "    Unique_ORG = []\n",
    "\n",
    "    folder_path = os.path.join('in', 'USEcorpus', folder_name)\n",
    "\n",
    "    for file in tqdm(os.listdir(folder_path), desc='Extracting linguistic information'):\n",
    "        \n",
    "        rel_freqs, ners = extract_ling_info(folder_path, file)\n",
    "\n",
    "        filenames.append(file)\n",
    "        RelFreq_NOUN.append(rel_freqs[0])\n",
    "        RelFreq_VERB.append(rel_freqs[1])\n",
    "        RelFreq_ADJ.append(rel_freqs[2])\n",
    "        RelFreq_ADV.append(rel_freqs[3])\n",
    "\n",
    "        Unique_PER.append(ners[0])\n",
    "        Unique_LOC.append(ners[1])\n",
    "        Unique_ORG.append(ners[2])\n",
    "\n",
    "    \n",
    "    # create dataframe\n",
    "    data = {'Filename': filenames,\n",
    "    'RelFreq_NOUN' : RelFreq_NOUN,\n",
    "    'RelFreq_VERB': RelFreq_VERB,\n",
    "    'RelFreq_ADJ': RelFreq_ADJ,\n",
    "    'RelFreq_ADV': RelFreq_ADV,\n",
    "    'Unique_PER': Unique_PER,\n",
    "    'Unique_LOC': Unique_LOC, \n",
    "    'Unique_ORG': Unique_ORG}\n",
    "\n",
    "    df = pd.DataFrame(data)\n",
    "\n",
    "    df.to_csv(f'out/{folder_name}.csv', index=False)"
   ]
  },
  {
   "cell_type": "code",
   "execution_count": 47,
   "metadata": {},
   "outputs": [
    {
     "name": "stderr",
     "output_type": "stream",
     "text": [
      "Extracting linguistic information: 100%|██████████| 3/3 [00:06<00:00,  2.31s/it]\n"
     ]
    }
   ],
   "source": [
    "extract_from_folder('b8')"
   ]
  },
  {
   "cell_type": "code",
   "execution_count": 48,
   "metadata": {},
   "outputs": [],
   "source": [
    "df = pd.read_csv('out/b8.csv')"
   ]
  },
  {
   "cell_type": "code",
   "execution_count": 49,
   "metadata": {},
   "outputs": [
    {
     "data": {
      "text/html": [
       "<div>\n",
       "<style scoped>\n",
       "    .dataframe tbody tr th:only-of-type {\n",
       "        vertical-align: middle;\n",
       "    }\n",
       "\n",
       "    .dataframe tbody tr th {\n",
       "        vertical-align: top;\n",
       "    }\n",
       "\n",
       "    .dataframe thead th {\n",
       "        text-align: right;\n",
       "    }\n",
       "</style>\n",
       "<table border=\"1\" class=\"dataframe\">\n",
       "  <thead>\n",
       "    <tr style=\"text-align: right;\">\n",
       "      <th></th>\n",
       "      <th>Filename</th>\n",
       "      <th>RelFreq_NOUN</th>\n",
       "      <th>RelFreq_VERB</th>\n",
       "      <th>RelFreq_ADJ</th>\n",
       "      <th>RelFreq_ADV</th>\n",
       "      <th>Unique_PER</th>\n",
       "      <th>Unique_LOC</th>\n",
       "      <th>Unique_ORG</th>\n",
       "    </tr>\n",
       "  </thead>\n",
       "  <tbody>\n",
       "    <tr>\n",
       "      <th>0</th>\n",
       "      <td>0158.b8.txt</td>\n",
       "      <td>1825.14</td>\n",
       "      <td>1078.49</td>\n",
       "      <td>708.36</td>\n",
       "      <td>382.90</td>\n",
       "      <td>3</td>\n",
       "      <td>1</td>\n",
       "      <td>3</td>\n",
       "    </tr>\n",
       "    <tr>\n",
       "      <th>1</th>\n",
       "      <td>0318.b8.txt</td>\n",
       "      <td>1695.74</td>\n",
       "      <td>1143.41</td>\n",
       "      <td>697.67</td>\n",
       "      <td>416.67</td>\n",
       "      <td>0</td>\n",
       "      <td>0</td>\n",
       "      <td>1</td>\n",
       "    </tr>\n",
       "    <tr>\n",
       "      <th>2</th>\n",
       "      <td>0219.b8.txt</td>\n",
       "      <td>1645.57</td>\n",
       "      <td>982.52</td>\n",
       "      <td>753.47</td>\n",
       "      <td>602.77</td>\n",
       "      <td>7</td>\n",
       "      <td>2</td>\n",
       "      <td>4</td>\n",
       "    </tr>\n",
       "  </tbody>\n",
       "</table>\n",
       "</div>"
      ],
      "text/plain": [
       "      Filename  RelFreq_NOUN  RelFreq_VERB  RelFreq_ADJ  RelFreq_ADV  \\\n",
       "0  0158.b8.txt       1825.14       1078.49       708.36       382.90   \n",
       "1  0318.b8.txt       1695.74       1143.41       697.67       416.67   \n",
       "2  0219.b8.txt       1645.57        982.52       753.47       602.77   \n",
       "\n",
       "   Unique_PER  Unique_LOC  Unique_ORG  \n",
       "0           3           1           3  \n",
       "1           0           0           1  \n",
       "2           7           2           4  "
      ]
     },
     "execution_count": 49,
     "metadata": {},
     "output_type": "execute_result"
    }
   ],
   "source": [
    "df"
   ]
  },
  {
   "cell_type": "code",
   "execution_count": 50,
   "metadata": {},
   "outputs": [
    {
     "name": "stdout",
     "output_type": "stream",
     "text": [
      "b7\n",
      "b6\n",
      "a1\n",
      "a5\n",
      "b3\n",
      "b8\n",
      "a2\n",
      "b2\n",
      "b1\n",
      "a3\n",
      "a4\n",
      "c1\n",
      "b4\n",
      "b5\n"
     ]
    }
   ],
   "source": [
    "subdir_path = os.path.join('in', 'USEcorpus')\n",
    "\n",
    "for dir in os.listdir(subdir_path):\n",
    "    print(dir)"
   ]
  },
  {
   "cell_type": "code",
   "execution_count": 51,
   "metadata": {},
   "outputs": [
    {
     "name": "stderr",
     "output_type": "stream",
     "text": [
      "Extracting linguistic information: 100%|██████████| 15/15 [00:34<00:00,  2.33s/it]\n",
      "Extracting linguistic information: 100%|██████████| 12/12 [00:27<00:00,  2.30s/it]\n",
      "Extracting linguistic information:  11%|█         | 34/303 [01:15<09:59,  2.23s/it]\n"
     ]
    },
    {
     "ename": "KeyboardInterrupt",
     "evalue": "",
     "output_type": "error",
     "traceback": [
      "\u001b[0;31m---------------------------------------------------------------------------\u001b[0m",
      "\u001b[0;31mKeyboardInterrupt\u001b[0m                         Traceback (most recent call last)",
      "\u001b[1;32m/work/assignment-1-linguistic-analysis-using-nlp-louisebphansen/assignment1.ipynb Cell 30\u001b[0m line \u001b[0;36m3\n\u001b[1;32m      <a href='vscode-notebook-cell://app-5017813-0.cloud.sdu.dk/work/assignment-1-linguistic-analysis-using-nlp-louisebphansen/assignment1.ipynb#Y112sdnNjb2RlLXJlbW90ZQ%3D%3D?line=0'>1</a>\u001b[0m \u001b[39mfor\u001b[39;00m \u001b[39mdir\u001b[39m \u001b[39min\u001b[39;00m os\u001b[39m.\u001b[39mlistdir(subdir_path):\n\u001b[0;32m----> <a href='vscode-notebook-cell://app-5017813-0.cloud.sdu.dk/work/assignment-1-linguistic-analysis-using-nlp-louisebphansen/assignment1.ipynb#Y112sdnNjb2RlLXJlbW90ZQ%3D%3D?line=2'>3</a>\u001b[0m     extract_from_folder(\u001b[39mdir\u001b[39;49m)\n",
      "\u001b[1;32m/work/assignment-1-linguistic-analysis-using-nlp-louisebphansen/assignment1.ipynb Cell 30\u001b[0m line \u001b[0;36m1\n\u001b[1;32m     <a href='vscode-notebook-cell://app-5017813-0.cloud.sdu.dk/work/assignment-1-linguistic-analysis-using-nlp-louisebphansen/assignment1.ipynb#Y112sdnNjb2RlLXJlbW90ZQ%3D%3D?line=12'>13</a>\u001b[0m folder_path \u001b[39m=\u001b[39m os\u001b[39m.\u001b[39mpath\u001b[39m.\u001b[39mjoin(\u001b[39m'\u001b[39m\u001b[39min\u001b[39m\u001b[39m'\u001b[39m, \u001b[39m'\u001b[39m\u001b[39mUSEcorpus\u001b[39m\u001b[39m'\u001b[39m, folder_name)\n\u001b[1;32m     <a href='vscode-notebook-cell://app-5017813-0.cloud.sdu.dk/work/assignment-1-linguistic-analysis-using-nlp-louisebphansen/assignment1.ipynb#Y112sdnNjb2RlLXJlbW90ZQ%3D%3D?line=14'>15</a>\u001b[0m \u001b[39mfor\u001b[39;00m file \u001b[39min\u001b[39;00m tqdm(os\u001b[39m.\u001b[39mlistdir(folder_path), desc\u001b[39m=\u001b[39m\u001b[39m'\u001b[39m\u001b[39mExtracting linguistic information\u001b[39m\u001b[39m'\u001b[39m):\n\u001b[0;32m---> <a href='vscode-notebook-cell://app-5017813-0.cloud.sdu.dk/work/assignment-1-linguistic-analysis-using-nlp-louisebphansen/assignment1.ipynb#Y112sdnNjb2RlLXJlbW90ZQ%3D%3D?line=16'>17</a>\u001b[0m     rel_freqs, ners \u001b[39m=\u001b[39m extract_ling_info(folder_path, file)\n\u001b[1;32m     <a href='vscode-notebook-cell://app-5017813-0.cloud.sdu.dk/work/assignment-1-linguistic-analysis-using-nlp-louisebphansen/assignment1.ipynb#Y112sdnNjb2RlLXJlbW90ZQ%3D%3D?line=18'>19</a>\u001b[0m     filenames\u001b[39m.\u001b[39mappend(file)\n\u001b[1;32m     <a href='vscode-notebook-cell://app-5017813-0.cloud.sdu.dk/work/assignment-1-linguistic-analysis-using-nlp-louisebphansen/assignment1.ipynb#Y112sdnNjb2RlLXJlbW90ZQ%3D%3D?line=19'>20</a>\u001b[0m     RelFreq_NOUN\u001b[39m.\u001b[39mappend(rel_freqs[\u001b[39m0\u001b[39m])\n",
      "\u001b[1;32m/work/assignment-1-linguistic-analysis-using-nlp-louisebphansen/assignment1.ipynb Cell 30\u001b[0m line \u001b[0;36m7\n\u001b[1;32m      <a href='vscode-notebook-cell://app-5017813-0.cloud.sdu.dk/work/assignment-1-linguistic-analysis-using-nlp-louisebphansen/assignment1.ipynb#Y112sdnNjb2RlLXJlbW90ZQ%3D%3D?line=2'>3</a>\u001b[0m path_to_txt_file \u001b[39m=\u001b[39m os\u001b[39m.\u001b[39mpath\u001b[39m.\u001b[39mjoin(folder_path, filename)\n\u001b[1;32m      <a href='vscode-notebook-cell://app-5017813-0.cloud.sdu.dk/work/assignment-1-linguistic-analysis-using-nlp-louisebphansen/assignment1.ipynb#Y112sdnNjb2RlLXJlbW90ZQ%3D%3D?line=4'>5</a>\u001b[0m cleaned_text \u001b[39m=\u001b[39m read_and_preprocess(path_to_txt_file)\n\u001b[0;32m----> <a href='vscode-notebook-cell://app-5017813-0.cloud.sdu.dk/work/assignment-1-linguistic-analysis-using-nlp-louisebphansen/assignment1.ipynb#Y112sdnNjb2RlLXJlbW90ZQ%3D%3D?line=6'>7</a>\u001b[0m nlp \u001b[39m=\u001b[39m spacy\u001b[39m.\u001b[39;49mload(\u001b[39m\"\u001b[39;49m\u001b[39men_core_web_lg\u001b[39;49m\u001b[39m\"\u001b[39;49m)\n\u001b[1;32m      <a href='vscode-notebook-cell://app-5017813-0.cloud.sdu.dk/work/assignment-1-linguistic-analysis-using-nlp-louisebphansen/assignment1.ipynb#Y112sdnNjb2RlLXJlbW90ZQ%3D%3D?line=8'>9</a>\u001b[0m doc \u001b[39m=\u001b[39m nlp(cleaned_text)\n\u001b[1;32m     <a href='vscode-notebook-cell://app-5017813-0.cloud.sdu.dk/work/assignment-1-linguistic-analysis-using-nlp-louisebphansen/assignment1.ipynb#Y112sdnNjb2RlLXJlbW90ZQ%3D%3D?line=10'>11</a>\u001b[0m pos_name \u001b[39m=\u001b[39m [\u001b[39m'\u001b[39m\u001b[39mNOUN\u001b[39m\u001b[39m'\u001b[39m, \u001b[39m'\u001b[39m\u001b[39mVERB\u001b[39m\u001b[39m'\u001b[39m, \u001b[39m'\u001b[39m\u001b[39mADJ\u001b[39m\u001b[39m'\u001b[39m, \u001b[39m'\u001b[39m\u001b[39mADV\u001b[39m\u001b[39m'\u001b[39m]\n",
      "File \u001b[0;32m~/.local/lib/python3.10/site-packages/spacy/__init__.py:51\u001b[0m, in \u001b[0;36mload\u001b[0;34m(name, vocab, disable, enable, exclude, config)\u001b[0m\n\u001b[1;32m     27\u001b[0m \u001b[39mdef\u001b[39;00m \u001b[39mload\u001b[39m(\n\u001b[1;32m     28\u001b[0m     name: Union[\u001b[39mstr\u001b[39m, Path],\n\u001b[1;32m     29\u001b[0m     \u001b[39m*\u001b[39m,\n\u001b[0;32m   (...)\u001b[0m\n\u001b[1;32m     34\u001b[0m     config: Union[Dict[\u001b[39mstr\u001b[39m, Any], Config] \u001b[39m=\u001b[39m util\u001b[39m.\u001b[39mSimpleFrozenDict(),\n\u001b[1;32m     35\u001b[0m ) \u001b[39m-\u001b[39m\u001b[39m>\u001b[39m Language:\n\u001b[1;32m     36\u001b[0m \u001b[39m    \u001b[39m\u001b[39m\"\"\"Load a spaCy model from an installed package or a local path.\u001b[39;00m\n\u001b[1;32m     37\u001b[0m \n\u001b[1;32m     38\u001b[0m \u001b[39m    name (str): Package name or model path.\u001b[39;00m\n\u001b[0;32m   (...)\u001b[0m\n\u001b[1;32m     49\u001b[0m \u001b[39m    RETURNS (Language): The loaded nlp object.\u001b[39;00m\n\u001b[1;32m     50\u001b[0m \u001b[39m    \"\"\"\u001b[39;00m\n\u001b[0;32m---> 51\u001b[0m     \u001b[39mreturn\u001b[39;00m util\u001b[39m.\u001b[39;49mload_model(\n\u001b[1;32m     52\u001b[0m         name,\n\u001b[1;32m     53\u001b[0m         vocab\u001b[39m=\u001b[39;49mvocab,\n\u001b[1;32m     54\u001b[0m         disable\u001b[39m=\u001b[39;49mdisable,\n\u001b[1;32m     55\u001b[0m         enable\u001b[39m=\u001b[39;49menable,\n\u001b[1;32m     56\u001b[0m         exclude\u001b[39m=\u001b[39;49mexclude,\n\u001b[1;32m     57\u001b[0m         config\u001b[39m=\u001b[39;49mconfig,\n\u001b[1;32m     58\u001b[0m     )\n",
      "File \u001b[0;32m~/.local/lib/python3.10/site-packages/spacy/util.py:465\u001b[0m, in \u001b[0;36mload_model\u001b[0;34m(name, vocab, disable, enable, exclude, config)\u001b[0m\n\u001b[1;32m    463\u001b[0m     \u001b[39mreturn\u001b[39;00m get_lang_class(name\u001b[39m.\u001b[39mreplace(\u001b[39m\"\u001b[39m\u001b[39mblank:\u001b[39m\u001b[39m\"\u001b[39m, \u001b[39m\"\u001b[39m\u001b[39m\"\u001b[39m))()\n\u001b[1;32m    464\u001b[0m \u001b[39mif\u001b[39;00m is_package(name):  \u001b[39m# installed as package\u001b[39;00m\n\u001b[0;32m--> 465\u001b[0m     \u001b[39mreturn\u001b[39;00m load_model_from_package(name, \u001b[39m*\u001b[39;49m\u001b[39m*\u001b[39;49mkwargs)  \u001b[39m# type: ignore[arg-type]\u001b[39;00m\n\u001b[1;32m    466\u001b[0m \u001b[39mif\u001b[39;00m Path(name)\u001b[39m.\u001b[39mexists():  \u001b[39m# path to model data directory\u001b[39;00m\n\u001b[1;32m    467\u001b[0m     \u001b[39mreturn\u001b[39;00m load_model_from_path(Path(name), \u001b[39m*\u001b[39m\u001b[39m*\u001b[39mkwargs)  \u001b[39m# type: ignore[arg-type]\u001b[39;00m\n",
      "File \u001b[0;32m~/.local/lib/python3.10/site-packages/spacy/util.py:501\u001b[0m, in \u001b[0;36mload_model_from_package\u001b[0;34m(name, vocab, disable, enable, exclude, config)\u001b[0m\n\u001b[1;32m    484\u001b[0m \u001b[39m\u001b[39m\u001b[39m\"\"\"Load a model from an installed package.\u001b[39;00m\n\u001b[1;32m    485\u001b[0m \n\u001b[1;32m    486\u001b[0m \u001b[39mname (str): The package name.\u001b[39;00m\n\u001b[0;32m   (...)\u001b[0m\n\u001b[1;32m    498\u001b[0m \u001b[39mRETURNS (Language): The loaded nlp object.\u001b[39;00m\n\u001b[1;32m    499\u001b[0m \u001b[39m\"\"\"\u001b[39;00m\n\u001b[1;32m    500\u001b[0m \u001b[39mcls\u001b[39m \u001b[39m=\u001b[39m importlib\u001b[39m.\u001b[39mimport_module(name)\n\u001b[0;32m--> 501\u001b[0m \u001b[39mreturn\u001b[39;00m \u001b[39mcls\u001b[39;49m\u001b[39m.\u001b[39;49mload(vocab\u001b[39m=\u001b[39;49mvocab, disable\u001b[39m=\u001b[39;49mdisable, enable\u001b[39m=\u001b[39;49menable, exclude\u001b[39m=\u001b[39;49mexclude, config\u001b[39m=\u001b[39;49mconfig)\n",
      "File \u001b[0;32m~/.local/lib/python3.10/site-packages/en_core_web_lg/__init__.py:10\u001b[0m, in \u001b[0;36mload\u001b[0;34m(**overrides)\u001b[0m\n\u001b[1;32m      9\u001b[0m \u001b[39mdef\u001b[39;00m \u001b[39mload\u001b[39m(\u001b[39m*\u001b[39m\u001b[39m*\u001b[39moverrides):\n\u001b[0;32m---> 10\u001b[0m     \u001b[39mreturn\u001b[39;00m load_model_from_init_py(\u001b[39m__file__\u001b[39;49m, \u001b[39m*\u001b[39;49m\u001b[39m*\u001b[39;49moverrides)\n",
      "File \u001b[0;32m~/.local/lib/python3.10/site-packages/spacy/util.py:682\u001b[0m, in \u001b[0;36mload_model_from_init_py\u001b[0;34m(init_file, vocab, disable, enable, exclude, config)\u001b[0m\n\u001b[1;32m    680\u001b[0m \u001b[39mif\u001b[39;00m \u001b[39mnot\u001b[39;00m model_path\u001b[39m.\u001b[39mexists():\n\u001b[1;32m    681\u001b[0m     \u001b[39mraise\u001b[39;00m \u001b[39mIOError\u001b[39;00m(Errors\u001b[39m.\u001b[39mE052\u001b[39m.\u001b[39mformat(path\u001b[39m=\u001b[39mdata_path))\n\u001b[0;32m--> 682\u001b[0m \u001b[39mreturn\u001b[39;00m load_model_from_path(\n\u001b[1;32m    683\u001b[0m     data_path,\n\u001b[1;32m    684\u001b[0m     vocab\u001b[39m=\u001b[39;49mvocab,\n\u001b[1;32m    685\u001b[0m     meta\u001b[39m=\u001b[39;49mmeta,\n\u001b[1;32m    686\u001b[0m     disable\u001b[39m=\u001b[39;49mdisable,\n\u001b[1;32m    687\u001b[0m     enable\u001b[39m=\u001b[39;49menable,\n\u001b[1;32m    688\u001b[0m     exclude\u001b[39m=\u001b[39;49mexclude,\n\u001b[1;32m    689\u001b[0m     config\u001b[39m=\u001b[39;49mconfig,\n\u001b[1;32m    690\u001b[0m )\n",
      "File \u001b[0;32m~/.local/lib/python3.10/site-packages/spacy/util.py:539\u001b[0m, in \u001b[0;36mload_model_from_path\u001b[0;34m(model_path, meta, vocab, disable, enable, exclude, config)\u001b[0m\n\u001b[1;32m    537\u001b[0m overrides \u001b[39m=\u001b[39m dict_to_dot(config, for_overrides\u001b[39m=\u001b[39m\u001b[39mTrue\u001b[39;00m)\n\u001b[1;32m    538\u001b[0m config \u001b[39m=\u001b[39m load_config(config_path, overrides\u001b[39m=\u001b[39moverrides)\n\u001b[0;32m--> 539\u001b[0m nlp \u001b[39m=\u001b[39m load_model_from_config(\n\u001b[1;32m    540\u001b[0m     config,\n\u001b[1;32m    541\u001b[0m     vocab\u001b[39m=\u001b[39;49mvocab,\n\u001b[1;32m    542\u001b[0m     disable\u001b[39m=\u001b[39;49mdisable,\n\u001b[1;32m    543\u001b[0m     enable\u001b[39m=\u001b[39;49menable,\n\u001b[1;32m    544\u001b[0m     exclude\u001b[39m=\u001b[39;49mexclude,\n\u001b[1;32m    545\u001b[0m     meta\u001b[39m=\u001b[39;49mmeta,\n\u001b[1;32m    546\u001b[0m )\n\u001b[1;32m    547\u001b[0m \u001b[39mreturn\u001b[39;00m nlp\u001b[39m.\u001b[39mfrom_disk(model_path, exclude\u001b[39m=\u001b[39mexclude, overrides\u001b[39m=\u001b[39moverrides)\n",
      "File \u001b[0;32m~/.local/lib/python3.10/site-packages/spacy/util.py:587\u001b[0m, in \u001b[0;36mload_model_from_config\u001b[0;34m(config, meta, vocab, disable, enable, exclude, auto_fill, validate)\u001b[0m\n\u001b[1;32m    584\u001b[0m \u001b[39m# This will automatically handle all codes registered via the languages\u001b[39;00m\n\u001b[1;32m    585\u001b[0m \u001b[39m# registry, including custom subclasses provided via entry points\u001b[39;00m\n\u001b[1;32m    586\u001b[0m lang_cls \u001b[39m=\u001b[39m get_lang_class(nlp_config[\u001b[39m\"\u001b[39m\u001b[39mlang\u001b[39m\u001b[39m\"\u001b[39m])\n\u001b[0;32m--> 587\u001b[0m nlp \u001b[39m=\u001b[39m lang_cls\u001b[39m.\u001b[39;49mfrom_config(\n\u001b[1;32m    588\u001b[0m     config,\n\u001b[1;32m    589\u001b[0m     vocab\u001b[39m=\u001b[39;49mvocab,\n\u001b[1;32m    590\u001b[0m     disable\u001b[39m=\u001b[39;49mdisable,\n\u001b[1;32m    591\u001b[0m     enable\u001b[39m=\u001b[39;49menable,\n\u001b[1;32m    592\u001b[0m     exclude\u001b[39m=\u001b[39;49mexclude,\n\u001b[1;32m    593\u001b[0m     auto_fill\u001b[39m=\u001b[39;49mauto_fill,\n\u001b[1;32m    594\u001b[0m     validate\u001b[39m=\u001b[39;49mvalidate,\n\u001b[1;32m    595\u001b[0m     meta\u001b[39m=\u001b[39;49mmeta,\n\u001b[1;32m    596\u001b[0m )\n\u001b[1;32m    597\u001b[0m \u001b[39mreturn\u001b[39;00m nlp\n",
      "File \u001b[0;32m~/.local/lib/python3.10/site-packages/spacy/language.py:1889\u001b[0m, in \u001b[0;36mLanguage.from_config\u001b[0;34m(cls, config, vocab, disable, enable, exclude, meta, auto_fill, validate)\u001b[0m\n\u001b[1;32m   1886\u001b[0m     factory \u001b[39m=\u001b[39m pipe_cfg\u001b[39m.\u001b[39mpop(\u001b[39m\"\u001b[39m\u001b[39mfactory\u001b[39m\u001b[39m\"\u001b[39m)\n\u001b[1;32m   1887\u001b[0m     \u001b[39m# The pipe name (key in the config) here is the unique name\u001b[39;00m\n\u001b[1;32m   1888\u001b[0m     \u001b[39m# of the component, not necessarily the factory\u001b[39;00m\n\u001b[0;32m-> 1889\u001b[0m     nlp\u001b[39m.\u001b[39;49madd_pipe(\n\u001b[1;32m   1890\u001b[0m         factory,\n\u001b[1;32m   1891\u001b[0m         name\u001b[39m=\u001b[39;49mpipe_name,\n\u001b[1;32m   1892\u001b[0m         config\u001b[39m=\u001b[39;49mpipe_cfg,\n\u001b[1;32m   1893\u001b[0m         validate\u001b[39m=\u001b[39;49mvalidate,\n\u001b[1;32m   1894\u001b[0m         raw_config\u001b[39m=\u001b[39;49mraw_config,\n\u001b[1;32m   1895\u001b[0m     )\n\u001b[1;32m   1896\u001b[0m \u001b[39melse\u001b[39;00m:\n\u001b[1;32m   1897\u001b[0m     \u001b[39massert\u001b[39;00m \u001b[39m\"\u001b[39m\u001b[39msource\u001b[39m\u001b[39m\"\u001b[39m \u001b[39min\u001b[39;00m pipe_cfg\n",
      "File \u001b[0;32m~/.local/lib/python3.10/site-packages/spacy/language.py:821\u001b[0m, in \u001b[0;36mLanguage.add_pipe\u001b[0;34m(self, factory_name, name, before, after, first, last, source, config, raw_config, validate)\u001b[0m\n\u001b[1;32m    817\u001b[0m     pipe_component, factory_name \u001b[39m=\u001b[39m \u001b[39mself\u001b[39m\u001b[39m.\u001b[39mcreate_pipe_from_source(\n\u001b[1;32m    818\u001b[0m         factory_name, source, name\u001b[39m=\u001b[39mname\n\u001b[1;32m    819\u001b[0m     )\n\u001b[1;32m    820\u001b[0m \u001b[39melse\u001b[39;00m:\n\u001b[0;32m--> 821\u001b[0m     pipe_component \u001b[39m=\u001b[39m \u001b[39mself\u001b[39;49m\u001b[39m.\u001b[39;49mcreate_pipe(\n\u001b[1;32m    822\u001b[0m         factory_name,\n\u001b[1;32m    823\u001b[0m         name\u001b[39m=\u001b[39;49mname,\n\u001b[1;32m    824\u001b[0m         config\u001b[39m=\u001b[39;49mconfig,\n\u001b[1;32m    825\u001b[0m         raw_config\u001b[39m=\u001b[39;49mraw_config,\n\u001b[1;32m    826\u001b[0m         validate\u001b[39m=\u001b[39;49mvalidate,\n\u001b[1;32m    827\u001b[0m     )\n\u001b[1;32m    828\u001b[0m pipe_index \u001b[39m=\u001b[39m \u001b[39mself\u001b[39m\u001b[39m.\u001b[39m_get_pipe_index(before, after, first, last)\n\u001b[1;32m    829\u001b[0m \u001b[39mself\u001b[39m\u001b[39m.\u001b[39m_pipe_meta[name] \u001b[39m=\u001b[39m \u001b[39mself\u001b[39m\u001b[39m.\u001b[39mget_factory_meta(factory_name)\n",
      "File \u001b[0;32m~/.local/lib/python3.10/site-packages/spacy/language.py:709\u001b[0m, in \u001b[0;36mLanguage.create_pipe\u001b[0;34m(self, factory_name, name, config, raw_config, validate)\u001b[0m\n\u001b[1;32m    706\u001b[0m cfg \u001b[39m=\u001b[39m {factory_name: config}\n\u001b[1;32m    707\u001b[0m \u001b[39m# We're calling the internal _fill here to avoid constructing the\u001b[39;00m\n\u001b[1;32m    708\u001b[0m \u001b[39m# registered functions twice\u001b[39;00m\n\u001b[0;32m--> 709\u001b[0m resolved \u001b[39m=\u001b[39m registry\u001b[39m.\u001b[39;49mresolve(cfg, validate\u001b[39m=\u001b[39;49mvalidate)\n\u001b[1;32m    710\u001b[0m filled \u001b[39m=\u001b[39m registry\u001b[39m.\u001b[39mfill({\u001b[39m\"\u001b[39m\u001b[39mcfg\u001b[39m\u001b[39m\"\u001b[39m: cfg[factory_name]}, validate\u001b[39m=\u001b[39mvalidate)[\u001b[39m\"\u001b[39m\u001b[39mcfg\u001b[39m\u001b[39m\"\u001b[39m]\n\u001b[1;32m    711\u001b[0m filled \u001b[39m=\u001b[39m Config(filled)\n",
      "File \u001b[0;32m~/.local/lib/python3.10/site-packages/confection/__init__.py:759\u001b[0m, in \u001b[0;36mregistry.resolve\u001b[0;34m(cls, config, schema, overrides, validate)\u001b[0m\n\u001b[1;32m    750\u001b[0m \u001b[39m@classmethod\u001b[39m\n\u001b[1;32m    751\u001b[0m \u001b[39mdef\u001b[39;00m \u001b[39mresolve\u001b[39m(\n\u001b[1;32m    752\u001b[0m     \u001b[39mcls\u001b[39m,\n\u001b[0;32m   (...)\u001b[0m\n\u001b[1;32m    757\u001b[0m     validate: \u001b[39mbool\u001b[39m \u001b[39m=\u001b[39m \u001b[39mTrue\u001b[39;00m,\n\u001b[1;32m    758\u001b[0m ) \u001b[39m-\u001b[39m\u001b[39m>\u001b[39m Dict[\u001b[39mstr\u001b[39m, Any]:\n\u001b[0;32m--> 759\u001b[0m     resolved, _ \u001b[39m=\u001b[39m \u001b[39mcls\u001b[39;49m\u001b[39m.\u001b[39;49m_make(\n\u001b[1;32m    760\u001b[0m         config, schema\u001b[39m=\u001b[39;49mschema, overrides\u001b[39m=\u001b[39;49moverrides, validate\u001b[39m=\u001b[39;49mvalidate, resolve\u001b[39m=\u001b[39;49m\u001b[39mTrue\u001b[39;49;00m\n\u001b[1;32m    761\u001b[0m     )\n\u001b[1;32m    762\u001b[0m     \u001b[39mreturn\u001b[39;00m resolved\n",
      "File \u001b[0;32m~/.local/lib/python3.10/site-packages/confection/__init__.py:808\u001b[0m, in \u001b[0;36mregistry._make\u001b[0;34m(cls, config, schema, overrides, resolve, validate)\u001b[0m\n\u001b[1;32m    806\u001b[0m \u001b[39mif\u001b[39;00m \u001b[39mnot\u001b[39;00m is_interpolated:\n\u001b[1;32m    807\u001b[0m     config \u001b[39m=\u001b[39m Config(orig_config)\u001b[39m.\u001b[39minterpolate()\n\u001b[0;32m--> 808\u001b[0m filled, _, resolved \u001b[39m=\u001b[39m \u001b[39mcls\u001b[39;49m\u001b[39m.\u001b[39;49m_fill(\n\u001b[1;32m    809\u001b[0m     config, schema, validate\u001b[39m=\u001b[39;49mvalidate, overrides\u001b[39m=\u001b[39;49moverrides, resolve\u001b[39m=\u001b[39;49mresolve\n\u001b[1;32m    810\u001b[0m )\n\u001b[1;32m    811\u001b[0m filled \u001b[39m=\u001b[39m Config(filled, section_order\u001b[39m=\u001b[39msection_order)\n\u001b[1;32m    812\u001b[0m \u001b[39m# Check that overrides didn't include invalid properties not in config\u001b[39;00m\n",
      "File \u001b[0;32m~/.local/lib/python3.10/site-packages/confection/__init__.py:863\u001b[0m, in \u001b[0;36mregistry._fill\u001b[0;34m(cls, config, schema, validate, resolve, parent, overrides)\u001b[0m\n\u001b[1;32m    861\u001b[0m     schema\u001b[39m.\u001b[39m__fields__[key] \u001b[39m=\u001b[39m copy_model_field(field, Any)\n\u001b[1;32m    862\u001b[0m promise_schema \u001b[39m=\u001b[39m \u001b[39mcls\u001b[39m\u001b[39m.\u001b[39mmake_promise_schema(value, resolve\u001b[39m=\u001b[39mresolve)\n\u001b[0;32m--> 863\u001b[0m filled[key], validation[v_key], final[key] \u001b[39m=\u001b[39m \u001b[39mcls\u001b[39;49m\u001b[39m.\u001b[39;49m_fill(\n\u001b[1;32m    864\u001b[0m     value,\n\u001b[1;32m    865\u001b[0m     promise_schema,\n\u001b[1;32m    866\u001b[0m     validate\u001b[39m=\u001b[39;49mvalidate,\n\u001b[1;32m    867\u001b[0m     resolve\u001b[39m=\u001b[39;49mresolve,\n\u001b[1;32m    868\u001b[0m     parent\u001b[39m=\u001b[39;49mkey_parent,\n\u001b[1;32m    869\u001b[0m     overrides\u001b[39m=\u001b[39;49moverrides,\n\u001b[1;32m    870\u001b[0m )\n\u001b[1;32m    871\u001b[0m reg_name, func_name \u001b[39m=\u001b[39m \u001b[39mcls\u001b[39m\u001b[39m.\u001b[39mget_constructor(final[key])\n\u001b[1;32m    872\u001b[0m args, kwargs \u001b[39m=\u001b[39m \u001b[39mcls\u001b[39m\u001b[39m.\u001b[39mparse_args(final[key])\n",
      "File \u001b[0;32m~/.local/lib/python3.10/site-packages/confection/__init__.py:863\u001b[0m, in \u001b[0;36mregistry._fill\u001b[0;34m(cls, config, schema, validate, resolve, parent, overrides)\u001b[0m\n\u001b[1;32m    861\u001b[0m     schema\u001b[39m.\u001b[39m__fields__[key] \u001b[39m=\u001b[39m copy_model_field(field, Any)\n\u001b[1;32m    862\u001b[0m promise_schema \u001b[39m=\u001b[39m \u001b[39mcls\u001b[39m\u001b[39m.\u001b[39mmake_promise_schema(value, resolve\u001b[39m=\u001b[39mresolve)\n\u001b[0;32m--> 863\u001b[0m filled[key], validation[v_key], final[key] \u001b[39m=\u001b[39m \u001b[39mcls\u001b[39;49m\u001b[39m.\u001b[39;49m_fill(\n\u001b[1;32m    864\u001b[0m     value,\n\u001b[1;32m    865\u001b[0m     promise_schema,\n\u001b[1;32m    866\u001b[0m     validate\u001b[39m=\u001b[39;49mvalidate,\n\u001b[1;32m    867\u001b[0m     resolve\u001b[39m=\u001b[39;49mresolve,\n\u001b[1;32m    868\u001b[0m     parent\u001b[39m=\u001b[39;49mkey_parent,\n\u001b[1;32m    869\u001b[0m     overrides\u001b[39m=\u001b[39;49moverrides,\n\u001b[1;32m    870\u001b[0m )\n\u001b[1;32m    871\u001b[0m reg_name, func_name \u001b[39m=\u001b[39m \u001b[39mcls\u001b[39m\u001b[39m.\u001b[39mget_constructor(final[key])\n\u001b[1;32m    872\u001b[0m args, kwargs \u001b[39m=\u001b[39m \u001b[39mcls\u001b[39m\u001b[39m.\u001b[39mparse_args(final[key])\n",
      "File \u001b[0;32m~/.local/lib/python3.10/site-packages/confection/__init__.py:863\u001b[0m, in \u001b[0;36mregistry._fill\u001b[0;34m(cls, config, schema, validate, resolve, parent, overrides)\u001b[0m\n\u001b[1;32m    861\u001b[0m     schema\u001b[39m.\u001b[39m__fields__[key] \u001b[39m=\u001b[39m copy_model_field(field, Any)\n\u001b[1;32m    862\u001b[0m promise_schema \u001b[39m=\u001b[39m \u001b[39mcls\u001b[39m\u001b[39m.\u001b[39mmake_promise_schema(value, resolve\u001b[39m=\u001b[39mresolve)\n\u001b[0;32m--> 863\u001b[0m filled[key], validation[v_key], final[key] \u001b[39m=\u001b[39m \u001b[39mcls\u001b[39;49m\u001b[39m.\u001b[39;49m_fill(\n\u001b[1;32m    864\u001b[0m     value,\n\u001b[1;32m    865\u001b[0m     promise_schema,\n\u001b[1;32m    866\u001b[0m     validate\u001b[39m=\u001b[39;49mvalidate,\n\u001b[1;32m    867\u001b[0m     resolve\u001b[39m=\u001b[39;49mresolve,\n\u001b[1;32m    868\u001b[0m     parent\u001b[39m=\u001b[39;49mkey_parent,\n\u001b[1;32m    869\u001b[0m     overrides\u001b[39m=\u001b[39;49moverrides,\n\u001b[1;32m    870\u001b[0m )\n\u001b[1;32m    871\u001b[0m reg_name, func_name \u001b[39m=\u001b[39m \u001b[39mcls\u001b[39m\u001b[39m.\u001b[39mget_constructor(final[key])\n\u001b[1;32m    872\u001b[0m args, kwargs \u001b[39m=\u001b[39m \u001b[39mcls\u001b[39m\u001b[39m.\u001b[39mparse_args(final[key])\n",
      "File \u001b[0;32m~/.local/lib/python3.10/site-packages/confection/__init__.py:862\u001b[0m, in \u001b[0;36mregistry._fill\u001b[0;34m(cls, config, schema, validate, resolve, parent, overrides)\u001b[0m\n\u001b[1;32m    860\u001b[0m     field \u001b[39m=\u001b[39m schema\u001b[39m.\u001b[39m__fields__[key]\n\u001b[1;32m    861\u001b[0m     schema\u001b[39m.\u001b[39m__fields__[key] \u001b[39m=\u001b[39m copy_model_field(field, Any)\n\u001b[0;32m--> 862\u001b[0m promise_schema \u001b[39m=\u001b[39m \u001b[39mcls\u001b[39;49m\u001b[39m.\u001b[39;49mmake_promise_schema(value, resolve\u001b[39m=\u001b[39;49mresolve)\n\u001b[1;32m    863\u001b[0m filled[key], validation[v_key], final[key] \u001b[39m=\u001b[39m \u001b[39mcls\u001b[39m\u001b[39m.\u001b[39m_fill(\n\u001b[1;32m    864\u001b[0m     value,\n\u001b[1;32m    865\u001b[0m     promise_schema,\n\u001b[0;32m   (...)\u001b[0m\n\u001b[1;32m    869\u001b[0m     overrides\u001b[39m=\u001b[39moverrides,\n\u001b[1;32m    870\u001b[0m )\n\u001b[1;32m    871\u001b[0m reg_name, func_name \u001b[39m=\u001b[39m \u001b[39mcls\u001b[39m\u001b[39m.\u001b[39mget_constructor(final[key])\n",
      "File \u001b[0;32m~/.local/lib/python3.10/site-packages/confection/__init__.py:1071\u001b[0m, in \u001b[0;36mregistry.make_promise_schema\u001b[0;34m(cls, obj, resolve)\u001b[0m\n\u001b[1;32m   1069\u001b[0m         sig_args[name] \u001b[39m=\u001b[39m (annotation, default)\n\u001b[1;32m   1070\u001b[0m sig_args[\u001b[39m\"\u001b[39m\u001b[39m__config__\u001b[39m\u001b[39m\"\u001b[39m] \u001b[39m=\u001b[39m _PromiseSchemaConfig\n\u001b[0;32m-> 1071\u001b[0m \u001b[39mreturn\u001b[39;00m create_model(\u001b[39m\"\u001b[39;49m\u001b[39mArgModel\u001b[39;49m\u001b[39m\"\u001b[39;49m, \u001b[39m*\u001b[39;49m\u001b[39m*\u001b[39;49msig_args)\n",
      "File \u001b[0;32m~/.local/lib/python3.10/site-packages/pydantic/v1/main.py:1024\u001b[0m, in \u001b[0;36mcreate_model\u001b[0;34m(__model_name, __config__, __base__, __module__, __validators__, __cls_kwargs__, __slots__, **field_definitions)\u001b[0m\n\u001b[1;32m   1022\u001b[0m     ns[\u001b[39m'\u001b[39m\u001b[39m__orig_bases__\u001b[39m\u001b[39m'\u001b[39m] \u001b[39m=\u001b[39m __base__\n\u001b[1;32m   1023\u001b[0m namespace\u001b[39m.\u001b[39mupdate(ns)\n\u001b[0;32m-> 1024\u001b[0m \u001b[39mreturn\u001b[39;00m meta(__model_name, resolved_bases, namespace, \u001b[39m*\u001b[39;49m\u001b[39m*\u001b[39;49mkwds)\n",
      "File \u001b[0;32m~/.local/lib/python3.10/site-packages/pydantic/v1/main.py:197\u001b[0m, in \u001b[0;36mModelMetaclass.__new__\u001b[0;34m(mcs, name, bases, namespace, **kwargs)\u001b[0m\n\u001b[1;32m    189\u001b[0m     \u001b[39mif\u001b[39;00m (\n\u001b[1;32m    190\u001b[0m         is_untouched(value)\n\u001b[1;32m    191\u001b[0m         \u001b[39mand\u001b[39;00m ann_type \u001b[39m!=\u001b[39m PyObject\n\u001b[0;32m   (...)\u001b[0m\n\u001b[1;32m    194\u001b[0m         )\n\u001b[1;32m    195\u001b[0m     ):\n\u001b[1;32m    196\u001b[0m         \u001b[39mcontinue\u001b[39;00m\n\u001b[0;32m--> 197\u001b[0m     fields[ann_name] \u001b[39m=\u001b[39m ModelField\u001b[39m.\u001b[39;49minfer(\n\u001b[1;32m    198\u001b[0m         name\u001b[39m=\u001b[39;49mann_name,\n\u001b[1;32m    199\u001b[0m         value\u001b[39m=\u001b[39;49mvalue,\n\u001b[1;32m    200\u001b[0m         annotation\u001b[39m=\u001b[39;49mann_type,\n\u001b[1;32m    201\u001b[0m         class_validators\u001b[39m=\u001b[39;49mvg\u001b[39m.\u001b[39;49mget_validators(ann_name),\n\u001b[1;32m    202\u001b[0m         config\u001b[39m=\u001b[39;49mconfig,\n\u001b[1;32m    203\u001b[0m     )\n\u001b[1;32m    204\u001b[0m \u001b[39melif\u001b[39;00m ann_name \u001b[39mnot\u001b[39;00m \u001b[39min\u001b[39;00m namespace \u001b[39mand\u001b[39;00m config\u001b[39m.\u001b[39munderscore_attrs_are_private:\n\u001b[1;32m    205\u001b[0m     private_attributes[ann_name] \u001b[39m=\u001b[39m PrivateAttr()\n",
      "File \u001b[0;32m~/.local/lib/python3.10/site-packages/pydantic/v1/fields.py:504\u001b[0m, in \u001b[0;36mModelField.infer\u001b[0;34m(cls, name, value, annotation, class_validators, config)\u001b[0m\n\u001b[1;32m    501\u001b[0m     required \u001b[39m=\u001b[39m \u001b[39mFalse\u001b[39;00m\n\u001b[1;32m    502\u001b[0m annotation \u001b[39m=\u001b[39m get_annotation_from_field_info(annotation, field_info, name, config\u001b[39m.\u001b[39mvalidate_assignment)\n\u001b[0;32m--> 504\u001b[0m \u001b[39mreturn\u001b[39;00m \u001b[39mcls\u001b[39;49m(\n\u001b[1;32m    505\u001b[0m     name\u001b[39m=\u001b[39;49mname,\n\u001b[1;32m    506\u001b[0m     type_\u001b[39m=\u001b[39;49mannotation,\n\u001b[1;32m    507\u001b[0m     alias\u001b[39m=\u001b[39;49mfield_info\u001b[39m.\u001b[39;49malias,\n\u001b[1;32m    508\u001b[0m     class_validators\u001b[39m=\u001b[39;49mclass_validators,\n\u001b[1;32m    509\u001b[0m     default\u001b[39m=\u001b[39;49mvalue,\n\u001b[1;32m    510\u001b[0m     default_factory\u001b[39m=\u001b[39;49mfield_info\u001b[39m.\u001b[39;49mdefault_factory,\n\u001b[1;32m    511\u001b[0m     required\u001b[39m=\u001b[39;49mrequired,\n\u001b[1;32m    512\u001b[0m     model_config\u001b[39m=\u001b[39;49mconfig,\n\u001b[1;32m    513\u001b[0m     field_info\u001b[39m=\u001b[39;49mfield_info,\n\u001b[1;32m    514\u001b[0m )\n",
      "File \u001b[0;32m~/.local/lib/python3.10/site-packages/pydantic/v1/fields.py:434\u001b[0m, in \u001b[0;36mModelField.__init__\u001b[0;34m(self, name, type_, class_validators, model_config, default, default_factory, required, final, alias, field_info)\u001b[0m\n\u001b[1;32m    432\u001b[0m \u001b[39mself\u001b[39m\u001b[39m.\u001b[39mshape: \u001b[39mint\u001b[39m \u001b[39m=\u001b[39m SHAPE_SINGLETON\n\u001b[1;32m    433\u001b[0m \u001b[39mself\u001b[39m\u001b[39m.\u001b[39mmodel_config\u001b[39m.\u001b[39mprepare_field(\u001b[39mself\u001b[39m)\n\u001b[0;32m--> 434\u001b[0m \u001b[39mself\u001b[39;49m\u001b[39m.\u001b[39;49mprepare()\n",
      "File \u001b[0;32m~/.local/lib/python3.10/site-packages/pydantic/v1/fields.py:550\u001b[0m, in \u001b[0;36mModelField.prepare\u001b[0;34m(self)\u001b[0m\n\u001b[1;32m    545\u001b[0m \u001b[39mif\u001b[39;00m \u001b[39mself\u001b[39m\u001b[39m.\u001b[39mtype_\u001b[39m.\u001b[39m\u001b[39m__class__\u001b[39m \u001b[39mis\u001b[39;00m ForwardRef \u001b[39mor\u001b[39;00m \u001b[39mself\u001b[39m\u001b[39m.\u001b[39mtype_\u001b[39m.\u001b[39m\u001b[39m__class__\u001b[39m \u001b[39mis\u001b[39;00m DeferredType:\n\u001b[1;32m    546\u001b[0m     \u001b[39m# self.type_ is currently a ForwardRef and there's nothing we can do now,\u001b[39;00m\n\u001b[1;32m    547\u001b[0m     \u001b[39m# user will need to call model.update_forward_refs()\u001b[39;00m\n\u001b[1;32m    548\u001b[0m     \u001b[39mreturn\u001b[39;00m\n\u001b[0;32m--> 550\u001b[0m \u001b[39mself\u001b[39;49m\u001b[39m.\u001b[39;49m_type_analysis()\n\u001b[1;32m    551\u001b[0m \u001b[39mif\u001b[39;00m \u001b[39mself\u001b[39m\u001b[39m.\u001b[39mrequired \u001b[39mis\u001b[39;00m Undefined:\n\u001b[1;32m    552\u001b[0m     \u001b[39mself\u001b[39m\u001b[39m.\u001b[39mrequired \u001b[39m=\u001b[39m \u001b[39mTrue\u001b[39;00m\n",
      "File \u001b[0;32m~/.local/lib/python3.10/site-packages/pydantic/v1/fields.py:612\u001b[0m, in \u001b[0;36mModelField._type_analysis\u001b[0;34m(self)\u001b[0m\n\u001b[1;32m    609\u001b[0m \u001b[39melif\u001b[39;00m is_typeddict(\u001b[39mself\u001b[39m\u001b[39m.\u001b[39mtype_):\n\u001b[1;32m    610\u001b[0m     \u001b[39mreturn\u001b[39;00m\n\u001b[0;32m--> 612\u001b[0m \u001b[39mif\u001b[39;00m is_finalvar(\u001b[39mself\u001b[39;49m\u001b[39m.\u001b[39;49mtype_):\n\u001b[1;32m    613\u001b[0m     \u001b[39mself\u001b[39m\u001b[39m.\u001b[39mfinal \u001b[39m=\u001b[39m \u001b[39mTrue\u001b[39;00m\n\u001b[1;32m    615\u001b[0m     \u001b[39mif\u001b[39;00m \u001b[39mself\u001b[39m\u001b[39m.\u001b[39mtype_ \u001b[39mis\u001b[39;00m Final:\n",
      "File \u001b[0;32m~/.local/lib/python3.10/site-packages/pydantic/v1/typing.py:510\u001b[0m, in \u001b[0;36mis_finalvar\u001b[0;34m(ann_type)\u001b[0m\n\u001b[1;32m    509\u001b[0m \u001b[39mdef\u001b[39;00m \u001b[39mis_finalvar\u001b[39m(ann_type: Type[Any]) \u001b[39m-\u001b[39m\u001b[39m>\u001b[39m \u001b[39mbool\u001b[39m:\n\u001b[0;32m--> 510\u001b[0m     \u001b[39mreturn\u001b[39;00m _check_finalvar(ann_type) \u001b[39mor\u001b[39;00m _check_finalvar(get_origin(ann_type))\n",
      "\u001b[0;31mKeyboardInterrupt\u001b[0m: "
     ]
    }
   ],
   "source": [
    "for dir in os.listdir(subdir_path):\n",
    "\n",
    "    extract_from_folder(dir)"
   ]
  },
  {
   "cell_type": "code",
   "execution_count": 254,
   "metadata": {},
   "outputs": [
    {
     "name": "stdout",
     "output_type": "stream",
     "text": [
      "797\n",
      "797\n",
      "797\n",
      "797\n"
     ]
    }
   ],
   "source": [
    "tester_2 = extract_ling_info('0101.a1.txt')"
   ]
  },
  {
   "cell_type": "code",
   "execution_count": 257,
   "metadata": {},
   "outputs": [],
   "source": [
    "merged = tester | tester_2"
   ]
  },
  {
   "cell_type": "code",
   "execution_count": 258,
   "metadata": {},
   "outputs": [
    {
     "data": {
      "text/plain": [
       "{'Filename': '0101.a1.txt',\n",
       " 'RelFreq_NOUN': 1179.42,\n",
       " 'RelFreq_VERB': 1242.16,\n",
       " 'RelFreq_ADJ': 602.26,\n",
       " 'RelFreq_ADV': 803.01,\n",
       " 'Unique_PER': 1,\n",
       " 'Unique_LOC': 0,\n",
       " 'Unique_ORG': 1}"
      ]
     },
     "execution_count": 258,
     "metadata": {},
     "output_type": "execute_result"
    }
   ],
   "source": [
    "merged"
   ]
  },
  {
   "cell_type": "code",
   "execution_count": 245,
   "metadata": {},
   "outputs": [],
   "source": [
    "doc = nlp(cleaned_text)\n",
    "\n",
    "labels = count_ner(doc, 'LANGUAGE')"
   ]
  },
  {
   "cell_type": "code",
   "execution_count": 246,
   "metadata": {},
   "outputs": [
    {
     "data": {
      "text/plain": [
       "1"
      ]
     },
     "execution_count": 246,
     "metadata": {},
     "output_type": "execute_result"
    }
   ],
   "source": [
    "labels"
   ]
  },
  {
   "cell_type": "code",
   "execution_count": 247,
   "metadata": {},
   "outputs": [
    {
     "ename": "SyntaxError",
     "evalue": "'continue' not properly in loop (3916030848.py, line 18)",
     "output_type": "error",
     "traceback": [
      "\u001b[0;36m  Cell \u001b[0;32mIn[247], line 18\u001b[0;36m\u001b[0m\n\u001b[0;31m    continue\u001b[0m\n\u001b[0m    ^\u001b[0m\n\u001b[0;31mSyntaxError\u001b[0m\u001b[0;31m:\u001b[0m 'continue' not properly in loop\n"
     ]
    }
   ],
   "source": [
    "def count_ner(doc):\n",
    "    \n",
    "    locs = []\n",
    "    pers = []\n",
    "    orgs = []\n",
    "\n",
    "    for ent in doc.ents:\n",
    "        if ent.label_ == 'LOC':\n",
    "            locs.append(ent.text)\n",
    "    \n",
    "        elif ent.label_ == 'PERSON':\n",
    "            pers.append(ent.text)\n",
    "    \n",
    "        elif ent.label_ == 'ORG':\n",
    "            orgs.append(ent.text)   \n",
    "\n",
    "    else:\n",
    "        continue\n",
    "\n"
   ]
  },
  {
   "cell_type": "code",
   "execution_count": null,
   "metadata": {},
   "outputs": [],
   "source": [
    "# count NER \n",
    "\n",
    "text = []\n",
    "ner = []\n",
    "for ent in doc.ents:\n",
    "    text.append(ent.text)\n",
    "    ner.append(ent.label_)\n",
    "    \n",
    "def count_relfreq_pos(text, pos):\n",
    "\n",
    "    nlp = spacy.load(\"en_core_web_lg\")\n",
    "    \n",
    "    doc = nlp(text)\n",
    "\n",
    "    pos_doc = [token.pos_ for token in doc]\n",
    "    \n",
    "    count = pos_doc.count(pos)\n",
    "\n",
    "    return count\n"
   ]
  },
  {
   "cell_type": "code",
   "execution_count": 219,
   "metadata": {},
   "outputs": [],
   "source": [
    "str = 'Sarah is from Silicon Valley and works for Meta'"
   ]
  },
  {
   "cell_type": "code",
   "execution_count": 220,
   "metadata": {},
   "outputs": [],
   "source": [
    "doc = nlp(str)"
   ]
  },
  {
   "cell_type": "code",
   "execution_count": 237,
   "metadata": {},
   "outputs": [],
   "source": [
    "locs = []\n",
    "pers = []\n",
    "orgs = []\n",
    "\n",
    "for ent in doc.ents:\n",
    "    if ent.label_ == 'LOC':\n",
    "        locs.append(ent.text)\n",
    "    \n",
    "    elif ent.label_ == 'PERSON':\n",
    "        pers.append(ent.text)\n",
    "    \n",
    "    elif ent.label_ == 'ORG':\n",
    "        orgs.append(ent.text)   \n",
    "\n",
    "    else:\n",
    "        continue"
   ]
  },
  {
   "cell_type": "code",
   "execution_count": 241,
   "metadata": {},
   "outputs": [
    {
     "data": {
      "text/plain": [
       "['Meta']"
      ]
     },
     "execution_count": 241,
     "metadata": {},
     "output_type": "execute_result"
    }
   ],
   "source": [
    "orgs"
   ]
  },
  {
   "cell_type": "code",
   "execution_count": 209,
   "metadata": {},
   "outputs": [
    {
     "data": {
      "text/plain": [
       "[]"
      ]
     },
     "execution_count": 209,
     "metadata": {},
     "output_type": "execute_result"
    }
   ],
   "source": [
    "listy"
   ]
  },
  {
   "cell_type": "code",
   "execution_count": 119,
   "metadata": {},
   "outputs": [
    {
     "name": "stdout",
     "output_type": "stream",
     "text": [
      "\n",
      " HOW TO BE A GOOD LITTLE WOMAN \n",
      "In the novel Little Women by Louisa May Alcott we readers get to peek into the March family's household and follow the lives of its members for one year. It is a year of hardship but also a year of joy and wholesome experiences. What is so particular about this household during the year in question is that it exclusively consists of women as the father is away fighting in the war. Certainly, the absent father as well as other male characters in the novel are significant and present in their lives, but the focus of the novel is on the women, especially on the little women, of the March family, their individual roles in the family, their lives, their hopes and burdens, influences and values. \n",
      "\t\tThe four daughters in the family, the little women, Meg, Jo, Beth and Amy, are very different from each other, each with her own hopes and ambitions. Meg, the oldest, is very much influenced by romantic novels and the lifestyle of the upper-class. She wants to be rich and pretty, marry a handsome man and live a life in luxury. Jo is a hot-tempered tomboy who would much rather be a boy than a girl since girls have to be calm and well-behaved with their hair turned up. Jo, who also is the family's amateur playwright and story writer, has dreams of becoming an author. Beth is the most timid of the sisters, she loves helping others and wants nothing for herself but a piano since she lives for music. Amy is the youngest of the sisters but though she is only twelve years old she is very strong-willed and hates it when her older sisters tell her what to do. Her dream is to become an artist as drawing is one of her passions.(p. 3-12, 69-70, 133)\n",
      "\t\tThe four sisters are in other words regular teenage girls, fighting regular teenage problems and trying to find themselves as they are on the verge of bordering adulthood. In my opinion they are \"the perfect daughters\" personified as they are very well-behaved and hardworking girls, docile and obedient to their mother, loving and caring towards each other. Not to mention their many talents, their general knowledge and creativity. Yet, in the novel both they and their mother feel that they must put their \"selfishness and reckless whims\" behind them.(p. 10-11)\n",
      "\t\tThe governing idea of the book, namely \"how to be a good little woman\" is introduced in the very first chapter, and then all through the novel we get to follow the four daughters' journey towards obtaining that goal. Though it is a letter from their father which awakens them to self-examination and initiates this journey, it is the mother who holds the key position as the little women's unquestionable leader and mentor, confessor and soother. The mother's own emotional life we do not get to know as intimately as her daughters', but we get to know her and her values and influences through her guiding of the daughters. \n",
      "\t\tMrs March is neither strict nor punishing, but she is certainly ruled by strong convictions. Although there is a religious undertone in the novel it seems to be more a general belief in goodness, hard work and patience that rules her. The girls, ranging in age from twelve to seventeen, all have daily duties around the house. They help with the sewing, doing the dishes, the dusting and the like. The two older girls, Meg and Jo, also work during the daytime to help support the family's failing economy. Additionally Mrs March engages them all into helping a family poorer than themselves, trying to teach them the joy of giving. (p. 15-16, 35-41)\n",
      "\t\tSeemingly, the mother does not just want them to work hard but she wants them to learn how to enjoy it too. She gives each of the daughters a copy of The Pilgrim's Progress, a Christian allegory, to be used as a guidebook to overcome their faults and be good little women so that they can reach their own Celestial City. It might sound rigid and extremely religious but Mrs March is neither, she is actually a very loving, understanding and patient mother who never scolds or punishes her daughters, but only wants them to be good so that they can be truly happy. However, given the fact that the daughters' \"bundles\" consist of them being regular teenagers, i.e. sometimes behaving irrationally and wanting to have some fun, one feels that Mrs March sometimes rather expects too much of them.(p. 11, 90-91, 75-77) \n",
      "\t\tNevertheless, Mrs March's method of teaching her girls about life is very effective. Instead of telling them what to do or what not to do she lets them experience things for themselves, make their own mistakes and come to their own conclusions. At the end of almost every chapter there is a lesson to be learnt and Mrs March rounds it up by listening to their confessions and giving her approval of their increasing insight. (p. 110-111) \n",
      "\t\tThere is a lot of love in the March household, love between the mother and the daughters, love for the absent father, love for their friends and neighbours, the Laurences. It is often mentioned that love and companionship are far more important than money, that motto can be said to be another of the themes of the novel as many of the lessons learned by the little women constitutes of them realising how contented they really are just having each other. (p. 3, 78)\n",
      " \t\tWhen Meg suddenly gives some of her love to Mr Brooke, Mrs March again speaks of her belief that money is not as important as true love and a happy home as she tries to comfort Jo. Jo, however, is not concerned with Mr Brooke's economy but horrified at the thought of the family being disrupted. As I mentioned in the opening paragraph, it is in many ways a year of hardship for the Marches that is portrayed in the novel, and it is this strong connection between the March women that helps them pull through, so one can certainly understand Jo's feeling of insecurity and fear. (p. 188-189)\t\t\n",
      "\t\tHowever, despite the fact that the novel almost entirely features these strong and independent women struggling together, the mother being the little women's guide, it is yet somehow the man of the house, the absent father, who is the ultimate ruler of the family. It is the father who initiates the daughters' journey towards earning the name little women, and it is the father who finalises the journey by confirming that they have reached their destination and gives his approval. The mother has certainly praised and encouraged them, but the circle is not closed until the father returns and confirms the change. Even Mrs March tells that she learnt her gentle ways from her husband and that he made her into the woman she wants her daughters to copy. In other words he taught her what to teach them.(p.10, 76, 204-206) \n",
      "\t\tThe constant eulogies to the noble Mr March feel a bit exaggerated and although he is put on a very high pedestal by his wife and daughters I think it is evident that that is much due to the mighty patriarchate of those times. The man was the head of the house. The fact that he fought in the war is also considered very honourable by his family, but I feel that the women of this household had their own war to fight, a war against poverty and against everyday problems. Growing up and helping your children to grow up are tasks as hard and as honourable as fighting a war for your country, that is plain to see for the readers of this novel.\n",
      "\t\tThat is why it is so unfortunate that Mrs March and her daughters do not seem to realise this about themselves, they just see it as their duty as good little women. What is even more unfortunate is that still in today's reality many women do not get the credit they deserve for their hard work raising children and running a household at the same time. They are the ones who deserve medals for valour. As Louisa May Alcott herself once said: \"Housework ain't no joke\" (xroads.virginia.edu).\n",
      "\n",
      "\n",
      " A Celebration of Sisterhood Ideas of Femininity and Domestic Happiness in Little Women \n",
      "\tLittle Women by Louisa May Alcott is the story of the four March girls and their joys and burdens growing up in the days of the Civil War. Their father is away in the war, and the girls live with their mother and a servant. Through their many little trials, Meg, Jo, Beth, and Amy learn important lessons of moral, virtue, and piety. Narrated along the lines of Bunyan's pilgrim, almost every chapter ends with a moral. The novel tells us much about the role of women in the 1860s. When Mr. March returns at the end of the novel, he praises his daughters for having suppressed certain disagreeable characteristics: Meg has learned to work hard and not to be so vain; Jo to control her temper and be more ladylike; Beth has lost some of her shyness; and Amy is less selfish. Little Women can almost read like a handbook on how women were to behave in the 1860s. \n",
      "\tThis novel belongs to a genre of literature that was very popular among women in the 19th century, called domestic fiction. The subject matter of this genre, and of Little Women, is the pleasures and trials of everyday life. Mrs. March, Meg, and Jo are all employed outside of the house, but the reader only gets rare glimpses of the outside world, and then only from parties and picnics, and such events. Most of the action takes place at home, which was the female sphere in the 19th century, and still is today, it could be argued.\n",
      "\tThe 19th century was an extremely eventful epoch in American history. Millions of people emigrated from Europe to the United States; the American continent was explored; and the industrial revolution changed the way people lived. As the production of goods was moved from the home to factories, women came to play less part in the economy. However, the woman's role as wife and mother became more important. According to Almqvist Norbelie, the home was a refuge for husbands from the world of business and the wife was celebrated as the \"Angel in the House\" (Lundén and Srigley 1992:146f). A myth of the beneficial role of home and woman grew in the new middle[RS1]-class atmosphere, and this myth is very much alive in Little Women, although their is no father present until the very end. \tMrs. March satisfies these ideas of womanhood. She is a model to all the girls, and she is always there to advise and console them. They all have their faults, but Mrs. March with her never-ending patience and attention to others is the perfect wife and mother. This is how she is described when she first appears:\n",
      "\n",
      "\"Glad to find you so merry, my girls\", said a cheery voice at the door, and actors and audience turned to welcome a tall, motherly lady with a \"can-I-help-you\" look about her which was truly delightful. She was not elegantly dressed, but a noble-looking woman, and the girls thought the gray cloak and unfashionable bonnet covered the most splendid mother in the world (p. 8). \n",
      "\n",
      "Mrs. March is idolized by her daughters, and instills many lessons in them, to which they listen intently. Even in moments of great distress, as when she has learned about her husband's illness, she is still able to think of others. \"It seems as if half the house was gone\", says Meg when she has left for Washington to nurse Mr. March. \n",
      "\n",
      "Beth opened her lips to say something, but could only point to the pile of nicely mended hose which lay on Mother's table, showing that even in her last hurried moments she had thought and worked for them (p. 155).\n",
      "\n",
      "\tHer family are not the only ones to benefit from Mrs. March's generous nature and endless capabilities. She is involved in a society of women helping the soldiers, and she attends to the poor Hummler family. To the reader, she may seem a flat character, lacking personality due to her utter perfection. However, Mrs. March is interesting because she tells us what the ideal woman was supposed to like at the time of writing: warm, caring, virtuous, industrious, and a good example to her children. Mrs. March is the ideal \"mother-woman\", perhaps even more so than Madame Ratignolle of Kate Chopin's The Awakening.\n",
      "\tMrs. March is the head of a household that is modest in size and quite poor, but full of love. Every evening, mother and daughters congregate in the \"comfortable old room\" and talk over the days' events whilst sewing. Before they go to bed, they gather around the piano and sing hymns. They form a very closely-knit community of women. The idea of sisterhood and female companionship is an important theme of Little Women. Although the girls have some disagreements, they are each other's best friends and confidants. Each of the two older sisters take care of one of the younger ones. The four of them spend most of their time together. They often have meetings with their secret literary club, and in the chapter entitled Castles in the Air they take their work with them and go sit on a meadow, where they play pilgrims, and talk of their wishes for the future. Although people outside of the family are important to the story, such as Laurie, his grandfather, and Laurie's tutor, Mr. Brooke, the March girls are quite self-sufficient. The independence of the family is much celebrated in Little Women, and the girls take much pleasure in each other's company, and in that of their beloved mother.\n",
      "\tAll is not peace and happiness in this small world, however. All the girls suffer painful and embarrassing moments, such as when Amy is punished before her class for having hidden candy in her desk. However, these moments never last long. Mrs. March offers some kind but disapproving words, and after a period of penance, harmony is restored to the household. The domestic happiness is rarely threatened. When the family receives a telegram informing them that Mr. March is very ill, there is a time of distress. Mrs. March has left for Washington to be by his side when Beth catches the scarlet fever. The agony is brief, however, for both Beth and her father soon recover. \n",
      "\tLittle Women, in stark contrast to Chopin's novel, is a celebration of family and the feminine ideals of the time. Alcott's middle-class female audience probably found her novel a sweet and wise story in which they could recognize many subjects of their own lives. During the Civil War, many households consisted mostly of women. For them, the sororal world of Alcott's novel was not only a cherished romance, but the reality, even if it was not as rosy as that of the March girls. This is the type of fiction that women were used to reading, and that is why later works that questioned women's role in the society, such as The Awakening, appeared shocking.\n",
      "\n",
      "Sources\n",
      "\n",
      "Alcott, Louisa M., Little Women, Penguin Popular Classics, London 1994. \n",
      "\n",
      "Lundén, R. & Srigley, M. Ideas and Identities. British and American Culture 1500-1945, Studentlitteratur, Lund 1992.\n",
      "\n",
      "Showalter, E., \"Chopin and American Women Writers\", p. 313.\n",
      "\n",
      "\n",
      " A Fight for Liberation \n",
      "Esperanza is the main character in a Novel called The house on Mango Street and also the main character in my essay. The topic of the essay is about her freeing her self from the Barrio where she lives with her family. Esperanza is a very special girl that sometimes seems to be just a little girl but on the next page think like a very mature woman. This is one of the things that make it possible for her to choose a life for herself outside the Barrio. I will come to this and develop it more later on in the essay. Another character that is very important is her mother. She forms and gives her the strength she needs to stand on her own. Her mother is very strong but on the same time very weak and I believe that both these sides of her personality is important for Esperanza's development towards independence. Since the topic is Esperanza's fight against the Barrio I will begin by giving a picture of her and how I see her.\n",
      "\tEsperanza is in the book on the border between the life of a child and the life of an adult. She plays with the other children on the street and seems to be one of them but there is a lot going on inside of her head. It seems to me that she observes a lot. She looks at things going on around her and she listens to what people say to each other. She knows that girls are destined to one day get married, have children and continue the tradition but she do not really like the idea. She sees married people around her and realises that they are not happy. In her eyes all the married women in the Barrio is just sitting by the window wanting to get out again but once they are married it is to late. She is determined not to end up by a window looking out. She says about her great-grandmother that \" I have inherited her name, but I don't want to inherit her place by the window\" (Cisneros 11). This makes her different from most of the other girls in the Barrio who cannot wait to get married. Many of them think marriage is a way out but Esperanza sees beyond that. She realises that if she ever is to brake loose from the barrio she will have to do it alone without a husband to do it for her. One of her dreams is about having a house of her own and that gets to be the goal for her freedom. She thinks that once she gets a house she will be free and everything will be good. At some point someone tells her that a house is in the heart and I think that that is very important. What she longs for is somewhere to belong and feel safe. To her that place is a house of her own but in the end I think she realises that it is not the house in it self that will give that feeling of belonging and love. It is the liberation from the Barrio and her independent that will give her that feeling. I think this shows in the end when she says:\n",
      "...what I remember most is Mango Street, sad red house, the house I belong but do not belong to. I put it down on paper and then the ghost does not ache so much. I write it down and Mango says goodbye sometimes. She does not hold me with both arms. She sets me free. (Cisneros 110)\n",
      "I think that she now has put all her thoughts together and knows what to do to free herself and make her happy. She knows that she cannot be happy on Mango Street. She has to go through a process of liberation. \n",
      "\tIn this liberation process that Esperanza is going through she has a lot of support from her mother. I said earlier that she was helped by her mother's strong side in her character but also by her weak side. By this I meant that Esperanza is strengthened by her strength and the fact that her mothers can speak two languages and sing an opera. Esperanza wants to be like her mother and she looks up to her. On the other hand Esperanza's mother is not able to take the subway train by her self and I think this affects Esperanza too. I would like to once again refer to the quote on the second page of the essay. She said that her great-grandmother was a strong woman and she had inherited her name but she did not want to inherit her place by the window. She sees these two strong women, both her great-grandmother and her mother, who are trapped in a way and she knows that she have to change something in her life not to go the same way. Cisneros says in an article that the mother in The House on Mango Street is very much like her own. She also says that Esperanza's mother \"is a woman of contradictions\" (Satz, Returning to ones Home,3). I think this is very important. Esperanza wants to be like her mother in many ways but not on the expense of her own freedom. She can see both sides of her mother's personality and in the end I think she knows how to use both of them to be the woman she wants to be. \n",
      "Esperanza's fight to free her self from the barrio is a very complex one. She has to brake loose from traditions and also from her family and go by her self. The two things that are of most help to her are according to me her strong personality and the help of her mother. Esperanza is very strong and in some ways mature. Her mother is also very important in the sense that she is both a role model and warning. Esperanza wants to be like her and at the same time she does not want to be like her. I think that Esperanza is smart enough to take after the good parts and step away from the rest. I would like to end with a quote where Esperanza explains on a few lines what her dreams and hopes are. \n",
      "\tI want to be\n",
      "\tLike the waves on the see,\n",
      "\tLike the clouds in the wind,\n",
      "\tBut I'm me.\n",
      "\tOne day I'll jump\n",
      "\tOut of my skin.\n",
      "\tI'll shake the sky\n",
      "\tLike a hundred violins.\" (Cisneros 60-61)\n",
      "List of References\n",
      "* Primary material\n",
      "Sandra Cisneros, The House on Mango street (1984)\n",
      "\n",
      "* Secondary material\n",
      "Satz, Martha. \"Returning to One's House: An Interview with Sandra Cisneros.\"\n",
      "\tAccessed June 19, 2000. \n",
      "\n",
      "\n",
      " Little Women - the world of women \n",
      "The novel Little Women is among other things a manifestation of the sororal world in nineteenth century America, and a very thorough description of the domestic empire of women. In this essay I will try to examine the features of the world of women and the effects they bring to people living in that era. In this novel the female world with its specific features becomes even more obvious, since there are no men present in the household of the Marches. All the children in the house are girls, the employees in the home are females as well as of course the mother - Mrs March. The father is always present in their minds, however not in their everyday lives, since he is away at war. This makes this world a complete female one, with the one exception of Laurie that comes to visit now and then. The influence from men is almost non-existing, something which is very well expressed in the novel at one instance: \"they had no brothers, very few male cousins, and boys were almost unknown creatures to them.\" (p.28:21-22)\n",
      "The rules and tasks of family life are very strictly organised by the head of the domestic sphere, Mrs March. She is referred to almost as a God, and her will is everybody else's law. Everything she gives orders about will be carried out. However the way she encourages her daughters is with love and care and references to the Christian message, to treat your neighbour as you would yourself. She is also a perfect role-model, since she hasn't got a single flaw on her spotless appearance. A proof of her inscrutable goodness is when she although she knows it will be an enormous sacrifice to her girls, suggests giving away the so longed for Christmas breakfast to an even poorer family. This message, to treat your neighbour as you would yourself, is very well illustrated on page, when they have returned from the visit to the poor Hummels on the Christmas morning. \n",
      "\n",
      "\"That's loving our neighbor better than ourselves,\n",
      " and I like it,\" said Meg, as they set out their presents\n",
      " while their mother was upstairs collecting clothes for\n",
      " the poor Hummels.(p.16:24-26)\n",
      "\n",
      "Another example from the text along this line always present in the matter of raising the girls into good women, is a story told by Mrs March about when she herself was selfish without having reason to be so and how ashamed she then felt. It dealt with an episode when she met a man who had let all his sons join the army to fight for the country.\n",
      "\n",
      "He spoke so cheerfully, looked so sincere, and\n",
      " seemed so glad to give his all, that I was ashamed\n",
      " of myself. I'd given one man and thought it too\n",
      " much, while he gave four without grudging them.(p.41:40-43)\n",
      "\n",
      "Except the moral standards mentioned above, (there is even a chapter named \"Being Neighborly\"), there are several other aspects to take into consideration as a female. As a female child, at least to Mrs March, you need to \"be beautiful, accomplished, and good; to be admired, loved, and respected; to have a happy youth, to be well and wisely married, and to lead useful, pleasant lives, with as little care an sorrow to try them as God sees fit to send. To be loved and chosen by a good man is the best and sweetest thing which can happen to a woman\" (p.92:13-18). From this speech made by Mrs March, you can trace many of the ideals of the time, how a woman should be and consequently what constituted the domestic world of women.\n",
      "First of all, women needed to be beautiful to stand a chance to make the perfect match, since a woman was a decoration to the complete, fulfilled home and like a pretty flower at her husbands side. Many of the discussions in the March family are also concerning the matter of beauty, pretty clothes, glimmering jewellery and long curly hairs. As said in the speech you also needed to be accomplished, good, admired, loved and respected. To attain all these qualities Beth, Meg, Amy and Jo early learn to feel joy helping out in the household, to for example sow, clean, cook, and doing this as close to perfection as possible. They are admired for helping out in the household, but also for being great artists. They play instruments, paint, and Jo even writes short stories, all of which are typically female habits and skills, one of the qualities needed to be able to entertain your fellow beings and embellish the perfect home. It is indicated for example on page 52 that playing is a womanly thing and therefore a skill considered unimportant for a man to master. This is when Laurie plays the piano for the eager listener Jo.\n",
      "\n",
      "She wished Beth could hear him, but she did not \n",
      " say so, only praised him till he was quite abashed, \n",
      " and his grandfather came to the rescue. \"That will \n",
      " do, that will do, young lady. Too many sugarplums \n",
      " are not good for him. His music isn't bad, but I \n",
      " hope he will do as well in more important things.(p.52:20-25)\n",
      "\n",
      "Women should lead a happy youth and have a pleasant time, but also be useful. The March children try their best in both matters, but do not always succeed that well. The disappointment of being from a poor family and not to afford splendid dresses and expensive jewellery and being excluded from fancy parties make them miserable at times, although they soon get back on the 'right track' by their mother's encouraging little speeches. She repeatedly throughout the book states that money and fashion is not everything in spite of the universally prevailing ideal of the time. The same kind of gentle but definite rebukes takes place when they are lazy and do not feel like doing their daily tasks. At one occasion they are even allowed to do just what pleases them for a whole week and after that they find out by themselves that only to play causes more discomfort than to do a bit of both, something clearly illustrated on page 110 after the mentioned week of laziness.\n",
      "\n",
      "\"Then let me advise you to take up your little burdens\n",
      " again, for though they seem heavy sometimes, they\n",
      " are good for us, and lighten as we carry them. Work is\n",
      " wholesome, and there is plenty for everyone; it keeps\n",
      " us from ennui and mischief, is good for health and\n",
      " spirits, and gives us a sense of power and independence\n",
      " better than money or fashion.\" (p.110-111:41-02)\n",
      "\n",
      "Finally, to be loved and chosen by a good man is the best and sweetest thing which can happen to a woman, it is stated in the quotation above. This is also the fact that permeate the whole novel. This state is the fulfilment of the woman both for body and soul, before she has entered into a good marriage she can not possibly reach total happiness and a sense of well-being. Naturally the novel ends with one of the girls finding a man to marry - Meg, and that Jo has changed into a respectable young lady contrary to the boyish figure she was in the beginning - the hard work of raising the girls into little women has succeeded. That this is the development expected is also nicely summarised by Mr March as he returns from sickness and war at the end of the novel:\n",
      "\n",
      "I rather miss my wild girl, but if I get a strong, helpful, \n",
      " tender-hearted woman in her place, I shall feel quite \n",
      " satisfied. I don't know whether the shearing sobered \n",
      " our black sheep, but I do know that in all Washington \n",
      "I couldn't find anything beautiful enough to be bought \n",
      " with the five-and-twenty dollars which my good girl sent me. (p.205:34-40).\n",
      "\n",
      "References\n",
      "Alcott, Louisa May. Little Women. (1868) 1994. London. Penguin Books Ltd.\n",
      "\n",
      "\n",
      " Lily Bart in The House of Mirth A victim of her environment? \n",
      "The society of the rich people in America by the turn of the century was a society built up by strict conventions. Men and women were supposed to behave in a delicate manner, and an exquisite feeling for beauty - of women, of garments, of furnishing and of landscape - was of great importance. In Edith Wharton's novel The House of Mirth we meet 29-year-old Lily Bart, a beautiful and popular lady, yet still unmarried. Her situation is all but an easy one, since the people around her expect her to be one of them, as she has always been. But Lily does not have any money of her own, and realises that she is unable to meet these expectations. There are also discussions and rumours going on concerning her male acquaintances and future marriage. How does Lily react to and behave in this extravagant, but craving, environment? Is she a victim of group pressure or is she brave enough to follow her own emotions?\n",
      "The world Lily Bart was born into is a world of glamour, invitations to extravagant parties, bridge-playing, beautiful tailor-made dresses, maids and servants, and expensive jewellery. A world where the difference between success and failure is spelt \"money\". The more money, the more beautiful your appearance can be, and the more likely it is to make important acquaintances and become a part of this high society. As Wharton describes the situation at a gathering: \n",
      "\n",
      "The seated throng, filling the immense room without undue crowding, presented a surface of rich tissues and jewelled shoulders in harmony with the festooned and gilded walls, and the flushed splendours of the Venetian ceiling. (p. 132)1\n",
      "\n",
      "This is Lily Bart's environment, and the obligations she feels she has towards society are a burden to her. Everywhere she is greeted and warmly welcomed due to her exceptional beauty and good taste for cultivated life. She knows that she can add that final touch of extravaganza to a party only by her presence, and is extremely conscious of her appearance and her status in society. \"It was insufferable that Mrs Peniston should have such creatures about the house\" (p. 99) as she thinks of the char-lady. \n",
      "Lily's problem - which later will become devastating - is that she just goes with the flow. She has learnt to be \"inspirited by the prospect of showing her beauty in public\" (p.116) and to despise the lives of those who are not as lucky as she. Enveloped in splendour, she realises that she could not remain at Bellomont without playing bridge, and being involved in other expenses; (...) She had reached a point where abrupt retrenchment was necessary, and the only cheap life was a dull life. (p.80)\n",
      "\n",
      "However, deep down she is aware that she is merely a piece of a complicated jigsaw puzzle, living on others. She does not earn any money of her own, and admits that she is feeling trapped, not really knowing if this is the right life for her. Since she does not know of any other way to live, her world just keeps on turning around her and she is incapable of stopping it. \n",
      "Lily reflects her view of the lower class in her friend Gerty Farish, an unmarried woman who \"typifies the mediocre and ineffectual\" (p. 88). Lily has always regarded Gerty as a dingy person, but as Lily reluctantly climbs down the social ladder, her friend becomes a more and more important acquaintance to her. Lily's view of Gerty is altering \"between pity for her limitations and impatience of her cheerful acceptance of them\" (p.88). This uncertainty in Lily shows that she is, in fact, a little jealous of Gerty Farish, who is content with her simple, solitary life. \n",
      "Lawrence Selden is another important acquaintance to Lily because of the way his views of life elicit many thoughts in her own mind:\n",
      "\n",
      "It was rather that he had preserved a certain social detachment, a happy air of viewing the show objectively, of having points of contact outside the great gilt cage in which they were all huddled for the mob to gape at. How alluring the world outside appeared to Lily (...) but most of the captives were like flies in a bottle, and having once flown in, could never regain their freedom. (p.54)\n",
      "\n",
      "Due to these circumstances I believe indeed that Lily Bart is controlled by society, even though she has a will of her own. The simple fact that she is suspicious but will not confess it shows her tendency of giving in to others.\n",
      " \n",
      "- ( (tm) -\n",
      "\n",
      "Lily Bart is getting old. A woman of nearly thirty without a husband becomes easily the subject of rumours and talks among her acquaintances. \"When a girl's as good-looking as that she'd better marry; then no questions are asked\" (p.157) as Mr Ned van Alstyne puts it. Of course, Lily knows this. She is beautiful and could get any man, and is matched with several potential husbands. Marrying a rich man would be the simplest solution to Lily's financial problems. As she says: \"I am horribly poor - and very expensive\" (p.10). However, when it comes to love and marriage, Lily knows exactly what she is looking for and it is clear that she will not marry a man just because of his money and her opportunities to maintain her social status. Lily wants to marry for love, not for to satisfy her material needs. She would never give in to all expectations, though she realises that money is the difference between happiness or a miserable life. Even Lawrence Selden, for whom she in fact feels true love, believes that she will marry only to secure her future:\n",
      "\n",
      "\"Isn't marriage your vocation? Isn't it what you're all brought up for?\"\n",
      "She sighed. \"I suppose so. What else is there?\"\n",
      "\"Exactly. And so why not take the plunge and have it over?\"\n",
      "She shrugged her shoulders. \"You speak as if I ought to marry the first man who came along.\" (p.9)\n",
      "\n",
      "The behaviour of Lily Bart can be looked upon from different angles. On one hand, Lily has her own will and is absolutely aware of this, but even though she feels trapped within society she still wants to hold on to the life she always has led. It is evident that she lets herself be controlled by society. On the other hand, she is much more self-conscious about men and marriage, and will not tie herself into something that would not please her. Thus it is difficult to state clearly whether Lily is \"a victim of her environment\" (p.52) or not.\n",
      "\n",
      "\n",
      " Little Women by L. M. Alcott \n",
      "The critic Elaine Showalter says about Edna Pontellier in The Awakening by Kate Chopin that she \"appears to reject the domestic empire of the mother and the sororal world of women's culture\" (p 313). I will in this essay discuss these two phenomena - the domestic empire of the mother and the sororal world of women's culture - in Little Women where we follow four sisters during a year in their teens. I intend to present how the 'domestic empress' comes across to the reader and what women's culture with its sorority consist of in the novel.\n",
      "\n",
      "As the title suggests the focus of novel is women and there is little doubt about the existence of a domestic empire of the mother. Already in the beginning of the novel the reader is made aware of the absence of the father and also that he is going to stay away for a long time - he is in the army. \"'When will he come home, Marmee?'...'Not for many months, dear, unless he is sick. He will stay and do his work faithfully as long as he can, and we won't ask for him back a minute sooner than he can be spared.'\" (p 9) In 'Marmee's' answer to the daughter's question it is implied that the different sexes have different roles - Father serves the country and Mother looks to the household. Accordingly, the only parent present in the household is the mother and she can reign without the fear of having to compete with the father. The fact that she is the mother of four girls helps reinforcing the picture of the domestic empress, since everything the five women do has female overtones. The only one trying to redress the balance of the female/male scales is Jo, who wish to do \"boyish\" things (p 4) and regrets being born a girl. To describe the positive features of 'Marmee' words like 'motherly' and 'maternal' are used. Examples of this is \"that motherly face was sure to affect them like sunshine\" and \"While making these maternal inquiries\". Whenever she appears together with the girls she is the glowing centre of the picture. One example of this is when she returns home the first evening after a hard day: \"[the girls] turned to welcome a tall, motherly lady with a can-I-help-you look which was truly delightful. ...the girls thought the gray cloak and unfashionable bonnet covered the most splendid mother in the world.\" (p 8) and later \"the rest turned toward her with brightening faces, as flowers turn toward the sun.\" (p110) The girls are supported and encouraged by their mother in everything they do; the mother's aim being that her daughters grow up to create their own domestic empires as good wives to their future husbands. \"'Suppose you learn plain cooking; that's a useful accomplishment, which no woman should be without', said Mrs March.\" (p110) She is always sensible and pedagogical when teaching her disciples. The week of experiment, that is, the week of idleness that the girls experience, had the wished effect - the girls understood that everyday life must be more than playing and having fun. As Mother puts it: \"so I thought, as a little lesson, I would show you what happens when everyone thinks only of herself. Don't you feel that it is pleasanter to help one another...that home may be comfortable and lovely to us all?\" (p 110) She is the empress of the house more than ever while the father is away, but the mother and her girls feel \"as if all the happiness and support of their lives was about to be taken from them\" (p 147) when they get the news that Father is ill. However, \"Mrs March was herself again directly\" (p147).\n",
      "\n",
      "Something which is omnipresent in Little Women is the sororal world of women's culture. It surrounds everything that the girls experience and since the four main characters are sisters the feeling becomes even more sororal. The scene described on the opening pages of the novel directly gives the spectator (reader) the impression that the sisters are very close. The atmosphere is always very open and friendly and the older girls take good care of their younger sisters even though they argue sometimes. They share each other's problems and console and support each other when times are hard. The reason for this very open-hearted atmosphere among the girls is probably the mother - she herself tells her daughters in a very sincere manner about her thoughts and troubles. One instance is when she and Jo talk about Meg's future and whether she should marry Mr Brooke or not : \"'You don't like it, Mother? I'm glad of it.'\" Jo says and Mother answers, \"'I did wrong to sigh, Jo. It is only natural and right you should all go to homes of your own in time, but I do want to keep my girls as long as I can.'\" (p 188) Clothing is something which occupy the girls' minds a lot. Therefore the lack of money to buy clothes for is a problem for the girls even though they know there are more important things in life: \"'Don't be troubled... poverty seldom daunts a sincere lover'\" (p 92), Mrs March assures. Clothing is also the problem when Meg is going away to spend a few days with her friend Annie and her family. \"[The dress] isn't low-necked and it doesn't sweep enough, but it will have to do. ... My silk sacque isn't a bit in fashion, and my bonnet doesn't look like Sallie's...I ought not to complain, but I know I shall feel ashamed of [my umbrella] beside Annie's silk one with a gold top.\" (p 80) However, the sorority helps Meg when she has arrived at Annie's - she is soon taken care of by the other girls who treats her as if she were their own younger sister and dresses her up and let her borrow a dress. They know what is important in this kind of situation and they have the remedy for feeling out of it. The same kind of 'clothes-caring' is shown by Jo when she lets Meg borrow gloves so that she can be as nice as the other ones. Vanity produces this solicitude.\n",
      "\n",
      "To relate to Edna Pontellier, it can be said that she would not have felt very comfortable in this milieu. The mother is the uncrowned empress of the house and her will and power is never questioned - she is the norm. Her girls look up to her and have their aims set. \"To be loved and chosen by a good man is the best and sweetest thing which can happen to a woman.\" (p 92) and this is what all the girls are striving for. Women's culture in its many form - sewing, confiding, clothing, cooking - is the main thread and the sorority of it is ever-present and gives the description of the life in the March house a special, cosy shimmer.\n",
      "\n",
      "\n",
      " Leaving Mango Street \n",
      "In this essay I will give an account of what makes Esperanza, in Sandra Cisneros' The House on Mango Street, manage to free herself from the repressive society of the barrio. I will begin by discussing in three separate paragraphs how Esperanza's great-grandmother, her mother, and her friend Alicia influence her, and how they directly or indirectly encourage her to become strong and independent. Then I will continue by looking upon how the sad destiny of Esperanza's friend Sally affects her, and makes her unwilling to accept a similar destiny of her own. Lastly I will explain how writing helps Esperanza to free herself from the reality of Mango Street.\n",
      "\tThroughout The House on Mango Street Esperanza is much influenced by three role models, women that are strong though their lives may not always have become what they wanted to be. In the beginning of the novel Esperanza describes her great-grandmother when explaining how she got her name. Her great-grandmother was a very solid woman who refused to get married. Like Esperanza she was born in the Chinese year of the horse, which is said to be bad luck if a female is born in that year, but what Esperanza thinks is a Chinese lie: \"because the Chinese, like the Mexicans, don't like their women strong\". Esperanza's great-grandfather had to throw a sack over her and carry her off. Even though Esperanza never was given the chance to meet her great-grandmother she has been inspired by her strength through stories about her great-grandmother. They are related, have the same names and were both born in the Chinese year of the horse. Therefore it is possible for Esperanza to identify herself with her great-grandmother and share some of her strength. \n",
      "Esperanza's mother is also a strong woman. Her life did not turn out the same way she wished for as a girl. She is after all somewhat pleased with her life. She has a good husband and four children. However, she could have become something else instead of a domestic wife, not even knowing which subway train to take to get downtown. Esperanza's mother is stuck to the barrio, and does not want this to happen to her children. In the chapter \"A Smart Cookie\", Esperanza's mother says: \n",
      "Shame is a bad thing, you know. It keeps you down. You want to know why I quit school? Because I didn't have nice clothes. No clothes, but I had brains. \n",
      "Esperanza's mother does not want Esperanza to waste her chance of becoming someone. Therefore she encourages Esperanza to study hard and find a way out from life on Mango Street.\n",
      "Esperanza's friend Alicia studies at the university and has decided to accomplish something better than becoming a factory worker or similar profession. She does not want to be stuck in the neighbourhood like everyone else. In contradiction of Esperanza's other friends, Alicia has higher ambitions than becoming someone's wife. She wants to break away from the barrio and has the courage to do it. Alicia's strength impresses Esperanza and encourages her to do the same.\n",
      "Many women who live in the same neighbourhood as Esperanza are being repressed by men. Esperanza's friend Sally is beautiful and popular among the boys, and Esperanza which she was like her. However, Esperanza is disgusted of how the boys treat Sally. In the chapter \"The Monkey Garden\" Esperanza becomes furious when Tito's gang makes Sally kiss them in order to get her keys back. She cannot understand how Sally lets them treat her as they please. For Sally it is just a game, a way of getting in contact with boys. She wants to escape from her father who tries to keep her away from boys by beating her, and her way of doing this is by finding a husband. Later Sally finds a husband and manages escape from her father. She frees herself from her father but does not escape from the barrio. Sally avoids being repressed by her father, but instead is being repressed by her husband who is afraid Sally will see other men and therefore makes her stay home. Esperanza refuses to accept this and she does not tolerate the injustice against women of the barrio. She does not want to be a part of it. The sad destiny of beautiful Sally helps Esperanza realise that she has to free herself from Mango Street or else she might be in the same situation as Sally.\n",
      "Writing is very important to Esperanza. When writing she is not bound to the barrio. She does not have to live in a shabby house and she can become the person she wants to be like. Her aunt Lupe tells her she has to keep writing. \"It will keep you free\", her aunt says, and it is through writing she can escape the harsh reality of Mango Street. She tells stories about her life in the barrio inside her head, and writing it down makes her feel free. In the last chapter, \"Mango Says Goodbye Sometimes\", Esperanza says: \n",
      "I put it down on paper and then the ghost does not ache so much. I write it down and Mango says goodbye sometimes. She does not hold me with both arms. She sets me Free.\n",
      "Throughout The House on Mango Street Esperanza gets more and more convinced that she will leave her neighbourhood one day. Writing is her means of surviving during the time of waiting and longing for that day to come.\n",
      "\tEsperanza has a number of strong role models that inspire her to be independent, which helps her free herself from the barrio. She has been inspired by her great-grandmother's strength. Her mother has influenced her to study hard and not to do the same mistakes as she did. Esperanza is also encouraged to study hard by her friend Alicia who is studying at the university, and has decided not to be stuck to the barrio and work in a factory. The sad life of Sally could also be seen as an inspiration source for Esperanza of freeing herself, which has made Esperanza realise that leaving Mango Street is her only option if she does not want to have a similar life as Sally. However, writing is probably what is most important for Esperanza to free herself from the barrio, since that is the means she uses to escape reality and fantasise about the future.\n",
      "\n",
      "\n",
      " Little Women \n",
      "In a critical review of the American novel The Awakening, Elaine Showalter writes: \"Edna Pontellier appears to reject the domestic empire of the mother and the sororal world of women's culture.\" The aim of this essay is to give a clear picture of how the life style disregarded by Edna Pontellier, goes without saying in the home of the March family in the novel Little Women.\n",
      "\n",
      "The little women, as Mr. March calls his four daughters consists of Meg, Jo, Beth, and Amy. Mrs. March is, however, not a little woman anymore but a role model not only for her daughters but also for the whole society of women which is clearly shown in Hannah's remark: \"There never was such a woman for givin' away vittles and drink, clothes and firin' \" (p.14:7-8) Actually, Mrs. March seems to be the prototype of mothers. \"The first sound in the morning was her voice as she went about the house singing like a lark, and the last sound at night was the same cheery sound, for the girls never grew too old for that familiar lullaby\" \n",
      "(p.12:10-13). The March family is not rich in an economic way of speaking but they have strong family ties and although they are poor the have a home which really feels like a home, and the girls seldom miss out on anything since they are blessed with \"...the mother of invention\" (p.17:8) and she somehow manages to provide everything that the girls need.\n",
      "\n",
      "However, it is not as \"the mother of invention\" that Mrs. March stands out, it is rather how she acts when there is no material items involved; the habits and values that she innovates.\n",
      "To help with the economy the oldest daughters Meg and Jo both have a job; Meg works as a governess in a rich family, and Jo assists their lame Aunt March in different matters. On their way to work Meg and Jo always leave together.\n",
      "\n",
      "\tThey always looked back before turning the corner, for their mother\n",
      "\twas always at the window to nod and smile, and wave her hand to\n",
      "\tthem. Somehow it seemed as if they couldn't have got through the\n",
      "\tday without that, for whatever their mood might be, the last glimpse\n",
      "\tof that motherly face was sure to affect them like sunshine. (p.34:30-35)\n",
      "\n",
      "The rich Aunt March had once offered to adopt one of the girls since the March family was short of money and she needed help, but the parents gave the following answer: \"We can't give up our girls for a dozen fortunes. Rich or poor, we will keep together and be happy in one another\" (p.36:7-8). This shows what family means to both Mr. and Mrs. March. Since Mr. March is absent through almost the whole story these lines give a hint that he has a dear place among all his women and that he shares Mrs. March's philosophy of life.\n",
      "\n",
      "Mrs. March's view of life an her motherly personality is very well reflected in her daughters. Meg, Jo, Beth, and Amy are all very close and it is easy to see that the four sisters are in fact best friends. Of course they have disagreements every now and then but they always forgive, help and love each other. Meg and Jo who are the oldest ones watch out and take care of Beth and Amy who are a few years younger. \n",
      "\tThe two older girls were a great deal to one another, but each\n",
      "\ttook one of the younger into her keeping and watched over\n",
      "\ther in her own way -'playing mother' they called it - and put\n",
      "\ttheir sisters in the places of discarded dolls with the maternal\n",
      "\tinstinct of little women. (p.39:16-20)\n",
      "\n",
      "Although the March girls sometimes complain that they are poor the family keeps a servant, Hannah, whom they all like very much. The girls do not look upon her as a servant but as a member of the family and now while Mr. March is away the March family consists of six women. Not only do the sisters and their mother have a close relationship but also Hanna is part of it. That they all take up and care for each other is revealed through their actions when Amy comes home very sad; she has been in trouble at school.\n",
      "\tMrs. March did not say much but looked disturbed, and\n",
      "\tcomforted her afflicted daughter in her tendersest manner.\n",
      "\tMeg bathed the insulted hand with glycerine and tears, Beth\n",
      "\tfelt that even her beloved kittens would fail as a balm for\n",
      "\tgriefs like this, Jo wrathfully proposed that Mr Davis be\n",
      "\tarrested without delay, and Hannah shook her fist at the\n",
      "\t'villian' and ponded potatoes for dinner as if she had him\n",
      "\tunder her pestle. (p.66:18-25)\n",
      "\n",
      "\t\n",
      "Nevertheless, Amy is not the only one who has problems. All the girls has something that is bothering them. In Jo's case it is her temper and when Amy burned her book she completely lost it and refused to forgive her little sister. For days Jo acted very childish and she did not pay any attention to Amy , however, when Amy fell into the water while they were skating reality suddenly came back to Jo and she realized how wrongly she had acted and how much she loved her sister. The devastated Jo went where they all went when they needed help and comfort, and that is of course to their mother.\n",
      "\t\"Oh, Mother, help me, do help me!\" \"I will, my child, I will.\n",
      "\tDon't cry so bitterly, but remember this day, and resolve with\n",
      "\tall your soul that you will never know another like it. Jo, dear,\n",
      "\twe all have our temptations, some far greater than yours and it\n",
      "\toften takes us all our lives to conquer them. You think your \n",
      "\ttemper is the worst in the world, but mine used to be just like it.\n",
      "\t(p.75:21-27)\n",
      "Here it becomes visible that Mrs. March also possesses the ability of being pedagogical. She is such a motherly mother and she always knows what to say to comfort her daughters. By telling Jo that she herself has had this problem she makes Jo feel that she is not alone in this and that she always has somebody to talk to. Besides it gives her the strength that she needs to deal with it. To Jo it means very much that these words come from her mother since she is somebody who Jo loves and looks up to.\n",
      "\n",
      "All Mrs. March's daughters look up to her and \"the domestic empire of the mother and the sororal world of women's culture\" characterizes almost every page of this story about little women. Mrs. March stands for love, safety, knowledge, warmness, and to her daughters she is also the one who knows right from wrong. She is the perfect role model for her girls and they know that they can come to her at any time. Mrs. March's motherly heart is always open and she seems to live for her daughters. As Mrs. March makes up \"the domestic empire of the mother\", the girls stand for \"the sororal culture of women\". Meg, Jo, Beth, and Amy are four sisters who depend on each other and share everything. They are both happy and sad for each other and if one of them have a problem they all have a problem. Their sisterhood is their sorority which they all value very much. And, as mentioned before, Mrs. March's motherly personality is also a trait if character in all her daughters but mostly in the oldest ones. Beth has a dear and loving extra mother in Jo just as Amy has one in Meg.\n",
      "\n",
      "\tSo grouped, the curtain falls upon Meg, Jo, Beth, and Amy.\n",
      "\tWhether it ever rises again, depends upon the reception\n",
      "\tgiven to the first act of the domestic drama called Little Women.\n",
      "\t(p.217:25-27)\n",
      "\n",
      "\n",
      " Little Lost Lily \n",
      "The tragicomic story of the life of Lily Bart is a vivid example of somebody losing control over her life. In fact, in Lily's case it can be argued whether she ever had any control at all. Since Lily was born into a lifestyle of glamour, luxury, external beauty and excessive wealth, and her mother teaches her to despise all other values, Lily from the very beginning is 'forced' into a certain kind of life. This life, in a society dictated by wealthy men and their bored, competitive wives, requires total adaptation of anyone who wishes to participate. Thus, by being born into it and being determined to stay in it - since she knows nothing else - Lily, in many aspects, gives up her own free will. In this essay I will give examples of how society controls Lily, even when it seems to be the other way around. But I will also present an important event in the novel where Lily actually refuses to be controlled and takes her destiny in her own hands.\n",
      "Lily Bart's mother, a woman who loved wealth and money as much as she hated \"dinginess\", brings up Lily to develop the same tastes and opinions as herself. She probably means well, but by showing so much contempt for a \"normal\" lifestyle, she practically scares Lily into chasing wealth. It is as if Lily throughout her life is guided - or maybe haunted - by the words of her mother: \"Don't let it creep up on you and drag you down. Fight your way out of it somehow - you 're young and can do it,\" (35) Here her mother refers to dinginess, poverty and everything else not associated with wealth. By giving Lily this 'order' she forces her into a lifestyle that almost totally takes control over Lily. It might seem as Lily makes a lot of choices of her own, but in fact she seldom is left with any alternatives; in order to stay in the right social circles she must make certain decisions. One of these decisions is to get married.\n",
      "A girl should marry. And to remain socially acceptable in Lily's circle she should marry well. There is no doubt that this is also required of Lily, regardless if she wants to marry or not. After failing too many times in finding a suitable husband, Lily's 'friends' start talking and gossiping and she risks ending up outside the only world she knows of. As Lily eventually finds a suitable candidate, Mr. Gryce, she looks at herself as his future possession: \"... she determined to be to him what his Americana had hitherto been: the one possession in which he took sufficient pride to spend money on it.\" (49) This shows that even Lily looks at herself, and women in general, as mere ornaments, and in order to get away from poverty she must totally please her future husband. She must follow the rules created by society and men to be able to please society and men. So, even if Lily may have some control over the men she tries to please - and she apparently has - it is merely a superficial control - if she fails to please, she is doomed.\n",
      "Ironically, when the rich and luxurious society occasionally loses its grasp of Lily it is because of a man, but not her expected husband-to-be. Mr. Selden sees through Lily and makes her - even if only temporarily - look at her friends through completely different eyes. After talking to Selden she suddenly finds them \"... merely loud in a dull way\" and totally without brilliant qualities.(55) Selden opens Lily's eyes and she grows to like him very much, maybe even love him, but out of fear of being excluded from the inner circle she realises she can't marry him. She can't follow her feelings, the glamorous society has got her in its firm grasp. (On the other hand, Selden later becomes the reason why Lily breaks lose from society, but I will return to that further down.) But her devotion for him also ruins her chances of marrying Mr. Gryce.\n",
      "Thus, little by little things start going wrong for Lily. Rumours of her borrowing money from Mr. Trenor and even having an affair with him damages her reputation as a high-society girl. As Lily's status keeps declining she is suddenly saved by the bell - she receives and accepts an invitation to a Mediterranean cruise with the Dorsets (179). The accepting of the invitation might seem as Lily's own choice, but once again it should be seen as the only possible choice in order for her to remain in the upper-class society she is used to. Once again, the control lies out of her own hands.\n",
      "A good example of how cruelly things could work in the circles of 'rich people in New York' is given on page 229, when Lily and her friend Gerty meet a party of Lily's old friends led by the Trenors, at a fine restaurant. At this point Lily has returned from Europe and is now being accused of having had an affair with Mr. Dorset. This is a rumour most people know is false, but it is more convenient to believe in the accuser than in Lily, since she has already slipped a long way down the social ladder:\n",
      "Trenor, red and uncomfortable, had cut short his salutations on a pretext of a word to say to the head-waiter; and the rest of the group soon melted away in Mrs. Trenors wake.\n",
      "It was over in a moment [...] - but Miss Bart in the interval, had taken the measure of her fate. Where Judy Trenor led, all the world would follow; and Lily had the doomed sense of the castaway who has signalled in vain to fleeing sails.\n",
      "At this point there is no doubt that Lily has lost almost all her status and is descending even more and she feels it. This is what she has been trying to avoid all her life, and it is important to know this in order to understand why Lily so badly wants to be accepted by the 'right people'.\n",
      "The actions Lily take after the incident at the restaurant are very desperate. She turns once again to a man, Mr. Rosedale in hope of \"tricking\" him into marrying her. He is her only hope to regain her social status. She sets all her hopes to being rescued by a man - she can not do it by herself. But she is being too confident in her powers over men. Mr. Rosedale refuses to marry her, because he is afraid that due to her bad reputation, his status will decline too: \"Why should I mind saying I want to get into society? [...] But I know the quickest way to queer yourself with the right people is to be seen with the wrong ones; and that is the reason I want to avoid mistakes.\" (256) Ironically, the man Lily once rejected partly because his social status was questionable, now rejects her due to her poor status.\n",
      "At this stage Selden plays an important role. Lily could actually save her status by revealing some letters proving that Mrs. Dorset have tried to win Selden's love. Instead, Lily burns the letters and loses her last chance of ever going back to a life full of luxury and abundance. In this way she reveals her true feelings for Selden, or at least she admits them to herself. And, most importantly, this is the first time, in my opinion, that Lily really breaks free and acts on her own, regardless of what consequences her actions may have. It also becomes the last time she does this, since she dies shortly afterwards.\n",
      "I think it is safe to say that the destiny of Lily Bart would have been a different one if only her mother had raised her in a wiser way. Because Lily is taught that there is only one life worth living, a life of wealth and luxury, her path in life becomes very narrow. To be able to follow that path she has to make certain almost predestined choices. From the very beginning of her life she is being controlled; by her own actions, perhaps, but they in turn are controlled by society. Not until Lily's social disaster more or less is a fact she dares follow her own mind in a broader sense. Her death may or may not be the result of this - but, on the other hand, after having given up her last chance of reaching the only life she knows how to lead, she also may have given up the only purpose of her life.\n",
      "\n",
      "\n",
      " \n",
      "Little Women is the story of one year in the lives of four sisters, their mother and Hannah, the faithful family servant. It is a story of pride and poverty, of sorority and survival. How the loving, sororal atmosphere of the March household is created and preserved is what I will discuss in this essay.\n",
      "\n",
      "Little Women gives the perfect picture of the perfect home. The narrator lets us as readers take part in a world in which the ideal mother-woman, in the shape of Mrs March, is the undisputed ruler. Life in the March family evolves around the mother and I intend to show how Mrs March is like a spider in the web who is continually present to guide and help her daughters on their way to mature into women, ready to take on the responsibility of their own homes, seeking strenght in their love for each other and in their faith in God.\n",
      "\n",
      "The men of the story are absent, either off to fight in the war like the father, Mr March, or living somewhere else, like Mr Lawrence and Laurie. The women are left to create order in their world in their own way and they are evidently present. This difference between present women and absent men is striking in the novel. Although Mrs March does tend to leave her daughters from time to time, she is always coming back. Even when in Washington to take care of her sick husband she is present, not directly, but through the letters that are sent to her from home (chapter 16). Never once in the book are Mr March's letters, which he is said to write from the war, read out aloud for the narratee to partake of, nor are any of the replies sent back to him.\n",
      "\n",
      "Like a thread throughout the story runs the desire to be useful and to help other people. After the girls have tried to enjoy a weeks vacation with no duties at all (chapter 11) the experiment ends with a mutual resolution not to be idle but to work and help with the duties of the household. In a rhetorical question put to hãer daughters, Mrs March states that \"it is better to have a few duties and live a little for others\" (p 110) than to be idle and let other people do everything for you. Since it is agreed upon that \"the comfort of all depends on each doing her share faithfully\" (p 110), all girls promise to spend the rest of their summer days dividing their time between work and play.\n",
      "\n",
      "Mrs March is, as I stated in the beginning of this essay, the ideal mother-woman, very evidently present in the story even when she goes away to visit her husband at the Washington hospital. She is introduced to the reader as \"a tall, motherly lady with a 'can-I-help-you' look about her which was truly delightful\" (p 8). If we compare Mrs March of Little Women to Edna Pontellier of Kate Chopin's The Awakening, Mrs March is everything that Edna is not. Mrs March sees it as her utmost duty and happiness in life to be a guide to her children and to be helpful to anyone who might need it. What she wants to teach her girls is that \"to be loved and chosen by a good man is the best and sweetest thing which can happen to a woman\" (p 92). Many times Mrs March tells her daughters that being loved and chosen by their father is her greatest joy and the source of all her happiness. This is the kind of happiness she wishes for them all to find.\n",
      "\n",
      "To Mrs March, love and faithful service comes first. As in all other aspects of life, Mrs March herself is in this the main example to her daughters. She is a woman who would not give up any of her beloved girls for adoption by an elderly relative, Aunt March, when poverty struck the family, even though it might have been a relief to have one less mouth to feed. Many hours of her days are spent knitting and sewing clothes for the men who are fighting the war far away from home. Mrs March gives her own daughters' christmas breakfast to an even poorer family, the Hummels, living nearby (chapter 2). When she goes away to be by her sick husband's side, she has a word of encouragement to give to each of her daughters respectively. She tells them to be prudent, patient, faithful and obedient (p154-155). These are qualities that, along with self-denial and self-control, are pointed out as desireable in a woman throughout the book. If they learn to be humble and find happiness in creating a nice home for their family, the March girls are taught that the loving spirit of their childhood home will reign also in their adult lives.\n",
      "\n",
      "Religion plays an important part in creating the specific atmosphere in which the March family lives. Often alludes are made to Charles Bunyan's Pilgrim's Progress and this is a text which the girls have grown up reading and considering. Throughout Little Women, we are invited to follow the four March girls on their way to find their individual Celestial Cities. Mrs March encourages her daughters to follow the road which will make them both faithful in their belief in God and quiet, homely women. This is very obvious in the way Mrs March tries to teach Jo, her second eldest daughter, to control her temper and be a more silent person. In chapter 8, the mother confesses to have had , when younger, the same need to exort her feelings that Jo does but that faith and the loving guidance of her husband has helped her to win control of her own emotions. Mrs March sets herself as an example to her daugêhter in how she should seek help from God; \"If I don't seem to need help\" she says, \"it is because I have a better friend, even than Father, to comfort and sustain me\" (p 77). The friend she is refering to is, of course, God. Through this lesson, Jo learns to be a more humble and silent woman, qualities that are highly regarded in the March house; A\u001c Oin that sad yet happy hour, she [Jo] had learned not only the bitterness of remorse and despair, but the sweetness of self-denial and seÉlf-controlA\u001d O (p 77). \n",
      "\n",
      "Once the father, Mr March, comes home injured from the war, his role is that of the examinator. He comes when no one is expecting him and is warmly welcomed by the six women of the house. He spends his days resting and assessing the progress of his daughters. When asked, he tells them what he sees in each of them (end of chapter 22); Meg has got used to working hard not considering how household duties might harm her sensible hands; during her father \u0019 s absence, Jo has become a young woman who is more gentle and calm than before and she also shows a new motherly side of herself in the way she takes care of Beth; Beth, on the other hand, has lost some of her childish shyness; finally, Amy has learned not to think of her looks first but to consider the comfort of others instead.\n",
      "\n",
      "Little Women emanates from the ideal mother-woman, Mrs March. She sets the example for her daughters to follow, and it is the road of self-denial and self-control which will lead them to the Celestial City. Mrs March is rewarded for her patience and faithfulness, and so will her daughters be. Giving away the familyA\u0019 Os food, a fresh and even richer meal is presented by the neighbour, Mr Lawrence. Love for her family, along with prayer, gives her comfort while waiting for her husband to come back from the war. Mrs March is the heart of the body in which her daughters are parts. She is the source of the atmosphere in which they live, and which they all love and care for. The mother-woman creates and sustñains the domestic and sororal world of these women's culture.\n",
      "\n",
      "\n",
      " A World of Women \n",
      "Little Women by Louisa M. Alcott is a story about four girls and the feelings they have towards womanhood. The girls: Meg, Jo, Beth and Amy live together with their mother and a housemaid (their father is away, participating in the Civil War). The bond between the sisters is very strong and their relationship with their mother very affectionate. In this discussion I will focus on what constitutes this little world of women and discuss the features that can be looked at as typical of women's culture at that time. I will start by talking about what aspects of Mrs March that can be looked upon as typical of mothers and wives at that time and then move on to dealing with the four March sisters. \n",
      "An important female figure in the novel is Mrs March, the girls' mother. If you consider what constituted a perfect wife and mother at that time Mrs March is an excellent example. She is a woman who stays at home and takes care of her children and loves her husband very much even though he is away. Taking care of the home and making household goods was expected of middle class wives. Throughout the book, we often find Mrs March occupied with sewing and needlework. \n",
      "\tThe short afternoon wore away; all the other errands were done, \n",
      "\tand Meg and her mother busy at some necessary needle-work, while \n",
      "\tBeth and Amy got tea, and Hannah finished her ironing. . . . \n",
      "\t (Alcott 1868: 150)\n",
      "\n",
      "At the time the family was looked upon as an economic unit and was supposed to be self-supporting. The woman's role in that unit was to make garments of different kinds both for her own family and for selling. With the growing industrialization in America in the late 19th century this role of the family was decreasing. \n",
      "Some of Mrs March's personal characteristics can be looked upon as the norm for how mothers were supposed to be at the time. She is a very caring person and loves her daughters very much. They struggle with poverty but she does her best to cheer up her daughters. She is a very motherly character and always has the best interest of her family in mind. How much she cares for her daughters is obvious on several occasions in the text: \n",
      "\n",
      "\tI want my daughters to be beautiful, accomplished, \t\n",
      "\tand good; to be admired, loved and respected; \n",
      "\tto have a happy youth, to be well and wisely married, \n",
      "\tand to lead useful, pleasant lives with as little sorrow \n",
      "\tto try them as God sees fit to send. (Alcott 1868:.92)\n",
      "\n",
      "If you compare the sisters' personalities you find that Meg and Beth are quite similar in the way that they both seek to find happiness within the family whereas Amy wants fame and fortune as a painter. The girls all have different hobbies, Jo likes to read, Amy likes to paint and Beth plays the piano. To spend their time doing these things was not anything unusual for middle class women at that time. Especially the reading was very common among middle-class women. In fact they constituted the majority of the readers at that time. This is because it was hard for women to get admitted to any form of higher education so books constituted a source of knowledge for them. Reading was also a way of escaping the dull everyday life. The following passage illustrates some of the girls' hobbies as well as some of their daily chores:\n",
      "\n",
      "\tMeg sat upon her cushion, sewing daintily with her white hands, \n",
      "\tand looking as fresh as and sweet as a rose in her pink dress among \n",
      "\tthe green . . . Amy was sketching a group of ferns, and Jo was knitting \n",
      "\tas she read aloud. (Alcott 1868: 130)\n",
      "\n",
      "As for music and art, they were considered important in order to maintain a happy home as long as they did not interfere with the duties that a wife and mother had. Many young women were actually educated in singing or playing an instrument so that they would make a pleasant companion for their husband. The March girls does not however do this in order to get a wealthy husband and their mother does not hold any such pretensions:\n",
      "\n",
      "\t\tMy dear girls. I am ambitious for you, but not to have you \n",
      "\tmake a dash in the world-marry rich men merely because \n",
      "\tthey are rich, or have splendid houses, which are not homes \n",
      "\tbecause love is wanting . . . I'd rather see you as poor men's wives, \n",
      "\tif you were happy, beloved, contented, than queen \n",
      "\ton thrones, without self-respect and peace. (Alcott 1868: 92) \n",
      "\n",
      "This passage also shows that marriage was sought after if one got married out of the right reasons, that is love. We see how Meg rejects the attitudes of the rich girls on several places in the novel for instance in the chapter \"Meg Goes to Vanity Fair\".\n",
      "\tThe girls from rich families do not share this attitude that it is better to marry out of love and be poor. We see a great example of the different social conventions between the Marches and the richer girls when Meg goes to a party at the Moffats'. To them there is nothing strange about marry for money and that is shown by the way they look upon Meg's relationship to Laurie:\n",
      "\n",
      "\tMrs. M. has made her plans, I dare say, and will play her cards \n",
      "\twell, early as it is. The girl doesn't think of it yet, said Mrs Moffat. \n",
      "\t(Alcott 1868: 82-83)\n",
      "\n",
      "The everyday life of the rich girls also differs from that of the Marches. When the March sisters stay at home sewing and do other household chores the rich girls have other activities which they spend their time doing:\n",
      "\n",
      "\tThey shopped, walked, rode, and called all day, went to theatres \n",
      "\tand operas or frolicked at home in the evening, for Annie had many \n",
      "\tfriends and knew how to entertain them. (Alcott 1868: 81)\n",
      "\n",
      "This passage shows a great contrast between the everyday life of women depending on where on the social ladder they come from. The girls in the Moffat family do not seem have to work that much in the household.\n",
      "\tIn order to bring some extra money to the family Meg has a job as a governess. This was very much a job that you associated with women at that time. If a woman wanted to be independent and did not want to secure her economic situation by marriage she often took on the job of a governess. \n",
      "\tIn conclusion you can say that the characters in Little Women are good examples of how women were supposed to behave in those days. Especially the mother who takes on the role of the perfect mother is an excellent example. The relationship between the sisters is portrayed to a great length and we really get a nice view of their sororal relationship. The world in Little Women is made up mostly of female characters which makes the story interesting for a view of women's culture. In that respect the story offers a lot of interesting reading. \n",
      "Alcott, Louisa M, 1868: Little Women. Great Britain: Penguin,1994\n",
      "\n",
      "\n",
      " The House of Mirth \n",
      "Most people feel compelled to conform to the society they live in and this is true for Edith Wharton's Lily Bart in The House of Mirth. In order to keep the position in society she has in the beginning of the novel, Lily struggles throughout the novel to accomplish what society demands, to marry a wealthy man. She does, however, not realise her goal and dies alone at a boarding house. Why does Lily not accomplish what she sets out to do? Lily is a strong woman who knows what she wants out of life and who knows how to achieved her goals. Yet, she constantly stumbles just when she is about to reap what she has sowed. Nancy Walker has, in her reading of The Awakening, suggested that Edna is \"controlled by her own emotions, not by men or society\" (Walker 256). Is this statement appropriate for Lily Bart too? Does Lily's life turn out the way it does because of the patriarchal way society of fin de siècle is structured or because of her own emotions? The aim of this essay is to understand whether Lily Bart is controlled by her emotions or by men and the ideals of the society in which she lives. To reach this understanding, key sections of the text of The House of Mirth will be chosen and analysed.\n",
      "In the opening chapter of the book, Lily Bart runs into Mr. Lawrence Selden and does, as Mr Selden points out, accept his invitation to have tea in his apartment without afterthought (Wharton 6). This is the first hint of Lily's impulsive nature. As the visit unfolds the reader becomes aware that Lily is an intellectual and ambitious person who mostly acts in a specific way for a reason. \"He [Selden] could never be long with her without trying to find a reason for what she was doing, and as she replaced the first edition of La Bruyère and turned away from the bookcases, he began to ask himself what she had been driving at\" (Wharton 11). The answer to Selden's question reveals itself to him when he learns that Lily intends to marry Mr. Percy Gryce, who is a collector of Americana (Wharton 62). This, however, happens later on in the novel and the significance of the first chapter has not yet been completed.\n",
      "It is in the first chapter that the reader learns that Lily wants to marry for money, that Selden does not have any and that Selden will not marry to land himself with a large fortune. His answer to the suggestion that he too should marry for money is to laugh and declare \"God forbid!\" (Wharton 12). Lily replies by pointing out the unfairness in society by stating the differences between women and men.\n",
      "\"Ah, there's the difference - a girl must, a man may if he chooses.\" She surveyed him critically. \"Your coat's a little shabby - but who cares? It does n't keep people from asking you to dine. If I were shabby no one would have me: a woman is asked out as much for her clothes as for herself. The clothes are the background, the frame, if you like: they don't make success, but they are a part of it. Who wants a dingy woman? We are expected to be pretty and well-dressed till we drop - and if we can't keep it up alone, we have to go into partnership\" (Wharton 12).\n",
      "This statement appears to be nothing more than an appropriate observation of how life is among the upper class, but it is also a prophecy of Lily Bart's life. As long as Lily is well dressed and well thought of she is asked out, but when misfortune after misfortune strikes her, she is excluded from the life she wants to live. The statement is even more than an observation and a prophecy. It is also a sign of Lily's capability to read people and the reader is made aware of Lily's consciousness of what is appropriate and what is not. This knowledge together with the knowledge that Lily never does anything without a reason, reveals Lily as a very logical and maybe cold and calculating person. This perception of Lily is not entirely true, which is obvious just a couple of pages later on in the text.\n",
      "When Lily leaves the apartment of Mr. Selden and runs into Mr. Rosedale, she once again speaks without thinking of the consequences (Wharton 14). She tells Mr. Rosedale that she has been to her dressmaker instead of just telling the truth, that she had tea with Mr. Selden, and then runs off instead of letting Rosedale follow her to the train station. Why Lily behaves in this way she cannot understand herself. \"She was vexed to see that, in spite of so many years of vigilance, she had blundered twice within five minutes\" (Wharton 15). The reason for her behaviour can, however be found in Mrs. Fisher's description of Lily's efforts to get married: \"That's Lily all over, she works like a slave preparing the ground and sowing her seed; but the day she ought to be reaping the harvest she oversleeps herself or goes off on a picnic\" (Wharton 189). This would suggest that Lily, although she is intelligent enough to see what she has to do in order to achieve the marriage she strives for, is not capable of understanding when she has to act in order to be fully successful. Mrs. Fisher does not, however, leave the reader short of an explanation. \"Sometimes,\" she added, \"I think it's just the flightiness - and sometimes I think it's because, at heart, she despises the things she's trying for. And it's the difficulty of deciding that makes her such an interesting study\" (Wharton 189). \n",
      "Mrs. Fisher strikes at the core of Lily's problem in these two statements. Lily desperately wants to marry a rich person, yet she can never make herself actually act on it. She has a powerful weapon against her former friend Mrs. Dorset in the form of letters, yet refuses to use them because they are addressed to Mr. Selden. She declines Mr. Dorset's request to help him gather evidence to finalise the divorce to Mrs. Dorset and thus enabling herself to marry Mr. Dorset. The reasons for her actions are very likely due to the fact that she cannot make herself marry someone she does not love and she cannot hurt the person she does love, Mr. Selden. She cannot succumb to the pressure of society and the demands of what is appropriate.\n",
      "Lily Bart is a strong woman, who is able to hold her head up high despite what others might say about her. She could have chosen the wide road in life, yet she somehow always ends up walking the, if not straight, at least narrow road of life. She has been given the opportunity to escape her life, but refused it because she was a coward. She soon realised her mistake, but then it was too late (Wharton 308). This is the story of Lily Bart. She is intelligent enough to see what she ought to do and makes up splendid plans to achieve her goals. She never realises when to put the finishing touch to her marvellous plan, until it is too late. The reason for her not understanding or not seeing when she should make her final move is found in Mrs. Fisher's explanation quoted above. She does not truly want what she has been taught to strive for. She wants true happiness in life and is thus controlled by her own emotions and not by men or society.\n",
      "\n",
      "References\n",
      "Walker, Nancy. \"Feminist or Naturalist: The Social Context of Kate Chopin's The Awakening,\" Southern Quarterly 17 (1979):95-103. Reprinted in Kate Chopin's The Awakening, Norton Critical Edition pages 252-256.\n",
      "\n",
      "Wharton, Edith, The house of Mirth, Harmondsworth: Penguin Books, 1993.\n",
      "\n",
      "\n",
      " There and back again; A character's journey from humiliation to self-confidence. \n",
      "I have studied the character Celie in Alice Walker's novel The Color Purple, with emphasis on, how she is manipulated, or in some cases forced, away from a belief in her own judgment and faith in herself , and then on, how she finally gains enough strength to find her true self . In this essay, I will describe what I have found to be the three main aspects of this manipulation and the two things that make Celie find strength to change her situation. \n",
      "\tThe first and may be easiest aspect to recognize of this manipulation, is violence. Physical strength is the most basic form of power, in other words, when Celie's oppressors beat her it is to make sure that Celie knows that she is inferior to them. But, Celie has not only been frequently abused physically but also sexually from a very young age by her father, and later by her husband. It is impossible to imagine what this kind of abuse means, but that it very much disables Celie's emotional-life for a long time, is beyond doubt. In addition to this, Celie has to protect her younger sister Nettie from their stepfather's desires. It is self evidently that as long as Celie is staggering under these horrible burdens, she can not possibly have the strength to stand up for herself. Celie's stepfather has so completely broken Celie that she does not even reflect on that her stepfather gives her to Mr____, as if she was less than a slave. \n",
      "\tThe second main aspect of the manipulation is ignorance. Celie's oppressors do everything they can to keep her from realizing her own worth and abilities. Education and self-esteem are the keys to Celie's prison, but her father and husband will never let her have them. A clear example of both keeping Celie ignorant and at the same time degrade her, is when Celie becomes pregnant, raped by her stepfather at the age of fourteen, her stepfather takes her out of school and explains to her that \"You too dumb to keep going to school.\" (p.11). Celie's stepfather and her husband are both of them very successful in convincing Celie that she is worthless, ugly and stupid. By doing so, they make sure that she is going to keep on being their ignorant slave. In fact, Celie is so broken that she even fetches the belt her husband asks for to beat her with. In the passage where Celie tells Sophie about how she can not feel anger, it becomes obvious that for every time Celie fails to stand up for herself, she is rendered weaker and weaker and finally she can do nothing but repress her emotions. \n",
      "\t The third main aspect of the manipulation is the one that I perceive as the most emphasized, and may be most important one, in this novel, namely religion. Celie's belief in a \" big and old and tall and graybearded and white\" (p.201) god with bluish-gray eyes that watches and, when the time comes, judges you, is what makes Celie stay and accept her bondage. The religion forced on her is the very foundation upon which all her sufferings are built. A religion that pays no heed to black people and in particular not to black women is a dangerous thing in the hands of the oppressors. Or, as Alice Walker so wisely puts it, \"It is fatal to love a God who does not love you. A God specifically created to comfort, lead, advise, strengthen, and enlarge the tribal borders of someone else.\"1. By making Celie believe that everything that happens is God's will and that it is your obligation towards God to accept you destiny, the men around Celie can treat her any way they want to without objections. As a good black Christian woman, Celie does not lift a finger to protect herself from what she is told to be God's divined will. Who is she, a poor black women, to question God's actions, or rather lack of action?\n",
      "\tAs religion is the main obstacle in Celie's personal development, it is not before she overcomes her religion that she can truly start to find her true self. Celie's discussion with Shug about God is very much the turning point in Celie's life. To find through Shug, a faith of an ever loving and caring God that loves everything he has made, including poor black women, is what makes Celie open her eyes and see her own value and that she has a rightful place in God's creation. When Celie substitutes the white male God for a genderless mother-nature, she finds a new view of the world that she can associate with and love. Or, as Shug tells Celie, \"You have to git man [God as the white male] off your eyeball, before you can see anything a'tall.\" (p.204). In the passage where Celie stands up to her husband, we can clearly see that although nothing has changed between them, Celie has found a new strength that nobody can take from her. \n",
      "\tAlthough Celie's new conceptions of God are what finally makes her find an inner love for herself and subsequently strength to break free, there are things without which she could never have found in her to change her situation, namely love and support from her close ones. If Nettie's letter with all their love and consideration had reached Celie earlier, Celie's story would probably have been quite different. The letters made Celie realize that she wasn't alone and that gave her hope. They also awoke strong feelings in her that she had not had strength to feel for a very long time. To Celie the letters became a cathartic experience, a way to find and direct her anger, hate and sorrow. In addition to the letters Celie found something very rare for a woman in her situation, true and answered love. Shug is very much the key figure in Celie's life. Not only because she is the one who opens Celie's eyes to the wonders of nature, but because she is the first person who Celie loves, not only on the platonic level but also on the sexual, and that she loves Celie back. Shug is the first person that Celie tells what she has been through, and the first person who stood up for Celie when Celie could not herself. Without Shug's love and support, Celie could never have found strength enough to take charge of her own destiny. Shug as a strong women with a strong mind , becomes Celie's role model and source of inspiration. \n",
      "\tFinally, there is naturally much more to such complicated subjects as manipulation and self-realization, but the aspects stated above are the ones I have found to be the most important. As I have stated earlier, I see religion as the most emphasized feature of the manipulation and therefor arguably the most important one, but it is when all three aspects converge and intertwine that we get Celie's story. The aspects are strongly interconnected and together, they form a social and cultural setting that manipulates its characters away from a belief in their own judgment and a faith in themselves. When it comes to Celie's struggle to self-realization, it is a journey that is very much linked to the three aspects. First the violence stops, then Celie finds love and friendship, which shows her that she is everything but useless, and finally, she sees through the religious hypocrisy that has chained her to her situation. To sum up, life can be very hard but when we open our eyes, we find, that we truly live in the best of worlds.\n",
      "1Walker, Alice. The only reason you want to go to heaven is that you have been driven out of you mind . Humanist, Sept/Oct 97, Vol. 57 Issue5, p29, 5p, 1c\n",
      "\n",
      "\n",
      " Lily Bart-Controlled by Emotions or Society? \n",
      "In her article Feminist or Naturalist, Nancy Walker states that the main character Edna in The Awakening by Kate Chopin, is \"controlled by her own emotions, not by men or society\". In this essay, I will discuss whether or not this is true about Lily Bart in Edith Wharton's novel The House of Mirth. The point I will look at first is the role of women and that marriage was necessary for their survival. Then I will discuss what can be considered as Lily Bart's emotions and finally, I will draw attention to something a bit like a paradox in the society system of the novel, namely: can Lily Bart be considered controlled by men if she is controlling them?\n",
      "One thing that would make Lily Bart dependent on, and thereby controlled by, society and men is the fact that she, and practically all other women in the novel for that matter, needs to be married to get money in order to survive. This is implied by the narrator on p. 49: \"The certainty that she could marry Percy Gryce when she pleased had lifted a heavy load from her mind, and her money troubles were too recent for their removal not to leave a sense of relief\". In other words, marriage is firstly economic security, which is also suggested by Mrs. Trenor on p. 75: \"I don't suppose you did it because he amused you; we could none of us imagine your putting up with him for a moment unless you meant to marry him\". As we can see in these two examples, marriage does not seem to have any connection with love or even friendship and women were expected to behave in a certain way. An example of this can be detected on p. 121: \"Miss Bart herself possessed precisely the complimentary qualities needed to round off his social personality\" [italics mine] on p. 135 we read: \"This was the world she lived in, these were the standards by which she was fated to be measured\" (beauty, that is) and on p. 192 we see: \"she...had made a pact with her rebellious impulses, and achieved a uniform system of self-government, under which all vagrant tendencies were either held captive or forced into the service of the state\". These quotes give a glimpse of what the women situation would be like in such a society; women were there for the men, they were measured by standards of beauty and they were not supposed to talk back but to put a lid on. \n",
      "On the other hand, let us look at Lily Bart's emotions. Often it is not clear in the text whether an emotional expression expressed by her is real or if it is just a strategic move. An example of this is on p. 72 when she is alone with Selden: \"she dropped her face on her hands and he saw that for a moment she wept\" but further down it says: \"she turned on him a face softened but not disfigured by emotion, and he said to himself, somewhat cruelly, that even her weeping was an art\". However, we can assume that she is capable of feeling, there is an example of envy on p. 25: \"the mere thought of that other woman...filled Lily Bart with envy\". But is it not possible that she can be considered controlled by her emotions, since what she really wants in life is not love but money and admiration? On p. 90 the narrator tells us how much she wants money: \"The glow of the [diamonds] warmed Lily's veins like wine. More completely than any other expression of wealth they symbolized the life she longed to lead\" and on p. 49 her need of admiration is suggested: \"Instead of having to flatter, she would be flattered; instead of being grateful, she would receive thanks\". We are even told by Lily Bart herself, on p. 166, what she wants as desperation seizes her: \"Gerty, you know [Selden]-you understand him-tell me; if I went to him, if I told him everything-if I said: 'I am bad through and through-I want admiration, I want excitement, I want money-' yes, money!\" Does \"her emotions\" necessarily have to mean love towards human beings, or could it mean materialistic love?\n",
      "How much a paradox it may be, at the same time as Lily Bart is controlled by men, she is also, at times, controlling them. She is calculating and planning and considers every move she makes, as is told by herself on p. 48: \"All Jack has to do to get everything he wants is to keep quiet and let [Gwen] marry him; whereas I have to calculate and contrive, and retreat and advance, as if I were going through an intricate dance, when one misstep would throw me hopelessly out of time\". Apart from telling us that she is calculating, this quote also indicates a difference between men and women. A difference Lily Bart has been raised to believe in and which makes her act the way she does. Furthermore, she uses her beauty as a tool and combines it with her ability to interpret people's signals, which we can see on p. 34: \"Lily understood that beauty is only the raw material of conquest, and that to convert it into success other arts were required\". In society of today, Lily Bart would probably be considered a cold and calculating snake who only cared for her own good. Still, in the society of this novel women have to be part of a game in order to survive. On p. 85, Lily Bart is \"letting Trenor, as they drove homeward, lean a little nearer and rest his hand reassuringly on hers, cost her a momentary shiver of reluctance. It was part of the game to make him feel that her appeal had been an uncalculated impulse, provoked by the liking he inspired\"\n",
      "To sum up, despite the fact that Lily Bart is calculating and controls men in her environment by her appearance and behavior and also despite her thirst for money and admiration, I would consider her controlled by men and society and not by emotions. The reason for this is simple; society forms its members. People were raised to believe in certain standards and in this particular society, women were forced to be part of a game constructed by men. When Lily Bart says she wants only money, it is only what she has been told to strive for and as for marriage, she had better find someone with money to ensure her well being. Careful consideration was the only option. It is pure survival instinct.\n",
      "\n",
      "\n",
      " Why is it so hard to be and accept who and what you are? \n",
      "A central theme in Toni Morrison's work is \"the tension between the racial self and the racial community\". This according to the article\" A living memory: a meeting with Toni Morrison\" written by Paul Gilroy first published in 1993. It is an interview with the author where she talks about her work and her book Beloved (1988). I will discuss how this theme is explored in her book The Bluest Eye (1970).\n",
      "My interpretation of the theme, \"the tension between the racial self and the racial community\", is that it is difficult to be, in this case, black on your own when the influence of the white race with its ideals and dreams is so big as it must be in the U.S at this time, in 1941. A community is stronger and not as vulnerable and impressionable as a single individual is. This causes tension between the self and the community in all worlds I think but the racial tension is not always the problem as it is in this world described in The Bluest eye. \n",
      "The characters all deal with this in different ways. Some are more confident about their identity than others are. Some are weak and dreaming, like Pecola. Some deny their real identity by pretending to be different, like Geraldine. As individuals we deal with ourselves in different ways. Pecola is a moving character. She is weak and dreaming. I remember myself being nine years old wishing for a good fairy to come and transform me into someone else just by swinging her magic wand. I wished so hard that I actually believed it could happen, at least for a while I did. Pecola asks God for blue eyes in her prayers. If only she had beautiful blue eyes things would be different, better. \"Thrown in this way, into the binding conviction that only a miracle could relieve her, she would never know her own beauty. She would see only what there was to see; the eyes of other people\" (page 35). Pecola lives under terrible conditions. No signs of affections from her parents, if you don't count the abuse her father performs as affection. Her parents are fighting a lot and other children treat her bad. She is ugly. She is lonely left to her dreams about a better self. The eyes become her symbols for that. It becomes a kind of obsession and she leaves the reality behind at the end and she is finally happy in a way. If the community, all involved, had taken better care of her, given her respect and support. If the community had not turned its back on her maybe things would have ended differently.\n",
      "Geraldine has the materialistic possibilities to pretend. She is in total control of herself and her appearance. She is one of those girls/women who \"hold their behinds in for fear of a sway too free, when they wear lipstick, they never cover the entire mouth for fear of lips to thick and they worry, worry, worry about the edges of their hair\" (page 64). She wants her son Junior to play with white children only and raises him to be of the opinion that there is a difference between \"coloured people and niggers\".\" Coloured people were neat and quiet; niggers were dirty and loud\" (page67). Geraldine keeps a distance between the black community and herself. Her behaviour causes long-term effects on the community since she raises her offspring to be just like her and Junior will probably do the same to his children. In this way people like her will shatter the community by not wanting to be a member of it, which she is. It's like racism within the race, between \"coloured people and niggers\".\n",
      " \"The blame\" is not only the single individuals. The community has of course a part in the problem. This seems to be a tight community. I come from a small town myself so I know what that is like. But there seem to be a general frustration and insecurity in this community. I have not found one character in this text that is very secure in their identity. These people are the ones forming this community. \n",
      "Shirley Temple appears to be the ideal at the time, the beginning of the1940s. The white world's ideal. Pecola adores Shirley Temple. Claudia does not adore her. She hates her. Shirley Temple is to Claudia a symbol for an ideal that she because of her race not can live up to. Maybe she is that to Pecola too but when Pecola adores Claudia hates. Consider the episode with the baby-doll she got for Christmas (page13-15).\" I destroyed white baby-dolls. [...] The truly horrifying thing was the transference of the same impulses to little white girls\". Pecola would have loved a little white baby-doll. The influence of the big white community on the small black community causes the same kind of tension as between the individual and the community.\n",
      "\"The tension between the racial self and the racial community\" in The Bluest Eye is explored through the many characters, individually and as a community. The interplay between them, their thoughts and dreams and their different reactions to things, like the ideal of Shirley Temple for instance. Their personalities. It seems to me as if you deny yourself and what you are like Geraldine does and if you are caught in between, if you are weak, like Pecola, you are in real trouble. A community can be tough and really difficult to fit in to no matter if it is small or big, black or white or any other kind. Or to use Claudia's words describing her own community at the very end of the book \"This soil is bad for certain kinds of flowers. Certain seeds it will not nurture, certain fruit it will not bear, and when the land kills of its own volition, we acquiesce and say the victim had no right to live\" (page 164). \n",
      "\n",
      "References: \t\n",
      "The Bluest Eye by Toni Morrison. 1970\n",
      "A living memory: A meeting with Toni Morrison by Paul Gilroy. 1993\n",
      "\n",
      "\n",
      " Lily - a woman dependent upon men and society \n",
      "Nancy Walker claims that Edna in The Awakening \" is controlled by her own emotions, not by men or society\" (256) The character Lily in the novel The House of Mirth is almost the complete opposite of Edna. She is calculating and knows what she is doing, but at the same time she is dependent upon, and thereby controlled by, society and men. She knows what is expected of her and behaves according to that, using her eloquence and beauty to get what she wants, that is wealth and admiration. Lily is controlled by men and society for the following reasons: To begin with, Lily's upbringing has taught her to hate dinginess and crave wealth and also how to get what she wants, which are the features that will pave way for dependency. Secondly, since she has no fortune of her own she needs to ensnare a man whom she can marry in order to keep up her luxurious lifestyle, which will make her dependent upon, and thereby controlled by them. Thirdly, Lily is dependent upon society since it means everything to her. She needs the admiration of men and women in her presence in order to feel that she is someone.\n",
      "\tTo begin with, Lily is brought up in a world of luxury with a mother who hates dinginess and lives as if she is richer than she really is. She has \"been brought up in the faith that, whatever it cost, one must have a good cook, and be what Mrs. Bart called 'decently dressed'\" (Wharton 1993: 30). Lily needs expensive dresses and hats so she can show her beauty in society. She has the same opinion as her mother about keeping up appearances and applies this way of thinking for example to her choice of hotel where to stay for the winter period: \"The hotel being on the edge of a fashionable neighbourhood, the price of the few square feet she was to occupy was considerably in excess of her means; but she found a justification for her dislike of poorer quarters in the argument that, at this particular juncture, it was of the utmost importance to keep up a show of prosperity.\" (Wharton 1993: p 246) When comparing Edna and Lily, they have been raised in almost the same way, but Edna, according to Nancy Walker \"is denying what she has been raised to believe\" (Walker: p 253). Lily does the opposite, she imbibes what her mother teaches her and makes those values into her own, Gerty once commented on her need of luxury in a conversation with Selden: \"You know how dependent she has always been on ease and luxury -how she has hated what was shabby and ugly and uncomfortable. She can't help it-she was brought up with those ideas, and has never been able to find her way out of them.\" (Wharton 1993: 270-271) Lily's upbringing does not only give her a taste for refinement and wealth and make her scared of poverty and dinginess, but it also teaches her how to use her skills to get what she wants from men. Her mother has for example taught her how to charm her father: \"She leaned confidently toward her father: he seldom refused her anything, and Mrs Bart had taught her to plead with him when her own entreatises failed.\" (Wharton 1993: 32) So, a craving for money and luxury is established already in Lily's childhood and is also nurtured through her life with rich people. As a child she also learns from her mother how she is to get what she wants, that is, by manipulating and snaring men. Through this lifestyle a 19th century woman will, if she doesn't inherit money, become dependent upon men and also the society which demands refinement and wealth.\n",
      "\tSecondly, since Lily prefers a costly lifestyle she knows that she is dependent upon men in order to support herself, that is, she needs to marry a wealthy man. The fact that Lily is very calculative when she considers the persons whose wealth she might marry, shows how dependent she is of them. For example, when she sets her mind on ensnaring Mr Percy Gryce she advances very systematically. Lily knows that Mr Gryce's main interest is his Americana, she uses Selden to regain more knowledge of them and then she pretends to bump into Mr Gryce on the train and listens to his boring talk. She follows up this initial encounter at Bellomont and this is where we learn what she thinks of him and also how women of her class and time were thinking: \"She had been bored all the afternoon by Percy Gryce - the mere thought seemed to waken an echo of his droning voice - but she couldn't ignore him on the morrow, she must follow up her success, must submit to more boredom, must be ready with fresh compliances and adaptabilities, and all on the bare chance that he might ultimately decide to do her the honour of boring her for life\" (Wharton 1993: 25) Lily never considers marrying out of love, since only love cannot provide her with the necessary means to keep up her lifestyle. She is probably in love with Selden, but her emotions for him does not make her give up every thought of a rich husband. A few times her emotions have hindered her from reaching her goals, the best example is perhaps when Lily first talks with Selden and then takes a walk with him, instead of Mr Gryce, as she had promised to. Perhaps she throws away her chance to a rich marriage due to her interest in Selden and she comments upon it herself: \"While her friend reproached her for missing the opportunity to eclipse her rivals, she was once more battling with imagination with the mounting tide of indebtedness from which she had so nearly escaped. What wind of folly had driven her out again on those dark seas?\" (Wharton 1993: 77) That wind of folly was perhaps love, but she is far to calculative and understanding of her situation to follow her emotions. Instead she starts to think of new ways to escape poverty, namely by letting Mr Gus Trenor invest money for her. She cannot do this herself, both because she isn't familiar with financial matters and because women were not permitted to hhave an active part in business life, so she has to let a man do it for her. Lily is now forced to be nice and kind to a man who she does not like at all, but she is willing to do it because her desire for money is stronger than her reluctance for him, as is shown on page 85: \"Even the immediate one [demand that life makes] of letting Trenor, as they drove homeward, lean a little nearer and rest his hand reassuringly on hers, cost her only a momentary shiver of reluctance.\" And in this moment, she is still calculating, as is shown a few lines further down: \"It was part of the game to make him feel that her appeal had been an uncalculated impulse, provoked by the liking he inspired [...]\" (Wharton 1993: 85) So, once more she has set her emotions aside and adapted to the situation, allowing herself to be controlled by a man in order to gain wealth. She behaves in the way that is expected of her, putting her own emotions aside and adapting to a new situation, but at the same time she is somewhat in controll, since all the things she does serves her own purposes.\n",
      "\tThirdly, Lily is dependent upon society since it means everything to her. The key into that circle in society where she wants to belong iss beauty. Since she has this feature \"these people whom she had ridiculed and yet envied were glad to make a place for her in the charmed circle about which all her desires revolved. They were not as brutal and self-engrossed as she had fancied- or rather, since it would no longer be necessary to flatter and humour them, that side of their nature became less conspicuous. (Wharton 1993: 50) Lily changes her mind about the persons in the rich world when she becomes a part of that world herself. This can also be seen a little further down on the same page: \"They were lords of the only world she cared for, and they were ready to join her to their ranks and let her lord it with them. Already she felt within her a stealing allegiance to their standards, an acceptance of their limitations, a disbelief in the things they did not believe in, a contemptuous pity for the people who were not able to live as they lived\" (Wharton 1993: 50) She adapts once more and behaves as a woman is supposed to behave. By letting this society become her life she becomes dependent upon them, because without them she has no life. Lily also yearns for the admiration of men and women in her presence in order to feel that she is someone. She knows that a women in her position will be judged by her beauty, and since she knows that she is very attractive she craves for admiration from everybody. Lily \"cared less for the quality of the admiration received than for its quantity\" (Wharton 1993: 136) She wants to be the centre of her world, which can be seen on page 60: \"All her plans for the day had been built on the assumption that it was to see her [italics mine] that Selden had come to Bellomont.\" An example that shows how dependent Lily is of society is her behaviour when she has been excluded from it and strives to regain her lost place among those she knows how to interact with. Lily cannot start a new life since her upbringing has taught her to crave wealth and hate dinginess, and she cannot live without the admiring looks from those \"that matter\" in society. The only way of life that fulfils and where she knows how to act is the one that she is no longer part of. In an attempt to recover her lost position in society she wants to marry Mr Rosedale, but finds that he is no longer interested of marrying her, since she no longer has a role in the society he wishes to be part of. Lily finds that she cannot go back to her old lifestyle in any way, so she ends her life, consciously or not, in a suitable, lady-like way, by committing suicide when the problems grew to heavy for hear to bear. This shows very clearly how dependent she is upon society, since she can not go on living and not being a part of the rich society. \n",
      "\tIn conclusion, Lily's upbringing is what has caused her appetite for wealth and fame - she has learned to hate dinginess and strive for money and a polished lifestyle. She has been provided with the right tool to succeed in the society she wants to be a part of, namely her beauty and she is well aware of how people in her presence are affected by it and she uses it in a very calculative manner in order to try to get what she wants, that is money and admiration. This hollow life has made her dependent upon society as a mean by which she can define herself and she has also become dependent upon men, since the only way for her to gain wealth is by marrying a rich man. Lily does not consider marrying for love, marriage seems to be only a tool to obtain wealth, a tool to serve her purposes. She can put up with being bored the rest of her life if she has enough glamour and money. Lily's dependence of society can also be seen in her behaviour when she has been excluded from it- as an outcast she does not know how to live, and instead of trying to cope with her new life she tries to regain her lost place in society. Her values are those of a 19th century woman, her behaviour in order to achieve her goals are so too and she adapts in order to fit into the society everyone longs to be a part of. The bottom line is that Lily craves for wealth, she also needs money to be able to cling to society and in order to get that she considers marrying for money - the only way she knows to get wealthy. Lily is indeed a woman of her time.\n",
      "\n",
      "Walker, Nancy: Feminist or Naturalist? In: The Awakening by Chopin, Kate,1994: 2nd ed. \t\tW.W. Norton & Company Inc.\n",
      "Wharton, Edith, 1993:The House of Mirth Penguin Books Ltd\n",
      "\n",
      "\n",
      " \"Miss Celie's Song\" \n",
      "In an article, The Only Reason You Want to Go to Heaven Is that You Have Been Driven Out of Your Mind (Accessed June 19, 2000. ), Alice Walker discusses among other things how her parents and grandparents, in the nineteenth and the beginning of twentieth century's United States, were forced to believe in white people's God, and to give up their \"belief in their own judgement and faith in themselves\". (Alice Walker, The Only Reason You Want to Go to Heaven...) We can see a certain manipulation to go on in Walker's novel The Color Purple, too. In different ways Celie, the principal character of the novel, is manipulated to believe herself being ugly, stupid and useless -not a human being at all. I will now discuss causes for the absence of Celie's belief in herself, and how she is, after all, still able to build up her non-existent self-confidence and gain self-respect as well as the respect of the others.\n",
      "The foundations of Celie being quite easily manipulated lie in the values of society in which she is brought up. The story takes place in the American South in the first half of the twentieth century. According to the ruling values of society, Celie is raised to believe in \"big and old and tall and graybearded and white\" (201) God who had made white people superior to black people. \"...that's the [God] that's in the white folks' white bible. (...) You mad cause he don't seem to listen to your prayers. (...) I know white people never listen to colored, period. If they do they only listen long enough to be able to tell you what to do.\" (201-202) According to the white people's bible men should also rule over women. \"Unto the Woman God said: I will greatly multiply thy sorrow and thy conception; in sorrow thou shalt bring forth children; and thy desire shall be to thy husband, and he shall rule over thee. Genesis 3:16\" (Alice Walker, The Only Reason You Want to Go to Heaven...) Brought up in society that believes in men's superiority, Celie, trusting in her white God, accepts her fate as a part of God's big plan without questioning but being obedient to men of God. \"Never mind, never mind, long as I can spell G-o-d I got somebody along.\" (18)\n",
      "In Celie's life the ideas and values of society are embodied in two men especially, her Pa and her husband, both who brutally abuse her and totally trample her underfoot. By raping Celie, and getting her pregnant when she is only fourteen, her Pa, who then turns out to be a stepfather, robs her body, her innocence and her self-respect. \"He never had a kine word to say to me. Just say You gonna do what your mammy wouldn't. (...) When that hurt, I cry. He start to choke me saying You better shut up and git used to it.\" (2) After Pa selfishly spoils Celie's young body and mind, he makes clear that he can't stand her anymore. \"Pa say I'm evil an always up to no good.\" (4) He also convinces Celie that she is stupid and totally worthless by taking her out of school. \"You too dumb to keep going to school, Pa say.\" (11) Celie seems to lose all her rights as a human being. Emphasising her only being an object for others to use, Pa marries Celie to Mr.___, acting more as if he was selling cattle than giving away his daughter. \"She ugly. (...) But she ain't no stranger to hard work. And she clean. And God done fixed her. You can do everything just like you want to and she ain't gonna make you feed it or clothe it.\" (9) Pa also covers up for himself by warning Mr.___ that Celie is a kind of person that lies. (9)\n",
      "Mr.___, not being able to marry the woman that he loves but still desperately needing someone to take care of his children, finally content himself with Celie, although not literally. For Celie the marriage doesn't change anything. She just moves from one hell to another. Mr.___ abuses her sexually, punishes her for being a woman, being his wife but not the woman that he loves. He makes sure that Celie knows \"who got the upper hand\" (37), and that she is absolutely worth nothing. \"Who you think you is? he say. (...) Look at you. You black, you pure , you ugly, you a woman. Goddam, he say, you nothing at all.\" (213) Convinced by both her Pa and her husband, the two men of God, Celie seem to have no reason whatever to have any belief in or respect for herself.\n",
      "More or less brainwashed to think low about herself, Celie doesn't question her situation until she meets two very strong women, Sofia and Shug Avery, who both refuse to be trampled on by men. Mr.___'s son Harpo to Celie: \"I want her to do what I say, like you do for [Mr.___]. (...) But not Sofia [Harpo's wife]. She do what she want, don't pay me no mind at all. I try to beat her, she black my eyes.\" (66) Celie is jealous of Sofia who can do what she cannot -to fight. (42) Celie hardly knows how to get mad. \"All [she] know[s] how to do is stay alive.\" (18)\n",
      "The crucial factor for Celie becoming able to change her view of herself is her relationship with Shug Avery, the woman that Mr.___ loves -his lover. Shug Avery doesn't only exemplify a strong woman who holds her own, but she is the only person, along with Celie's sister Nettie, who Celie loves and who loves her back unconditionally, and stands for her no matter what.\n",
      "...Shug spoke right up for you Celie, [Mr.___] say. She say Albert, you been mistreating somebody I love. So as far as you concern, I'm gone. I couldn't believe it, he say. (...) I tried to tease her. You don't love old dumb Celie, I said. She ugly and skinny and can't hold a candle to you. She can't even screw. (277) But [Shug] meant what she said. (277)\n",
      "\n",
      "Shug is the person who patiently teaches Celie about the secrets of her body, to accept and even like her body -to enjoy being a woman. \"She say , Here, take this mirror and go look at yourself down there,... What, (...) scared to look at your own pussy. You come with me while I look, I say. (...) It a lot prettier than you thought, ain't it? She say... It mine, I say. \" (82)\n",
      "Influenced by Shug, and all the things Celie goes through, she begins to question the white God who she, until then, has had a strong belief and trust in. \"I don't write to God no more, I write to [Nettie]. What happen to God? Ask Shug. Who that? I say (...) the God I been praying and writing to is a man. And act just like all the other mens I know. Trifling, forgitful and lowdown.\" (199) Celie's disbelief in God also makes her question the great injustice she has suffered from. \n",
      "Celie's situation climaxes when she, thanks to Shug Avery, gets to know that Mr.___ has hidden all Nettie's letters, that he during so many years kept her dear sister away from her. Finally Celie is able to feel pure anger and to give vent to that powerful feeling. \"All day long I act just like Sophia. I stutter. I mutter to myself. I stumble bout the house crazy for Mr.___ blood. In my mind, he falling dead every which a way.\" (125) Because of her new-found belief in herself, and her arising faith in God as everything -\"Everything that is or ever was or ever will be.\" (202-203), Celie is finally able to free herself totally from the control of men, and instead hold her own. \"I'm pore, I'm black, I may be ugly and can't cook, a voice say to everything listening. But I'm here.\" (214)\n",
      " \t\"Dear God. Dear stars, dear trees, dear sky, dear peoples. Dear Everything. Dear God.\" (292) There has always been greed, power-seeking people or groups of people who regard their political, religious, social, and other ideas and values as the best possible, and therefore want to influence and manipulate other people, stopping at nothing. The ruling ideas and values of society then often make the manipulation and the downright abuse possible and silently accepted by majority as a part of reality, as Celie in The Color Purple. \"There is so much we don't understand. And so much unhappiness comes because of that.\" (198) But as Celie says: \"...we all have to start somewhere if us want to do better, and our own self is what us have to hand.\" (278) And I say, amen. \n",
      "\n",
      "Literature\n",
      "Alice Walker, The Color Purple (1982)\n",
      "Walker, Alice. \"The Only Reason You Want to Go to Heaven Is that You Have Been Driven Out of Your Mind.\" Accessed June 19, 2000. \n",
      "\n",
      "\n",
      " CELIE FINDS HER WAY BACK TO SANITY \n",
      "In this essay I am going to discuss how Celie, the main character in Alice Walker's novel The Color Purple, is taken away her self-confidence. I am also going to discuss how she is able to regain it, making her an individual with full human rights. I see this regaining process as the most important part of the novel and I will emphasize it in my essay. I am going to analyze her regaining process out of four points; getting role models, getting control of her own body, being able to show feelings and finally solve the dilemma with her God and men in general. All these problems originate from her childhood. \n",
      "\t In her article Alice Walker emphasizes the importance of people being able to make their own decisions. She also feels sorry for her parents and everybody else who were talked out of their minds. This is what happens to Celie in Walker's novel The Color Purple and I think my quotation from Walker's article describes very well the society Celie lives in, this because one of the main things in making Celie inferior to everybody else is the power men have over women:\n",
      "\tUnto the woman God said: I will greatly multiply thy sorrow and thy \n",
      "\tconception; in sorrow thou shalt bring forth children; and thy desire shall\n",
      "\tbe to your husband, and he shall rule over thee.i\n",
      "\n",
      "And certainly it is men who decide what Celie is and what she is allowed to do. She is sexually abused(by her step pa), step pa has control of her body. Her step father tells her that \"You too dumb to keep going to school, Pa says\"ii and so she misses a possibility of real education, not to mention that he makes it clear that she is not smart. Her step father decides what to do with Celie's children, once more an example of how she has no control of her life. More examples of how Celie is shown her place are her father's comments on how \"She ugly\"iii and \"She tell lies\"iv. Definitely not something that gives one self-confidence. So far my examples have concerned how her father mistreated her but I want to emphasize that her father is not in any way an exception in this society when it comes to showing Celie her place. Celie's husband, Mr. _____ shows his attitude towards Celie very clearly when he answers to his son Harpo, who asks why does he beat Celie. Mr. _____ says \"\"Cause she my wife\". I think it is the men surrounding Celie who talk her out of her mind and as my quotation from Walker's article shows that men's behavior is justified by the Bible, and accepted by the surrounding society. But Celie manages gradually to regain her self-confidence. \n",
      "\t There are several strong women in The Color Purple who help Celie to regain her self-confidence. I think the most important of them is Shug Avery. She talks and acts like a man as Celie notices on page 85. I think it is extremly important that Celie gets into contact with women who are strong, e.g. Shug who acts like a man and Sofia who fights against her husband. I think seeing Shug and Sophia gives Celie inspiration, new role models, something Celie never had because her mother died so early. I think Celie realizes that there is a place for her as an individual, she counts as Celie, not just as a woman. I think she understands that one does not have to live as she does, she has now seen different kind of female behavior. She starts becoming more independent. Shug is inspired by Celie and dedicates a song to her, a thing that I think affects Celie greatly since it is \"the first time somebody made something and named it after me\". This is an example how Celie's is noted more and more. It takes more than strong female models to heal Celie, she has to fight against her worst enemies, those inside of her. The first problem of this kind is her sexual freedom.\n",
      "\t I think sexual \"healing\" has a very important role in Celie's recovery and here too, Shug has an important role. \"You make it sound like he going to the toilet on you. That what I feel like\"v is the description Celie gives of her sex life . Mr.____ has control of Celie, just like like when her step father was raping her. Celie is longing for somebody to say I love you Celie, somebody who is not just fucking her. I think Mr. ____ is fucking an object not a human being. Shug helps Celie to found her \"button\" and convinces Celie that sex can be something enjoyable, and I think Celie is convinced when she has sex with Shug because she says in a state of enjoyment that \"I act like a little lost baby too.\"vi I think that Celie's sexual discoveries with her own body are an important phase in getting control of her own body. This because she has been sexually abused when she was young and her marital sex was close to rapes. Men have always been the ones controlling Celie's body. Again I think Celie makes progress because she realizes that she has right to enjoy her body too, not just to be used by others. \n",
      "\t I think the most important event in the book is the moment when Celie founds out that Mr.____ has kept Nettie's letters from her. For the first time in her life Celie gets really angry and feels like killing her husband. Again Shug helps her, directing her anger to something productive, Celie starts making pants, she has \"A needle and not a razor in my hand\"vii. I think the fact that she gets angry illustrates how she now knows that she has a right to love anyone she wants to and she is ready to do anything for that right. I think she is ready to effect her own life now. This is something she has not expressed before. She has been the good servant who does what ever men want. Now she even starts making pants which will give her self-confidence, she knows how to do something and she is doing this for herself, not to somebody else. Celie's last obstacle is God and the \"mankind\". \n",
      "\t The bible and God are the last obstacles, winning these is also the last step from men's control. Celie is rebelling because she feels God is like a man:\n",
      "\tAhyhow, I say, the God I been praying and writing to \n",
      "\tis a man. And acts like all the other mens I know. Trifling,\n",
      "\tforgitful and lowdownviii\n",
      "\n",
      "All her life Celie has tried to please God/men and Shug says she does not have to do that because \"if God love me, Celie, I do not have to do all that.\"ix God is a personal experience and he likes us as we are. Realizing how she is believing in something artificial, made up by white people, I think she also realizes how artificial men's control of women is:\n",
      "\n",
      "\tTrying to chase that old white man out of my head. I been so \n",
      "\tbusy thinking bout him I never really notice nothing God\n",
      "\tmake. ..[...] Now that my eyes opening, I feels like a fool. Next to \n",
      " any little scrub of a bush in my yard, Mr. ____'s evil sort of shrink.\n",
      " But not altogether. Still, it is like Shug say, You have to git man off\n",
      " your eyeball, before you can see anything a'tall.x \n",
      "\t \n",
      "Therefore I think Celie's realization of these things makes it easier for her to leave Mr._____ and start a life of her own. \n",
      "\t It is a long process to recover from childhood memories, but as Celie shows it is possible to make, although it takes a long time. She manages to do it with a help of her friends, but also because she starts to question things she used to take for granted. Celie is a good example for anyone who has been mistreated, one has to win one's inside enemies. \n",
      "\n",
      "Literature\n",
      "Alice Walker, The Color Purple. U.SA. 1985\n",
      "\n",
      "Walker Alice \"The Only Reason You Want to Go to Heaven Is that You Have Been Driven Out of Your Mind.\" Accessed June 19, 2000. \n",
      "\n",
      "Notes\n",
      " i Walker Alice \"The Only Reason You Want to Go to Heaven Is that You Have Been Driven Out of Your Mind.\" Accessed June 19, 2000.  \n",
      " ii page 11 Alice Walker The Color Purple\n",
      " iii page 9 Alice Walker The Color Purple\n",
      " iv page 9 Alice Walker The Color Purple\n",
      " v page 81 Alice Walker The Color Purple\n",
      " vi page 118 Alice Walker The Color Purple\n",
      " vii page 153 Alice Walker The Color Purple\n",
      " viii page 199 Alice Walker The Color Purple\n",
      " ix page 200 Alice Walker The Color Purple\n",
      " x page 204 Alice Walker The Color Purple\n",
      "\n",
      "\n",
      " Little Women By Louisa M. Alcott \n",
      "An ideal female world without any unsolvable problems. This is the setting of Louisa M. Alcott's novel Little Women. The novel presents a romantic picture of a tranquil home where the family members love and care for each other more than anything in the world. With the father absent t is the mother who stands as the head of the family, a woman who represents the perfect woman. Mrs. March raises her four daughters to become happy and morally good women. Teaching them the right values and manners of a woman we follow the sisters development in life and turning into truly little women.\n",
      "\n",
      "The four sisters grow up in an almost only female surrounding \"She [Jo] liked the \"Laurence boy\" better than ever and took several good looks at him, so that she might describe him to the girls, for they had no brothers, very few male cousins, and boys were almost unknown creatures to them\" (p. 28). In this male lacking environment Mrs. March plays an enormously big role even though she is not as much present in the novel as her daughters are. She seems only to appear in the novel when the children need help or when there are any problems or uncertainties. Exaggerating a little bit, one could say that she is the \"source of truth\". She has all the right answers to life's problems and the key to how a woman should behave in these days. Her daughters turn to this fountain of wisdom to learn how to behave to become better women. The girls admire their mother very much and idolize her, a mothers word is the truth they seem to believe. How the children look upon their mother is well described in Amy's thoughts when she looks at the picture of the Virgin Mary and comparing it to her own mother \"...and Amy's beauty-loving eyes were never tired of looking at the sweet face of the divine mother, while tender thoughts of her own were busy at her heart\" (p. 179). Mrs. March, who represents the ideal female figure of this time with a good morals, a happy life with a wonderful husband, though he is absent at the moment, four beautiful daughters, she knows what a woman should be like to be happy and lead a good life. She tries to teach good values to her children so that they will live up to her dreams about them one day becoming good persons \"I want my daughter's to be beautiful, accomplished, and good; to be admired, loved, and respected; to have a happy youth, to be well and wisely married, and to lead useful, pleasant lives, with as little care and sorrow to try them as God sees fit to send...I'd rather see you poor men's wives, if you were happy, beloved, contented, than queens on thrones, without self-respect and peace\" (p. 92). In this speech she mentions money, which she tries to teach her children is not the most important thing in the world. The girls often complains about how poor they are and how many nice things their friends have and they do not, at those times the mother steps in preaching about how much richer they are who are so much loved by each other and their family, and that money does not automatically mean happiness \"Money is a needful and precious thing-and, when well used a noble thing-but I never want you to think it is the first or only prize to strive for\" (p. 92).\n",
      "\n",
      "The four girls in the novel Little Women are four very different characters. They each represent one kind of a typical woman figure during this time in history. Women were supposed to like art, music and sewing, and these sisters are not any exceptions. They spend their time painting, writing reading, playing the piano or sitting together sewing.\n",
      "\n",
      "Meg represents the beautiful and romantic woman who wants to be a person like her mother. She likes dressing up in beautiful gowns and being appreciated for her beauty \"But it is nice to be praised and admired, and I can't help saying I like it\" said Meg...\" (p. 91). Her younger sister Beth is the girl who spends her time taking care of everybody else, humans, animals or dolls, it does not make any difference for her. She is also the sister who enjoys music, and she loves to play the piano and sing. Amy has also got typical interest for girls of that time, she is the one who loves art and paints a lot. While three of the sisters are very girlish and behaving in a womanly way, the fourth one Josephine has other things on her mind.\n",
      "\n",
      "Josephine is the sister who rebels against this typical woman figure who enjoys a tranquil life filled with beauty. Although she also sews and writes a lot she has troubles in growing up to a women and sometimes wishes that she was a boy \"If I was a boy, we'd run away together, and have a capital time; but as I'm a miserable girl, I must be proper and stop at home\" (p. 196). She sees herself as the male person in the house now when their father is away \"I'm the man of the family now Papa is away...\" (p. 6). One specific thing she does to rebel against the female ideal picture is to \"change\" her name to Jo, which is a little more boyish \"I hate my name, too-so sentimental! I wish every one would say Jo instead of Josephine\" (p. 27). She sometimes uses a language that is not appropriate for a girl and the picture painted up her mother of the ideal woman with beautiful dresses and being modest does not appeal to Jo. She does not bother much about what other people say about her or what to wear, like other girls were thinking of at that time \"I hate to think I've got to grow up, and be Miss March, and wear long gowns, and look as prim as a China aster! It's bad enough to be a girl, anyway, when I like boys' games and work and manners! I can't get over my disappointment in not being a boy...\" (p. 5). \n",
      "\n",
      "One of the most important things they learn from their mother is that one should always take care of one another. The girls follow this advice very carefully. Meg and Jo are both working with taking care of other people, little Beth nurses her poor doll in a very touching way, and the way the take care of each other is remarkable. It really shows how strong their love is for each other and how important the family is \"We can't give up our girls for a dozen fortunes. Rich or poor, we will keep together and be happy in one another\" (p. 36). The four sisters hang on to each other at all times. They sew together, have secret clubs and they play together, they cry together. How close they are to each other is obvious in Jo's jealousy towards Mr. Brooke and his plans of marrying Meg \"I just wish I could marry Meg myself, and keep her safe in the family\" (p. 187).\n",
      "\n",
      "To listen and learn from one's mother seemed to be important during that time. Mrs. March learned many things from her mother, and now she is passing her knowledge along to her own children \"\"My good mother used to help me-\" \"As you do us-\" interrupted Jo, with a grateful kiss\" (p. 76). The things the girls do and the things they say are all a result of their mother's teachings. Mrs. Marches motherly feeling towards her two oldest children makes them take on the role as a mother to their younger sisters \"The two older girls were a great deal to one another, but each took on of the younger into her keeping and watched over her in her own way-\"playing mother\" they called it-and put their sisters in the places of discarded dolls with the maternal instinct of little women\" (p. 39). \n",
      "\n",
      "The world the girls live in is a very secure place for them. It consists of only female characters with the right values. They rely on their mother and each other for love and protection. The mother is so important to the four girls that they have her on equal level with God \"...all day Jo and Meg hovered over her [Beth], watching, waiting, hoping, and trusting in God and Mother\" (p. 174). When Beth is sick for a long period of time and the other girls believes that the end is near for her, they learn that their mother is on her way home, and everything changes. As a God or a supernatural being, she returns to her depressed daughters making everything well again \"A breath of fresh air seemed to blow through the house, and something better than sunshine brightened the quiet rooms. Everything appeared to feel the hopeful change...the fires seemed to burn with unusual cheeriness; and every time the girls met, their pale faces broke into smiles as they hugged one another, whispering encouragingly, \"Mother's coming, dear! Mother's coming!\"\" (p. 173). \n",
      " \n",
      "It is truly an idealistic world the four sisters are living in, where the mother is the protector and preacher, teaching her children to become good persons. Important values she teaches her daughters concern love, caring and happiness. Any obstacles that come along their journey through life they can overcome together as a family. This family March represents the perfect family, even though they live without their father for a long time, and the typical female characters of this period in history. Their time is devoted to sewing, music, art, literature and learning morals and good values \"...the amount of virtue in the old house would have supplied the neighborhood\" (p. 162).\n",
      "\n",
      "\n",
      " Lily Bart- Destroyed by Society \n",
      "Lily Bart is a woman whose primary goals in life are marriage and money. She has reached the age of 29 and can no longer afford to be choosy, she has to marry for money and not for love. In this essay I will discuss the reasons behind her goals and I will also look at why she fails to reach them. \n",
      "\tIf we want to find explanations of Lily's behaviour we can start by looking at the setting. The House of Mirth is set in and around New York at the beginning of the 20th century and Lily is in many ways a product of this milieu. This was a time when money and prestige were very important features and when a woman's role was to be her husband's most precious jewel. Lily has been brought up as an upper-class girl but when she is nineteen her family goes bankrupt and soon after she looses both her parents. The fact that she has no money of her own and therefore has to depend on allowances from her aunt does not change her way of life, but it does change her prerequisites. In order to continue to be a part of the upper-class society she has to marry for money. Her upbringing makes it impossible for her to change her habits and live simpler than she is used to, her mother has thought her that there is something heroic in living as though you are richer than you actually are. Lily's worst fear is to be forced to \"live like a pig\" (p 30) and she would rather marry someone that she does not love than to submit to the fate of the poor: \n",
      "\n",
      "She had been bored all the afternoon by Percy Gryce-the mere thought seemed to waken an echo of his droning voice-but she could not ignore him on the morrow, she had to follow up her success, must submit to more boredom,...and all on bare chance that he might ultimately decide to do her the honour of boring her for life.\n",
      "\tIt was a hateful fate-but how escape from it? What choice had she? To be herself or a Gerty Farish.... No; she was not made for mean and shabby surroundings,...Her whole being dilated in an atmosphere of luxury; it was the background she required, the only climate she could breathe in.\n",
      "\n",
      "\t\n",
      "Lily spends her time amongst upper class people and sees them as an image of what she will become once she is married. In their society it is important to have money and to show that you are rich through your clothes and your jewellery. At first Lily longs to be as them but after a while she sees them with new eyes: \"they had symbolized what she was gaining, now they stood for what she was giving up\" (p 53). Although Lily sometimes feels that she would be better of somewhere else, perhaps in a life with Selden, she is incapable of breaking free, incapable of a life without the luxuries she is used to. She cannot escape the life she has been created for. She has no training to survive in another form of existence:\n",
      "\t\n",
      "Inherited tendencies had combined with early training to make her the highly specialized product she was: an organism as helpless out of its narrow range as a sea-anemone torn from the rock. She had been fashioned to adorn and delight; to what other end does nature round the rose-leaf and paint the hummingbird's breast. (p 301)\n",
      "\t\n",
      "\tHowever, sometimes Lily is carried away by her emotions and when she does it upsets her plans. At one instance her emotions lead her to take a walk with Selden instead of going to church with Percy Gryce, and during this walk Selden presents a different kind of life to her, a life with him, with independence instead of money. However, Lily is way to conscious and planning to let her emotions carry her away to such lengths, she still intends to marry Mr Gryce although she has more feelings for Selden. However, this incident makes Mr Gryce change his mind about Lily. She has unconsciously destroyed her chances of marriage. Lily is tempted by the thought of a life with Selden at several occasions but always realises that \"in the world as it was, such a privilege was likely to cost more than it was worth\" (p 88). Lily's problem is that she is neither controlled by her emotions nor able to completely resist them. She lets herself be carried away by them at the worst possible times and this has more than once destroyed her chances of marriage. Maybe she does this because, as Mrs Fisher suggests, \"at heart, she despises the things she's trying for.\" This is an interesting and possible thought. Deep inside Lily wants something else but she does not have the strength to consciously break free so she does it unconsciously, hoping that something better will present itself to her. \n",
      "\t Selden, who represents this other kind of life, works to trigger her emotions and to make her see the society she keeps in another light. He works as a contrast to Percy Gryce and as a window out of her secluded circle. The things that Selden says have a great impact on Lily, but not because she loves him or because of the fact that he is a man but because he strikes a nerve in her. Lily is the kind of woman that makes her own decisions; she is not controlled by men and has never had any strong male role models. Her father was very suppressed by her mother, in fact all the married men in The House of Mirth seem to be more or less ruled by their wives. In my view, Lily sees men as something necessary, a provider of money and status, but nothing more. The only man that has control over her is Gus Trenor during the period when she owes him money otherwise the men rather seem to be under her control. However, she lives in a world ruled by men, where women should be beautiful and decorative and this affects everything she is. She has been brought up to please men in order to get married because there is no other solution to live respectably. Furthermore, the fact that she cannot speculate with her own money makes her loose control over her debt to Mr Trenor.\n",
      "\tIn my opinion Lily is a woman that controls her own life. She is very conscious of what she does and what she wants; everything she does is part of a bigger plan. However, she is what she is because of her upbringing, the time in which she lives and the society which she is part of. She has been taught that money and beauty are the most important things in life and that her role in life is to be ornamental. The problem is that she, somewhere deep inside, longs for something else, another kind of life. When she looses her self-control and lets her emotions carry her away, even if only for a moment, she unconsciously upset her own plans. She does it when she takes the walk with Selden, that I have mentioned earlier and when she borrows money from Mr Trenor that is also a decision made on an impulse. It is those impulsive emotion based decisions that make her fail in reaching her goals and finally destroys her but above all she is a victim of the corrupted society which she is part of.\n",
      "\n",
      "\n",
      " Little Women \n",
      "Little Women can be said to represent one of the Victorian novels. Therefore it would be interesting to take a closer look at what kind of domestic world the four girls in this novel live in. What was it that formed them to grown-up women? What was it that influenced their little female world? Is there any male influence at all that contributes something to this sororal world?\n",
      "\n",
      "The picture of the perfect Victorian woman is presented to the reader through Mrs March. She is introduced with adjectives such as delightful, elegant, noble-looking, splendid and \"motherly lady with a 'can-I-help-you' look about her\" (p8). It shows us with a picture of a saint, very far from the reality as we know it. The four daughters adore her and they obediently do whatever she tells them to do, always willing to please her. One example of this is Christmas Day when they give their breakfast, though being very hungry, to a poor family when she asks them to(p14). Even when Beth is very sick and the sisters are very sad, their day look brighter when they know that their mother is coming. \"A breath of fresh air seemed to blow through the house, and something better than sunshine brightened the quiet rooms...;and every time the girls met, their pale faces broke into smiles as they hugged one another, whispering encouragingly, 'Mother's coming, dear!'\" (p173) This motherly figure is hope to them.\n",
      "\n",
      "One time Mrs March chooses to teach them a lesson about work. All the girls have been working and are now given permission to do whatever they please for a whole week. The week passes and they find that they are getting restless and touchy. The days seem longer than usual, and more lonely when everybody only does what she wants, which is playing and resting. On top of it all the last day of the week, Mrs March leaves them alone in the house to cope with all the household work. Everything is a mess. Mrs March has taught them a lesson that \"work is wholesome, ...;it keeps us from ennui and mischief, is good for health and spirits, and gives us a sense of power and independence better than money or fashion.\" (p110f) Mrs March wants to teach her children what is morally good, not by preaching but by letting them taste the bitter fruit of immoral living. The result is a lesson they will remember. \n",
      "\n",
      "Their mother also wants them to learn the importance of modesty. Little Amy was not modest when she tried to win friends in school by giving them limes. Mrs March says \"the consciousness of possessing and using it [talent and goodness] well should satisfy one, and the great charm of all power is modesty.\" (p67) Meg is told the same thing when she is longing for admiration and praise for being pretty.\n",
      "\n",
      "In different situations the girls get in contact with their mother's Christian faith. It is often in connection to a difficult situation for one of the children. One of the most serious talks she has is the one with Jo, when she has had a very difficult time in controlling her bad temper. Mrs March testifies; \"My child, the troubles and temptations of your life are beginning and may be many, but you can overcome and outlive them all if you learn to feel the strength and tenderness of your Heavenly Father as you do that of your earthly one.\" (p77) Maybe it is therefore the girls come to their mother to confess their sins. She represents the forgiving God in the flesh. We can later on see how this actually has an affect on their lives. When Beth is sick, Jo prays to God and Amy also turns to Him in times of trial. \n",
      "\n",
      "Yet another important thing that Mrs March wants for her little ones is marriage, but not at any price. Self-respect and happiness is more important than both marriage and money. She says \"I'd rather see you poor men's wives, if you were happy, beloved, contented, than queens on thrones, without self-respect and peace.\" (p92) Later she adds, \"Right, Jo; better be happy old maids that unhappy wives,\" (p92). However, this feeling of independence is somewhat contradicted in Mrs March sentence; \"I felt very anxious about Father, and thought how lonely and helpless we should be, if anything happened to him.\" (p41) The helplessness is more a feeling than a fact in my interpretation. Are they not already coping without him? But a feature of the perfect woman in a Victorian novel is perhaps to feel helpless without a man in the house. \n",
      "\n",
      "The four sisters in the household represent different kinds of characters. First, there is Meg who has to learn to work and not be idle, and that pretty things are not everything in life. Then there is Jo, and she has to acquire a more womanly behaviour with a moderate temper. Beth is the quiet one of the girls and she has a problem in how to associate with people. The youngest girl is Amy. She is the most selfish one who wants everybody's attention. The process of winning over those temptations and faults is at the same time to become a women of the time, to become more like their mother. They never object to being formed into this model, but the one who seams to have the most problem with it is Jo. She is the most independent individual of them all. It is Jo who is asked to take care of the family when father is gone, she cooks dinner when mother is out, and she sells her hair so that the money can go to their sick father. Independence and the motherly features do not go together very well. \n",
      "\n",
      "The male characters in the Marches domestic world are four in number. What strikes me is their age. They each represent their own generation with old Mr Laurence, middle-aged Mr March, young Mr Brooke and the boy Laurie. They also represent most of the positions that a man can hold in a family; a grandfather, a father, a husband and a brother. Was this a deliberate move by the writer? Furthermore each one of them is more closely connected to one of the women; Mr Laurence to Beth, Mr March to Mrs March, Mr Brooke to Meg, and Laurie to Jo. \n",
      "\n",
      "But in the beginning of the novel the girls do not meet very many male figures. When Jo meets Laurie at the party, he becomes her first male friend who is not her father. \"She liked the 'Laurence boy' better than ever and took several good looks at him, so that she might describe him to the girls, for they had no brothers, very few male cousins, and boys were almost unknown creatures to them.\" (p28) Laurie becomes their brother and friend. He even joins their Pickwick Club after some discussion (the other's being convinced by Jo) and there he stands for the male non-sentimental writing. He is the brother they never had, and together with Jo form the breath of fresh air in the house. \n",
      "\n",
      "No bad pictures are given of any of the male characters except perhaps Mr Laurence, Laurie's grandfather. He is presented as a very strict and stern old man in the beginning, but under this shell lies a soft-hearted man. He and timid Beth develop a friendship to everyone's amazement. (Ch6) When mother leaves to visit their sick father, it is Mr Laurence who will look after and protect the young girls(p149). He almost can be said to become their grandfather. Not much is said about Mr Brooke. He is simply a nice, brown-eyed gentleman and the future husband to Meg. \n",
      "\n",
      "Even if the father of the family is not physically present until the last two chapters of the book, he seems to be as much loved as their mother. They are very happy for his letters, and by the way they are written Mr March seams to be very close to his girls. He knows their so called \"bosom enemies\" (10), which are their sins and trials. In the last chapter he says he can see the improvements that they have made since he last saw them. The praise they get from him is the best reward ever for fighting the day by day temptations. \n",
      "\n",
      "In conclusion, the domestic world of the March's girls was very much influenced by their mother, who in herself represents the perfect Victorian lady. Things as Christian faith, work and modesty are very important. Some of the difficulties which a woman can confront on her journey in becoming the perfect lady are found in each one of the girls. The male influence is represented by four generations and can be said to stand for love, protection, rewarding praise and non-sentimental, spontaneous actions.\n",
      "\n"
     ]
    }
   ],
   "source": [
    "for i in txt_files:\n",
    "    path = os.path.join(subdir_path, i)\n",
    "    with open(path, \"r\", encoding=\"unicode_escape\") as f:\n",
    "        text = f.read()\n",
    "    \n",
    "    result = re.sub(\"<.*?>\", '', text)\n",
    "    print(result)"
   ]
  },
  {
   "cell_type": "code",
   "execution_count": 28,
   "metadata": {},
   "outputs": [],
   "source": [
    "file_path = os.path.join(path, 'a3', '1064.a3.txt')\n",
    "\n",
    "with open(file_path) as f:\n",
    "    text = f.read()"
   ]
  },
  {
   "cell_type": "code",
   "execution_count": 29,
   "metadata": {},
   "outputs": [],
   "source": [
    "import re\n",
    "result = re.sub(\"<.*?>\", '', text)"
   ]
  },
  {
   "cell_type": "code",
   "execution_count": 30,
   "metadata": {},
   "outputs": [
    {
     "data": {
      "text/plain": [
       "'\\n THE V CHIP-A WAY OF REDUCING VIOLENCE \\nToday films and TV programs are filled with all sorts of violence. This is a issue that has been quite often discussed, especially the influence it might have on young people and children in particular. There have however not been many suggestions considering how to deal with the problem. The article \"Locking out violence\" is however presenting a solution to the problem; installing a V chip to your TV would actually make it possible to lock the violence out. This is I think a very good idea and introducing a V chip is something that should be done as soon as possible.\\n\\nIntroducing a V chip would reduce violence not only on the TV but in our whole society. Several studies have shown that there is a link between watching violent programs and aggressive behaviour. A V chip would therefore prevent children from becoming violent as grown ups. This would mean that we would get less violent people in our society and we would be protected from becoming assaulted, beaten down or perhaps even raped. This would in turn mean less job for the police and less for the social services to do. As a consequence, the society would not only get healthier and happier people but would also gain a great deal of money if a V chip was introduced. Introducing a V chip would thus give us a less violent society, which is something we all are interested in getting.\\n\\nA V chip would also make televisions companies and filmmakers start producing less violent programs and films. If people would install V chips in their television sets it would, as previously mentioned, mean that violent programs and films would be locked out. This would mean that filmmakers and television companies would lose a lot of viewers if they made movies including a lot of violence. As a result, they would be inspired to use less violence in their productions. Therefore the introduction of a V chip would result in fewer violent movies and TV productions.\\n\\nSome might say that the V chip is a way of introducing some kind of governmental censorship, but this is ridiculous. People can them selves chose whether or not to install it, they can themselves decide the degree of violence they want locked out. Besides, not having our children in risk of seeing violent episodes on TV and preventing them from all the consequences this have on their well being, should be something obvious. Pornography is for example not allowed to be shown during daytime, no one is calling this governmental censorship but rather common sense. In the same way, the introduction of a V chip is not a censorship, but plain old common sense. \\n\\nThe introduction of a V chip would also mean another important advantage, it would ease parents burden and show that protecting our children from violence is not only a family matter but a societal problem as well. We can see that it is impossible for parents to deal with this problem themselves and it is important to emphasize that it is not just up to them. Take alcohol and smoking for example, of course parents carry a great deal of responsibility in protecting their children from using these substances, but they are also helped and supported by the government in form of a age-limit for buying these things. In the same way, a V chip would be a support for parents who impossibly can control all the programs and films their children are watching, especially not today considering the number of channels we have.\\n\\nTo sum up, a V chip would mean an effective way of protecting our children from all the violence occurring on TV. It would reduce violence in our society because less people would become violent and therefore less people would also be assaulted. The V chip would also be a trigger for television companies and filmmakers to start making less violent films and programs. It would as well ease parents burden, since this after all also is a societal problem not only a family matter. Looking at these advantages, there is no reason why a V chip should not be introduced as soon as possible. This if something everyone should be interested in; protecting our children, ourselves and in fact our whole society.\\n'"
      ]
     },
     "execution_count": 30,
     "metadata": {},
     "output_type": "execute_result"
    }
   ],
   "source": [
    "result"
   ]
  },
  {
   "cell_type": "code",
   "execution_count": 31,
   "metadata": {},
   "outputs": [],
   "source": [
    "test = result.replace(\"\\n\", \"\")"
   ]
  },
  {
   "cell_type": "code",
   "execution_count": 32,
   "metadata": {},
   "outputs": [
    {
     "data": {
      "text/plain": [
       "' THE V CHIP-A WAY OF REDUCING VIOLENCE Today films and TV programs are filled with all sorts of violence. This is a issue that has been quite often discussed, especially the influence it might have on young people and children in particular. There have however not been many suggestions considering how to deal with the problem. The article \"Locking out violence\" is however presenting a solution to the problem; installing a V chip to your TV would actually make it possible to lock the violence out. This is I think a very good idea and introducing a V chip is something that should be done as soon as possible.Introducing a V chip would reduce violence not only on the TV but in our whole society. Several studies have shown that there is a link between watching violent programs and aggressive behaviour. A V chip would therefore prevent children from becoming violent as grown ups. This would mean that we would get less violent people in our society and we would be protected from becoming assaulted, beaten down or perhaps even raped. This would in turn mean less job for the police and less for the social services to do. As a consequence, the society would not only get healthier and happier people but would also gain a great deal of money if a V chip was introduced. Introducing a V chip would thus give us a less violent society, which is something we all are interested in getting.A V chip would also make televisions companies and filmmakers start producing less violent programs and films. If people would install V chips in their television sets it would, as previously mentioned, mean that violent programs and films would be locked out. This would mean that filmmakers and television companies would lose a lot of viewers if they made movies including a lot of violence. As a result, they would be inspired to use less violence in their productions. Therefore the introduction of a V chip would result in fewer violent movies and TV productions.Some might say that the V chip is a way of introducing some kind of governmental censorship, but this is ridiculous. People can them selves chose whether or not to install it, they can themselves decide the degree of violence they want locked out. Besides, not having our children in risk of seeing violent episodes on TV and preventing them from all the consequences this have on their well being, should be something obvious. Pornography is for example not allowed to be shown during daytime, no one is calling this governmental censorship but rather common sense. In the same way, the introduction of a V chip is not a censorship, but plain old common sense. The introduction of a V chip would also mean another important advantage, it would ease parents burden and show that protecting our children from violence is not only a family matter but a societal problem as well. We can see that it is impossible for parents to deal with this problem themselves and it is important to emphasize that it is not just up to them. Take alcohol and smoking for example, of course parents carry a great deal of responsibility in protecting their children from using these substances, but they are also helped and supported by the government in form of a age-limit for buying these things. In the same way, a V chip would be a support for parents who impossibly can control all the programs and films their children are watching, especially not today considering the number of channels we have.To sum up, a V chip would mean an effective way of protecting our children from all the violence occurring on TV. It would reduce violence in our society because less people would become violent and therefore less people would also be assaulted. The V chip would also be a trigger for television companies and filmmakers to start making less violent films and programs. It would as well ease parents burden, since this after all also is a societal problem not only a family matter. Looking at these advantages, there is no reason why a V chip should not be introduced as soon as possible. This if something everyone should be interested in; protecting our children, ourselves and in fact our whole society.'"
      ]
     },
     "execution_count": 32,
     "metadata": {},
     "output_type": "execute_result"
    }
   ],
   "source": [
    "test"
   ]
  },
  {
   "cell_type": "code",
   "execution_count": 103,
   "metadata": {},
   "outputs": [
    {
     "name": "stdout",
     "output_type": "stream",
     "text": [
      "Defaulting to user installation because normal site-packages is not writeable\n",
      "Collecting en-core-web-lg==3.7.1\n",
      "  Downloading https://github.com/explosion/spacy-models/releases/download/en_core_web_lg-3.7.1/en_core_web_lg-3.7.1-py3-none-any.whl (587.7 MB)\n",
      "\u001b[2K     \u001b[90m━━━━━━━━━━━━━━━━━━━━━━━━━━━━━━━━━━━━━━━\u001b[0m \u001b[32m587.7/587.7 MB\u001b[0m \u001b[31m8.0 MB/s\u001b[0m eta \u001b[36m0:00:00\u001b[0m00:01\u001b[0m00:01\u001b[0m\n",
      "\u001b[?25hRequirement already satisfied: spacy<3.8.0,>=3.7.2 in /home/ucloud/.local/lib/python3.10/site-packages (from en-core-web-lg==3.7.1) (3.7.2)\n",
      "Requirement already satisfied: spacy-legacy<3.1.0,>=3.0.11 in /home/ucloud/.local/lib/python3.10/site-packages (from spacy<3.8.0,>=3.7.2->en-core-web-lg==3.7.1) (3.0.12)\n",
      "Requirement already satisfied: spacy-loggers<2.0.0,>=1.0.0 in /home/ucloud/.local/lib/python3.10/site-packages (from spacy<3.8.0,>=3.7.2->en-core-web-lg==3.7.1) (1.0.5)\n",
      "Requirement already satisfied: murmurhash<1.1.0,>=0.28.0 in /home/ucloud/.local/lib/python3.10/site-packages (from spacy<3.8.0,>=3.7.2->en-core-web-lg==3.7.1) (1.0.10)\n",
      "Requirement already satisfied: cymem<2.1.0,>=2.0.2 in /home/ucloud/.local/lib/python3.10/site-packages (from spacy<3.8.0,>=3.7.2->en-core-web-lg==3.7.1) (2.0.8)\n",
      "Requirement already satisfied: preshed<3.1.0,>=3.0.2 in /home/ucloud/.local/lib/python3.10/site-packages (from spacy<3.8.0,>=3.7.2->en-core-web-lg==3.7.1) (3.0.9)\n",
      "Requirement already satisfied: thinc<8.3.0,>=8.1.8 in /home/ucloud/.local/lib/python3.10/site-packages (from spacy<3.8.0,>=3.7.2->en-core-web-lg==3.7.1) (8.2.3)\n",
      "Requirement already satisfied: wasabi<1.2.0,>=0.9.1 in /home/ucloud/.local/lib/python3.10/site-packages (from spacy<3.8.0,>=3.7.2->en-core-web-lg==3.7.1) (1.1.2)\n",
      "Requirement already satisfied: srsly<3.0.0,>=2.4.3 in /home/ucloud/.local/lib/python3.10/site-packages (from spacy<3.8.0,>=3.7.2->en-core-web-lg==3.7.1) (2.4.8)\n",
      "Requirement already satisfied: catalogue<2.1.0,>=2.0.6 in /home/ucloud/.local/lib/python3.10/site-packages (from spacy<3.8.0,>=3.7.2->en-core-web-lg==3.7.1) (2.0.10)\n",
      "Requirement already satisfied: weasel<0.4.0,>=0.1.0 in /home/ucloud/.local/lib/python3.10/site-packages (from spacy<3.8.0,>=3.7.2->en-core-web-lg==3.7.1) (0.3.4)\n",
      "Requirement already satisfied: typer<0.10.0,>=0.3.0 in /home/ucloud/.local/lib/python3.10/site-packages (from spacy<3.8.0,>=3.7.2->en-core-web-lg==3.7.1) (0.9.0)\n",
      "Requirement already satisfied: smart-open<7.0.0,>=5.2.1 in /home/ucloud/.local/lib/python3.10/site-packages (from spacy<3.8.0,>=3.7.2->en-core-web-lg==3.7.1) (6.4.0)\n",
      "Requirement already satisfied: tqdm<5.0.0,>=4.38.0 in /home/ucloud/.local/lib/python3.10/site-packages (from spacy<3.8.0,>=3.7.2->en-core-web-lg==3.7.1) (4.66.2)\n",
      "Requirement already satisfied: requests<3.0.0,>=2.13.0 in /home/ucloud/.local/lib/python3.10/site-packages (from spacy<3.8.0,>=3.7.2->en-core-web-lg==3.7.1) (2.31.0)\n",
      "Requirement already satisfied: pydantic!=1.8,!=1.8.1,<3.0.0,>=1.7.4 in /home/ucloud/.local/lib/python3.10/site-packages (from spacy<3.8.0,>=3.7.2->en-core-web-lg==3.7.1) (2.6.1)\n",
      "Requirement already satisfied: jinja2 in /home/ucloud/.local/lib/python3.10/site-packages (from spacy<3.8.0,>=3.7.2->en-core-web-lg==3.7.1) (3.1.3)\n",
      "Requirement already satisfied: setuptools in /usr/lib/python3/dist-packages (from spacy<3.8.0,>=3.7.2->en-core-web-lg==3.7.1) (59.6.0)\n",
      "Requirement already satisfied: packaging>=20.0 in /home/ucloud/.local/lib/python3.10/site-packages (from spacy<3.8.0,>=3.7.2->en-core-web-lg==3.7.1) (23.2)\n",
      "Requirement already satisfied: langcodes<4.0.0,>=3.2.0 in /home/ucloud/.local/lib/python3.10/site-packages (from spacy<3.8.0,>=3.7.2->en-core-web-lg==3.7.1) (3.3.0)\n",
      "Requirement already satisfied: numpy>=1.19.0 in /home/ucloud/.local/lib/python3.10/site-packages (from spacy<3.8.0,>=3.7.2->en-core-web-lg==3.7.1) (1.26.4)\n",
      "Requirement already satisfied: annotated-types>=0.4.0 in /home/ucloud/.local/lib/python3.10/site-packages (from pydantic!=1.8,!=1.8.1,<3.0.0,>=1.7.4->spacy<3.8.0,>=3.7.2->en-core-web-lg==3.7.1) (0.6.0)\n",
      "Requirement already satisfied: pydantic-core==2.16.2 in /home/ucloud/.local/lib/python3.10/site-packages (from pydantic!=1.8,!=1.8.1,<3.0.0,>=1.7.4->spacy<3.8.0,>=3.7.2->en-core-web-lg==3.7.1) (2.16.2)\n",
      "Requirement already satisfied: typing-extensions>=4.6.1 in /home/ucloud/.local/lib/python3.10/site-packages (from pydantic!=1.8,!=1.8.1,<3.0.0,>=1.7.4->spacy<3.8.0,>=3.7.2->en-core-web-lg==3.7.1) (4.9.0)\n",
      "Requirement already satisfied: charset-normalizer<4,>=2 in /home/ucloud/.local/lib/python3.10/site-packages (from requests<3.0.0,>=2.13.0->spacy<3.8.0,>=3.7.2->en-core-web-lg==3.7.1) (3.3.2)\n",
      "Requirement already satisfied: idna<4,>=2.5 in /home/ucloud/.local/lib/python3.10/site-packages (from requests<3.0.0,>=2.13.0->spacy<3.8.0,>=3.7.2->en-core-web-lg==3.7.1) (3.6)\n",
      "Requirement already satisfied: urllib3<3,>=1.21.1 in /home/ucloud/.local/lib/python3.10/site-packages (from requests<3.0.0,>=2.13.0->spacy<3.8.0,>=3.7.2->en-core-web-lg==3.7.1) (2.2.0)\n",
      "Requirement already satisfied: certifi>=2017.4.17 in /home/ucloud/.local/lib/python3.10/site-packages (from requests<3.0.0,>=2.13.0->spacy<3.8.0,>=3.7.2->en-core-web-lg==3.7.1) (2024.2.2)\n",
      "Requirement already satisfied: blis<0.8.0,>=0.7.8 in /home/ucloud/.local/lib/python3.10/site-packages (from thinc<8.3.0,>=8.1.8->spacy<3.8.0,>=3.7.2->en-core-web-lg==3.7.1) (0.7.11)\n",
      "Requirement already satisfied: confection<1.0.0,>=0.0.1 in /home/ucloud/.local/lib/python3.10/site-packages (from thinc<8.3.0,>=8.1.8->spacy<3.8.0,>=3.7.2->en-core-web-lg==3.7.1) (0.1.4)\n",
      "Requirement already satisfied: click<9.0.0,>=7.1.1 in /usr/lib/python3/dist-packages (from typer<0.10.0,>=0.3.0->spacy<3.8.0,>=3.7.2->en-core-web-lg==3.7.1) (8.0.3)\n",
      "Requirement already satisfied: cloudpathlib<0.17.0,>=0.7.0 in /home/ucloud/.local/lib/python3.10/site-packages (from weasel<0.4.0,>=0.1.0->spacy<3.8.0,>=3.7.2->en-core-web-lg==3.7.1) (0.16.0)\n",
      "Requirement already satisfied: MarkupSafe>=2.0 in /home/ucloud/.local/lib/python3.10/site-packages (from jinja2->spacy<3.8.0,>=3.7.2->en-core-web-lg==3.7.1) (2.1.5)\n",
      "\u001b[38;5;2m✔ Download and installation successful\u001b[0m\n",
      "You can now load the package via spacy.load('en_core_web_lg')\n"
     ]
    }
   ],
   "source": [
    "!python -m spacy download en_core_web_lg"
   ]
  },
  {
   "cell_type": "code",
   "execution_count": 104,
   "metadata": {},
   "outputs": [
    {
     "name": "stdout",
     "output_type": "stream",
     "text": [
      "james\n",
      "works\n",
      "at\n",
      "Facebook\n",
      "which\n",
      "is\n",
      "in\n",
      "Silicon\n",
      "Valley\n"
     ]
    }
   ],
   "source": [
    "nlp = spacy.load(\"en_core_web_lg\")\n",
    "doc = nlp('james works at Facebook which is in Silicon Valley')\n",
    "for token in doc:\n",
    "    print(token.text)"
   ]
  },
  {
   "cell_type": "code",
   "execution_count": 105,
   "metadata": {},
   "outputs": [
    {
     "name": "stdout",
     "output_type": "stream",
     "text": [
      "PROPN\n",
      "VERB\n",
      "ADP\n",
      "PROPN\n",
      "PRON\n",
      "AUX\n",
      "ADP\n",
      "PROPN\n",
      "PROPN\n"
     ]
    }
   ],
   "source": [
    "for token in doc:\n",
    "    print(token.pos_)"
   ]
  },
  {
   "cell_type": "code",
   "execution_count": 193,
   "metadata": {},
   "outputs": [],
   "source": [
    "text = []\n",
    "ner = []\n",
    "for ent in doc.ents:\n",
    "    text.append(ent.text)\n",
    "    ner.append(ent.label_)"
   ]
  },
  {
   "cell_type": "code",
   "execution_count": 195,
   "metadata": {},
   "outputs": [
    {
     "data": {
      "text/plain": [
       "['English',\n",
       " 'four',\n",
       " 'Eight years ago',\n",
       " 'US',\n",
       " 'two years',\n",
       " 'English',\n",
       " 'today',\n",
       " 'English',\n",
       " 'US',\n",
       " 'four',\n",
       " 'four',\n",
       " 'four',\n",
       " 'American',\n",
       " 'English',\n",
       " 'Brittish',\n",
       " 'English',\n",
       " 'English',\n",
       " 'English',\n",
       " 'English',\n",
       " 'wich',\n",
       " 'US',\n",
       " 'the years',\n",
       " 'English',\n",
       " 'four',\n",
       " 'four']"
      ]
     },
     "execution_count": 195,
     "metadata": {},
     "output_type": "execute_result"
    }
   ],
   "source": [
    "text"
   ]
  },
  {
   "cell_type": "code",
   "execution_count": 71,
   "metadata": {},
   "outputs": [
    {
     "data": {
      "text/plain": [
       "0"
      ]
     },
     "execution_count": 71,
     "metadata": {},
     "output_type": "execute_result"
    }
   ],
   "source": [
    "ner.count('DATE')"
   ]
  },
  {
   "cell_type": "code",
   "execution_count": null,
   "metadata": {},
   "outputs": [],
   "source": []
  },
  {
   "cell_type": "code",
   "execution_count": 79,
   "metadata": {},
   "outputs": [
    {
     "data": {
      "text/plain": [
       "'NOUN'"
      ]
     },
     "execution_count": 79,
     "metadata": {},
     "output_type": "execute_result"
    }
   ],
   "source": [
    "doc[0].pos_"
   ]
  },
  {
   "cell_type": "code",
   "execution_count": 80,
   "metadata": {},
   "outputs": [
    {
     "name": "stdout",
     "output_type": "stream",
     "text": [
      "[]\n"
     ]
    }
   ],
   "source": [
    "ents = [(e.text, e.label_) for e in doc.ents]\n",
    "print(ents)"
   ]
  },
  {
   "cell_type": "code",
   "execution_count": 56,
   "metadata": {},
   "outputs": [
    {
     "data": {
      "text/plain": [
       "('THE V CHIP-A WAY OF REDUCING VIOLENCE Today', 'ORG')"
      ]
     },
     "execution_count": 56,
     "metadata": {},
     "output_type": "execute_result"
    }
   ],
   "source": [
    "ents[0]"
   ]
  },
  {
   "cell_type": "code",
   "execution_count": null,
   "metadata": {},
   "outputs": [],
   "source": []
  }
 ],
 "metadata": {
  "kernelspec": {
   "display_name": "Python 3",
   "language": "python",
   "name": "python3"
  },
  "language_info": {
   "codemirror_mode": {
    "name": "ipython",
    "version": 3
   },
   "file_extension": ".py",
   "mimetype": "text/x-python",
   "name": "python",
   "nbconvert_exporter": "python",
   "pygments_lexer": "ipython3",
   "version": "3.10.12"
  }
 },
 "nbformat": 4,
 "nbformat_minor": 2
}
